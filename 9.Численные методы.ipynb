{
 "cells": [
  {
   "cell_type": "markdown",
   "metadata": {},
   "source": [
    "# Определение стоимости автомобилей"
   ]
  },
  {
   "cell_type": "markdown",
   "metadata": {},
   "source": [
    "Сервис по продаже автомобилей с пробегом «Не бит, не крашен» разрабатывает приложение для привлечения новых клиентов. В нём можно быстро узнать рыночную стоимость своего автомобиля. В вашем распоряжении исторические данные: технические характеристики, комплектации и цены автомобилей. Вам нужно построить модель для определения стоимости. \n",
    "\n",
    "Заказчику важны:\n",
    "\n",
    "- качество предсказания;\n",
    "- скорость предсказания;\n",
    "- время обучения."
   ]
  },
  {
   "cell_type": "markdown",
   "metadata": {},
   "source": [
    "## Описание данных"
   ]
  },
  {
   "cell_type": "markdown",
   "metadata": {},
   "source": [
    "**Признаки:**\n",
    "\n",
    "- DateCrawled — дата скачивания анкеты из базы\n",
    "- VehicleType — тип автомобильного кузова\n",
    "- RegistrationYear — год регистрации автомобиля\n",
    "- Gearbox — тип коробки передач\n",
    "- Power — мощность (л. с.)\n",
    "- Model — модель автомобиля\n",
    "- Kilometer — пробег (км)\n",
    "- RegistrationMonth — месяц регистрации автомобиля\n",
    "- FuelType — тип топлива\n",
    "- Brand — марка автомобиля\n",
    "- Repaired — была машина в ремонте или нет\n",
    "- DateCreated — дата создания анкеты\n",
    "- NumberOfPictures — количество фотографий автомобиля\n",
    "- PostalCode — почтовый индекс владельца анкеты (пользователя)\n",
    "- LastSeen — дата последней активности пользователя\n",
    "\n",
    "**Целевой признак:**\n",
    "\n",
    "- Price — цена (евро)"
   ]
  },
  {
   "cell_type": "markdown",
   "metadata": {},
   "source": [
    "## Подготовка данных"
   ]
  },
  {
   "cell_type": "markdown",
   "metadata": {},
   "source": [
    "Импортируем необходимые библиотеки"
   ]
  },
  {
   "cell_type": "code",
   "execution_count": 1,
   "metadata": {},
   "outputs": [],
   "source": [
    "import os\n",
    "import matplotlib.pyplot as plt\n",
    "import pandas as pd\n",
    "from sklearn.metrics import mean_squared_error, make_scorer\n",
    "from sklearn.model_selection import train_test_split\n",
    "from sklearn.preprocessing import OrdinalEncoder, StandardScaler\n",
    "from sklearn.linear_model import LinearRegression\n",
    "from sklearn.tree import DecisionTreeRegressor\n",
    "from sklearn.ensemble import RandomForestRegressor\n",
    "from lightgbm import LGBMRegressor\n",
    "from sklearn.dummy import DummyRegressor"
   ]
  },
  {
   "cell_type": "markdown",
   "metadata": {},
   "source": [
    "Загрузим датафрейм"
   ]
  },
  {
   "cell_type": "code",
   "execution_count": 2,
   "metadata": {},
   "outputs": [],
   "source": [
    "pth = '/datasets/autos.csv'\n",
    "\n",
    "if os.path.exists(pth):\n",
    "    data = pd.read_csv(pth)\n",
    "else:\n",
    "    print('Something is wrong')"
   ]
  },
  {
   "cell_type": "markdown",
   "metadata": {},
   "source": [
    "Выведем первые 5 строчек датафрейма и посмотрим общую информацию о нем"
   ]
  },
  {
   "cell_type": "code",
   "execution_count": 3,
   "metadata": {},
   "outputs": [
    {
     "name": "stdout",
     "output_type": "stream",
     "text": [
      "<class 'pandas.core.frame.DataFrame'>\n",
      "RangeIndex: 354369 entries, 0 to 354368\n",
      "Data columns (total 16 columns):\n",
      " #   Column             Non-Null Count   Dtype \n",
      "---  ------             --------------   ----- \n",
      " 0   DateCrawled        354369 non-null  object\n",
      " 1   Price              354369 non-null  int64 \n",
      " 2   VehicleType        316879 non-null  object\n",
      " 3   RegistrationYear   354369 non-null  int64 \n",
      " 4   Gearbox            334536 non-null  object\n",
      " 5   Power              354369 non-null  int64 \n",
      " 6   Model              334664 non-null  object\n",
      " 7   Kilometer          354369 non-null  int64 \n",
      " 8   RegistrationMonth  354369 non-null  int64 \n",
      " 9   FuelType           321474 non-null  object\n",
      " 10  Brand              354369 non-null  object\n",
      " 11  Repaired           283215 non-null  object\n",
      " 12  DateCreated        354369 non-null  object\n",
      " 13  NumberOfPictures   354369 non-null  int64 \n",
      " 14  PostalCode         354369 non-null  int64 \n",
      " 15  LastSeen           354369 non-null  object\n",
      "dtypes: int64(7), object(9)\n",
      "memory usage: 43.3+ MB\n"
     ]
    }
   ],
   "source": [
    "data.info()"
   ]
  },
  {
   "cell_type": "code",
   "execution_count": 4,
   "metadata": {},
   "outputs": [
    {
     "data": {
      "text/html": [
       "<div>\n",
       "<style scoped>\n",
       "    .dataframe tbody tr th:only-of-type {\n",
       "        vertical-align: middle;\n",
       "    }\n",
       "\n",
       "    .dataframe tbody tr th {\n",
       "        vertical-align: top;\n",
       "    }\n",
       "\n",
       "    .dataframe thead th {\n",
       "        text-align: right;\n",
       "    }\n",
       "</style>\n",
       "<table border=\"1\" class=\"dataframe\">\n",
       "  <thead>\n",
       "    <tr style=\"text-align: right;\">\n",
       "      <th></th>\n",
       "      <th>DateCrawled</th>\n",
       "      <th>Price</th>\n",
       "      <th>VehicleType</th>\n",
       "      <th>RegistrationYear</th>\n",
       "      <th>Gearbox</th>\n",
       "      <th>Power</th>\n",
       "      <th>Model</th>\n",
       "      <th>Kilometer</th>\n",
       "      <th>RegistrationMonth</th>\n",
       "      <th>FuelType</th>\n",
       "      <th>Brand</th>\n",
       "      <th>Repaired</th>\n",
       "      <th>DateCreated</th>\n",
       "      <th>NumberOfPictures</th>\n",
       "      <th>PostalCode</th>\n",
       "      <th>LastSeen</th>\n",
       "    </tr>\n",
       "  </thead>\n",
       "  <tbody>\n",
       "    <tr>\n",
       "      <th>0</th>\n",
       "      <td>2016-03-24 11:52:17</td>\n",
       "      <td>480</td>\n",
       "      <td>NaN</td>\n",
       "      <td>1993</td>\n",
       "      <td>manual</td>\n",
       "      <td>0</td>\n",
       "      <td>golf</td>\n",
       "      <td>150000</td>\n",
       "      <td>0</td>\n",
       "      <td>petrol</td>\n",
       "      <td>volkswagen</td>\n",
       "      <td>NaN</td>\n",
       "      <td>2016-03-24 00:00:00</td>\n",
       "      <td>0</td>\n",
       "      <td>70435</td>\n",
       "      <td>2016-04-07 03:16:57</td>\n",
       "    </tr>\n",
       "    <tr>\n",
       "      <th>1</th>\n",
       "      <td>2016-03-24 10:58:45</td>\n",
       "      <td>18300</td>\n",
       "      <td>coupe</td>\n",
       "      <td>2011</td>\n",
       "      <td>manual</td>\n",
       "      <td>190</td>\n",
       "      <td>NaN</td>\n",
       "      <td>125000</td>\n",
       "      <td>5</td>\n",
       "      <td>gasoline</td>\n",
       "      <td>audi</td>\n",
       "      <td>yes</td>\n",
       "      <td>2016-03-24 00:00:00</td>\n",
       "      <td>0</td>\n",
       "      <td>66954</td>\n",
       "      <td>2016-04-07 01:46:50</td>\n",
       "    </tr>\n",
       "    <tr>\n",
       "      <th>2</th>\n",
       "      <td>2016-03-14 12:52:21</td>\n",
       "      <td>9800</td>\n",
       "      <td>suv</td>\n",
       "      <td>2004</td>\n",
       "      <td>auto</td>\n",
       "      <td>163</td>\n",
       "      <td>grand</td>\n",
       "      <td>125000</td>\n",
       "      <td>8</td>\n",
       "      <td>gasoline</td>\n",
       "      <td>jeep</td>\n",
       "      <td>NaN</td>\n",
       "      <td>2016-03-14 00:00:00</td>\n",
       "      <td>0</td>\n",
       "      <td>90480</td>\n",
       "      <td>2016-04-05 12:47:46</td>\n",
       "    </tr>\n",
       "    <tr>\n",
       "      <th>3</th>\n",
       "      <td>2016-03-17 16:54:04</td>\n",
       "      <td>1500</td>\n",
       "      <td>small</td>\n",
       "      <td>2001</td>\n",
       "      <td>manual</td>\n",
       "      <td>75</td>\n",
       "      <td>golf</td>\n",
       "      <td>150000</td>\n",
       "      <td>6</td>\n",
       "      <td>petrol</td>\n",
       "      <td>volkswagen</td>\n",
       "      <td>no</td>\n",
       "      <td>2016-03-17 00:00:00</td>\n",
       "      <td>0</td>\n",
       "      <td>91074</td>\n",
       "      <td>2016-03-17 17:40:17</td>\n",
       "    </tr>\n",
       "    <tr>\n",
       "      <th>4</th>\n",
       "      <td>2016-03-31 17:25:20</td>\n",
       "      <td>3600</td>\n",
       "      <td>small</td>\n",
       "      <td>2008</td>\n",
       "      <td>manual</td>\n",
       "      <td>69</td>\n",
       "      <td>fabia</td>\n",
       "      <td>90000</td>\n",
       "      <td>7</td>\n",
       "      <td>gasoline</td>\n",
       "      <td>skoda</td>\n",
       "      <td>no</td>\n",
       "      <td>2016-03-31 00:00:00</td>\n",
       "      <td>0</td>\n",
       "      <td>60437</td>\n",
       "      <td>2016-04-06 10:17:21</td>\n",
       "    </tr>\n",
       "  </tbody>\n",
       "</table>\n",
       "</div>"
      ],
      "text/plain": [
       "           DateCrawled  Price VehicleType  RegistrationYear Gearbox  Power  \\\n",
       "0  2016-03-24 11:52:17    480         NaN              1993  manual      0   \n",
       "1  2016-03-24 10:58:45  18300       coupe              2011  manual    190   \n",
       "2  2016-03-14 12:52:21   9800         suv              2004    auto    163   \n",
       "3  2016-03-17 16:54:04   1500       small              2001  manual     75   \n",
       "4  2016-03-31 17:25:20   3600       small              2008  manual     69   \n",
       "\n",
       "   Model  Kilometer  RegistrationMonth  FuelType       Brand Repaired  \\\n",
       "0   golf     150000                  0    petrol  volkswagen      NaN   \n",
       "1    NaN     125000                  5  gasoline        audi      yes   \n",
       "2  grand     125000                  8  gasoline        jeep      NaN   \n",
       "3   golf     150000                  6    petrol  volkswagen       no   \n",
       "4  fabia      90000                  7  gasoline       skoda       no   \n",
       "\n",
       "           DateCreated  NumberOfPictures  PostalCode             LastSeen  \n",
       "0  2016-03-24 00:00:00                 0       70435  2016-04-07 03:16:57  \n",
       "1  2016-03-24 00:00:00                 0       66954  2016-04-07 01:46:50  \n",
       "2  2016-03-14 00:00:00                 0       90480  2016-04-05 12:47:46  \n",
       "3  2016-03-17 00:00:00                 0       91074  2016-03-17 17:40:17  \n",
       "4  2016-03-31 00:00:00                 0       60437  2016-04-06 10:17:21  "
      ]
     },
     "execution_count": 4,
     "metadata": {},
     "output_type": "execute_result"
    }
   ],
   "source": [
    "data.head()"
   ]
  },
  {
   "cell_type": "markdown",
   "metadata": {},
   "source": [
    "Переменуем названия столбцов в соответствии со змеином стилем для удобства работы со столбцами  "
   ]
  },
  {
   "cell_type": "code",
   "execution_count": 5,
   "metadata": {},
   "outputs": [],
   "source": [
    "data = data.rename(str.lower, axis='columns').rename(columns={\n",
    "    'datecrawled':'date_crawled',\n",
    "    'vehicletype':'vehicle_type',\n",
    "    'registrationyear':'registration_year',\n",
    "    'registrationmonth':'registration_month',\n",
    "    'fueltype':'fuel_type',\n",
    "    'datecreated':'date_created',\n",
    "    'numberofpictures':'number_of_pictures',\n",
    "    'postalcode':'postal_code',\n",
    "    'lastseen':'last_seen'\n",
    "})"
   ]
  },
  {
   "cell_type": "markdown",
   "metadata": {},
   "source": [
    "Уберем столбцы с неинформативными признаками"
   ]
  },
  {
   "cell_type": "code",
   "execution_count": 6,
   "metadata": {},
   "outputs": [],
   "source": [
    "data = data.drop(['date_crawled', 'registration_month', 'date_created','postal_code','last_seen'], axis=1)"
   ]
  },
  {
   "cell_type": "markdown",
   "metadata": {},
   "source": [
    "Были убраны такие столбцы как: \n",
    "\n",
    "- date_crawled — дата скачивания анкеты из базы\n",
    "- registration_month — месяц регистрации автомобиля\n",
    "- date_created — дата создания анкеты\n",
    "- postal_code — почтовый индекс владельца анкеты (пользователя)\n",
    "- last_seen — дата последней активности пользователя"
   ]
  },
  {
   "cell_type": "markdown",
   "metadata": {},
   "source": [
    "Посмотрим какое количество пропусков содержит наш датафрейм"
   ]
  },
  {
   "cell_type": "code",
   "execution_count": 7,
   "metadata": {
    "scrolled": true
   },
   "outputs": [
    {
     "data": {
      "text/plain": [
       "price                     0\n",
       "vehicle_type          37490\n",
       "registration_year         0\n",
       "gearbox               19833\n",
       "power                     0\n",
       "model                 19705\n",
       "kilometer                 0\n",
       "fuel_type             32895\n",
       "brand                     0\n",
       "repaired              71154\n",
       "number_of_pictures        0\n",
       "dtype: int64"
      ]
     },
     "execution_count": 7,
     "metadata": {},
     "output_type": "execute_result"
    }
   ],
   "source": [
    "data.isna().sum()"
   ]
  },
  {
   "cell_type": "markdown",
   "metadata": {},
   "source": [
    "Все столбцы, которые в которых обнаружены пропуски, содержат категориальные признаки. Чтобы не удалять такое количество данных, заменим все пропуски на значение 'unknow'"
   ]
  },
  {
   "cell_type": "code",
   "execution_count": 8,
   "metadata": {},
   "outputs": [],
   "source": [
    "data = data.fillna('unknow')"
   ]
  },
  {
   "cell_type": "markdown",
   "metadata": {},
   "source": [
    "Найдем неявные дубликаты в колонках с категориальными данными"
   ]
  },
  {
   "cell_type": "code",
   "execution_count": 9,
   "metadata": {
    "scrolled": false
   },
   "outputs": [
    {
     "data": {
      "text/plain": [
       "array(['unknow', 'coupe', 'suv', 'small', 'sedan', 'convertible', 'bus',\n",
       "       'wagon', 'other'], dtype=object)"
      ]
     },
     "execution_count": 9,
     "metadata": {},
     "output_type": "execute_result"
    }
   ],
   "source": [
    "data['vehicle_type'].unique()"
   ]
  },
  {
   "cell_type": "markdown",
   "metadata": {},
   "source": [
    "Неявные дубликаты не обнаружены"
   ]
  },
  {
   "cell_type": "code",
   "execution_count": 10,
   "metadata": {},
   "outputs": [
    {
     "data": {
      "text/plain": [
       "array(['manual', 'auto', 'unknow'], dtype=object)"
      ]
     },
     "execution_count": 10,
     "metadata": {},
     "output_type": "execute_result"
    }
   ],
   "source": [
    "data['gearbox'].unique()"
   ]
  },
  {
   "cell_type": "markdown",
   "metadata": {},
   "source": [
    "Неявные дубликаты не обнаружены"
   ]
  },
  {
   "cell_type": "code",
   "execution_count": 11,
   "metadata": {
    "scrolled": true
   },
   "outputs": [
    {
     "data": {
      "text/plain": [
       "['100',\n",
       " '145',\n",
       " '147',\n",
       " '156',\n",
       " '159',\n",
       " '1_reihe',\n",
       " '1er',\n",
       " '200',\n",
       " '2_reihe',\n",
       " '300c',\n",
       " '3_reihe',\n",
       " '3er',\n",
       " '4_reihe',\n",
       " '500',\n",
       " '5_reihe',\n",
       " '5er',\n",
       " '601',\n",
       " '6_reihe',\n",
       " '6er',\n",
       " '7er',\n",
       " '80',\n",
       " '850',\n",
       " '90',\n",
       " '900',\n",
       " '9000',\n",
       " '911',\n",
       " 'a1',\n",
       " 'a2',\n",
       " 'a3',\n",
       " 'a4',\n",
       " 'a5',\n",
       " 'a6',\n",
       " 'a8',\n",
       " 'a_klasse',\n",
       " 'accord',\n",
       " 'agila',\n",
       " 'alhambra',\n",
       " 'almera',\n",
       " 'altea',\n",
       " 'amarok',\n",
       " 'antara',\n",
       " 'arosa',\n",
       " 'astra',\n",
       " 'auris',\n",
       " 'avensis',\n",
       " 'aveo',\n",
       " 'aygo',\n",
       " 'b_klasse',\n",
       " 'b_max',\n",
       " 'beetle',\n",
       " 'berlingo',\n",
       " 'bora',\n",
       " 'boxster',\n",
       " 'bravo',\n",
       " 'c1',\n",
       " 'c2',\n",
       " 'c3',\n",
       " 'c4',\n",
       " 'c5',\n",
       " 'c_klasse',\n",
       " 'c_max',\n",
       " 'c_reihe',\n",
       " 'caddy',\n",
       " 'calibra',\n",
       " 'captiva',\n",
       " 'carisma',\n",
       " 'carnival',\n",
       " 'cayenne',\n",
       " 'cc',\n",
       " 'ceed',\n",
       " 'charade',\n",
       " 'cherokee',\n",
       " 'citigo',\n",
       " 'civic',\n",
       " 'cl',\n",
       " 'clio',\n",
       " 'clk',\n",
       " 'clubman',\n",
       " 'colt',\n",
       " 'combo',\n",
       " 'cooper',\n",
       " 'cordoba',\n",
       " 'corolla',\n",
       " 'corsa',\n",
       " 'cr_reihe',\n",
       " 'croma',\n",
       " 'crossfire',\n",
       " 'cuore',\n",
       " 'cx_reihe',\n",
       " 'defender',\n",
       " 'delta',\n",
       " 'discovery',\n",
       " 'doblo',\n",
       " 'ducato',\n",
       " 'duster',\n",
       " 'e_klasse',\n",
       " 'elefantino',\n",
       " 'eos',\n",
       " 'escort',\n",
       " 'espace',\n",
       " 'exeo',\n",
       " 'fabia',\n",
       " 'fiesta',\n",
       " 'focus',\n",
       " 'forester',\n",
       " 'forfour',\n",
       " 'fortwo',\n",
       " 'fox',\n",
       " 'freelander',\n",
       " 'fusion',\n",
       " 'g_klasse',\n",
       " 'galant',\n",
       " 'galaxy',\n",
       " 'getz',\n",
       " 'gl',\n",
       " 'glk',\n",
       " 'golf',\n",
       " 'grand',\n",
       " 'i3',\n",
       " 'i_reihe',\n",
       " 'ibiza',\n",
       " 'impreza',\n",
       " 'insignia',\n",
       " 'jazz',\n",
       " 'jetta',\n",
       " 'jimny',\n",
       " 'juke',\n",
       " 'justy',\n",
       " 'ka',\n",
       " 'kadett',\n",
       " 'kaefer',\n",
       " 'kalina',\n",
       " 'kalos',\n",
       " 'kangoo',\n",
       " 'kappa',\n",
       " 'kuga',\n",
       " 'laguna',\n",
       " 'lancer',\n",
       " 'lanos',\n",
       " 'legacy',\n",
       " 'leon',\n",
       " 'lodgy',\n",
       " 'logan',\n",
       " 'lupo',\n",
       " 'lybra',\n",
       " 'm_klasse',\n",
       " 'm_reihe',\n",
       " 'materia',\n",
       " 'matiz',\n",
       " 'megane',\n",
       " 'meriva',\n",
       " 'micra',\n",
       " 'mii',\n",
       " 'modus',\n",
       " 'mondeo',\n",
       " 'move',\n",
       " 'musa',\n",
       " 'mustang',\n",
       " 'mx_reihe',\n",
       " 'navara',\n",
       " 'niva',\n",
       " 'note',\n",
       " 'nubira',\n",
       " 'octavia',\n",
       " 'omega',\n",
       " 'one',\n",
       " 'other',\n",
       " 'outlander',\n",
       " 'pajero',\n",
       " 'panda',\n",
       " 'passat',\n",
       " 'phaeton',\n",
       " 'picanto',\n",
       " 'polo',\n",
       " 'primera',\n",
       " 'ptcruiser',\n",
       " 'punto',\n",
       " 'q3',\n",
       " 'q5',\n",
       " 'q7',\n",
       " 'qashqai',\n",
       " 'r19',\n",
       " 'range_rover',\n",
       " 'range_rover_evoque',\n",
       " 'range_rover_sport',\n",
       " 'rangerover',\n",
       " 'rav',\n",
       " 'rio',\n",
       " 'roadster',\n",
       " 'roomster',\n",
       " 'rx_reihe',\n",
       " 's60',\n",
       " 's_klasse',\n",
       " 's_max',\n",
       " 's_type',\n",
       " 'samara',\n",
       " 'sandero',\n",
       " 'santa',\n",
       " 'scenic',\n",
       " 'scirocco',\n",
       " 'seicento',\n",
       " 'serie_1',\n",
       " 'serie_2',\n",
       " 'serie_3',\n",
       " 'sharan',\n",
       " 'signum',\n",
       " 'sirion',\n",
       " 'sl',\n",
       " 'slk',\n",
       " 'sorento',\n",
       " 'spark',\n",
       " 'spider',\n",
       " 'sportage',\n",
       " 'sprinter',\n",
       " 'stilo',\n",
       " 'superb',\n",
       " 'swift',\n",
       " 'terios',\n",
       " 'tigra',\n",
       " 'tiguan',\n",
       " 'toledo',\n",
       " 'touareg',\n",
       " 'touran',\n",
       " 'transit',\n",
       " 'transporter',\n",
       " 'tt',\n",
       " 'tucson',\n",
       " 'twingo',\n",
       " 'unknow',\n",
       " 'up',\n",
       " 'v40',\n",
       " 'v50',\n",
       " 'v60',\n",
       " 'v70',\n",
       " 'v_klasse',\n",
       " 'vectra',\n",
       " 'verso',\n",
       " 'viano',\n",
       " 'vito',\n",
       " 'vivaro',\n",
       " 'voyager',\n",
       " 'wrangler',\n",
       " 'x_reihe',\n",
       " 'x_trail',\n",
       " 'x_type',\n",
       " 'xc_reihe',\n",
       " 'yaris',\n",
       " 'yeti',\n",
       " 'ypsilon',\n",
       " 'z_reihe',\n",
       " 'zafira']"
      ]
     },
     "execution_count": 11,
     "metadata": {},
     "output_type": "execute_result"
    }
   ],
   "source": [
    "sorted(data['model'].unique())"
   ]
  },
  {
   "cell_type": "markdown",
   "metadata": {},
   "source": [
    "Обнаружен 1 неявные дубликат со значением rangerover и range_rover. Заменим значение rangerover на range_rover"
   ]
  },
  {
   "cell_type": "code",
   "execution_count": 12,
   "metadata": {},
   "outputs": [],
   "source": [
    "data['model'] = data['model'].replace('rangerover', 'range_rover')"
   ]
  },
  {
   "cell_type": "code",
   "execution_count": 13,
   "metadata": {},
   "outputs": [
    {
     "data": {
      "text/plain": [
       "array(['petrol', 'gasoline', 'unknow', 'lpg', 'other', 'hybrid', 'cng',\n",
       "       'electric'], dtype=object)"
      ]
     },
     "execution_count": 13,
     "metadata": {},
     "output_type": "execute_result"
    }
   ],
   "source": [
    "data['fuel_type'].unique()"
   ]
  },
  {
   "cell_type": "markdown",
   "metadata": {},
   "source": [
    "Неявные дубликаты не обнаружены"
   ]
  },
  {
   "cell_type": "code",
   "execution_count": 14,
   "metadata": {
    "scrolled": true
   },
   "outputs": [
    {
     "data": {
      "text/plain": [
       "['alfa_romeo',\n",
       " 'audi',\n",
       " 'bmw',\n",
       " 'chevrolet',\n",
       " 'chrysler',\n",
       " 'citroen',\n",
       " 'dacia',\n",
       " 'daewoo',\n",
       " 'daihatsu',\n",
       " 'fiat',\n",
       " 'ford',\n",
       " 'honda',\n",
       " 'hyundai',\n",
       " 'jaguar',\n",
       " 'jeep',\n",
       " 'kia',\n",
       " 'lada',\n",
       " 'lancia',\n",
       " 'land_rover',\n",
       " 'mazda',\n",
       " 'mercedes_benz',\n",
       " 'mini',\n",
       " 'mitsubishi',\n",
       " 'nissan',\n",
       " 'opel',\n",
       " 'peugeot',\n",
       " 'porsche',\n",
       " 'renault',\n",
       " 'rover',\n",
       " 'saab',\n",
       " 'seat',\n",
       " 'skoda',\n",
       " 'smart',\n",
       " 'sonstige_autos',\n",
       " 'subaru',\n",
       " 'suzuki',\n",
       " 'toyota',\n",
       " 'trabant',\n",
       " 'volkswagen',\n",
       " 'volvo']"
      ]
     },
     "execution_count": 14,
     "metadata": {},
     "output_type": "execute_result"
    }
   ],
   "source": [
    "sorted(data['brand'].unique())"
   ]
  },
  {
   "cell_type": "markdown",
   "metadata": {},
   "source": [
    "Неявные дубликаты не обнаружены"
   ]
  },
  {
   "cell_type": "markdown",
   "metadata": {},
   "source": [
    "Найдем явные дубликаты"
   ]
  },
  {
   "cell_type": "code",
   "execution_count": 15,
   "metadata": {},
   "outputs": [],
   "source": [
    "data['brand'] = data['brand'].str.lower()\n",
    "data['model'] = data['model'].str.lower()"
   ]
  },
  {
   "cell_type": "code",
   "execution_count": 16,
   "metadata": {},
   "outputs": [
    {
     "data": {
      "text/plain": [
       "45040"
      ]
     },
     "execution_count": 16,
     "metadata": {},
     "output_type": "execute_result"
    }
   ],
   "source": [
    "data.duplicated().sum()"
   ]
  },
  {
   "cell_type": "markdown",
   "metadata": {},
   "source": [
    "Найдено большое количество дубликатов. Поскольку объявления могут повторяться для одного и того же автомобиля, а также автомобили могут дублироваться, мы можем удалить дубликаты"
   ]
  },
  {
   "cell_type": "markdown",
   "metadata": {},
   "source": [
    "Запишем в переменную количество строчек, для того чтобы знать процент удаленных данных"
   ]
  },
  {
   "cell_type": "code",
   "execution_count": 17,
   "metadata": {},
   "outputs": [
    {
     "data": {
      "text/plain": [
       "354369"
      ]
     },
     "execution_count": 17,
     "metadata": {},
     "output_type": "execute_result"
    }
   ],
   "source": [
    "data_original_count = data.shape[0]\n",
    "data_original_count"
   ]
  },
  {
   "cell_type": "code",
   "execution_count": 18,
   "metadata": {},
   "outputs": [],
   "source": [
    "data = data.drop_duplicates().reset_index(drop=True)"
   ]
  },
  {
   "cell_type": "markdown",
   "metadata": {},
   "source": [
    "Найдем выбросы для количественных признаков"
   ]
  },
  {
   "cell_type": "markdown",
   "metadata": {},
   "source": [
    "Найдем выбросы в столбце registration_year"
   ]
  },
  {
   "cell_type": "code",
   "execution_count": 19,
   "metadata": {},
   "outputs": [
    {
     "data": {
      "image/png": "[encoded data removed]",
      "text/plain": [
       "<Figure size 432x288 with 1 Axes>"
      ]
     },
     "metadata": {
      "needs_background": "light"
     },
     "output_type": "display_data"
    }
   ],
   "source": [
    "data.boxplot(column='registration_year')\n",
    "plt.title('\"Ящик с усами\" для данных о годe регистрации автомобиля');"
   ]
  },
  {
   "cell_type": "code",
   "execution_count": 20,
   "metadata": {
    "scrolled": true
   },
   "outputs": [
    {
     "data": {
      "text/plain": [
       "[1000,\n",
       " 1001,\n",
       " 1039,\n",
       " 1111,\n",
       " 1200,\n",
       " 1234,\n",
       " 1253,\n",
       " 1255,\n",
       " 1300,\n",
       " 1400,\n",
       " 1500,\n",
       " 1600,\n",
       " 1602,\n",
       " 1688,\n",
       " 1800,\n",
       " 1910,\n",
       " 1915,\n",
       " 1919,\n",
       " 1920,\n",
       " 1923,\n",
       " 1925,\n",
       " 1927,\n",
       " 1928,\n",
       " 1929,\n",
       " 1930,\n",
       " 1931,\n",
       " 1932,\n",
       " 1933,\n",
       " 1934,\n",
       " 1935,\n",
       " 1936,\n",
       " 1937,\n",
       " 1938,\n",
       " 1940,\n",
       " 1941,\n",
       " 1942,\n",
       " 1943,\n",
       " 1944,\n",
       " 1945,\n",
       " 1946,\n",
       " 1947,\n",
       " 1948,\n",
       " 1949,\n",
       " 1950,\n",
       " 1951,\n",
       " 1952,\n",
       " 1953,\n",
       " 1954,\n",
       " 1955,\n",
       " 1956,\n",
       " 1957,\n",
       " 1958,\n",
       " 1959,\n",
       " 1960,\n",
       " 1961,\n",
       " 1962,\n",
       " 1963,\n",
       " 1964,\n",
       " 1965,\n",
       " 1966,\n",
       " 1967,\n",
       " 1968,\n",
       " 1969,\n",
       " 1970,\n",
       " 1971,\n",
       " 1972,\n",
       " 1973,\n",
       " 1974,\n",
       " 1975,\n",
       " 1976,\n",
       " 1977,\n",
       " 1978,\n",
       " 1979,\n",
       " 1980,\n",
       " 1981,\n",
       " 1982,\n",
       " 1983,\n",
       " 1984,\n",
       " 1985,\n",
       " 1986,\n",
       " 1987,\n",
       " 1988,\n",
       " 1989,\n",
       " 1990,\n",
       " 1991,\n",
       " 1992,\n",
       " 1993,\n",
       " 1994,\n",
       " 1995,\n",
       " 1996,\n",
       " 1997,\n",
       " 1998,\n",
       " 1999,\n",
       " 2000,\n",
       " 2001,\n",
       " 2002,\n",
       " 2003,\n",
       " 2004,\n",
       " 2005,\n",
       " 2006,\n",
       " 2007,\n",
       " 2008,\n",
       " 2009,\n",
       " 2010,\n",
       " 2011,\n",
       " 2012,\n",
       " 2013,\n",
       " 2014,\n",
       " 2015,\n",
       " 2016,\n",
       " 2017,\n",
       " 2018,\n",
       " 2019,\n",
       " 2066,\n",
       " 2200,\n",
       " 2222,\n",
       " 2290,\n",
       " 2500,\n",
       " 2800,\n",
       " 2900,\n",
       " 3000,\n",
       " 3200,\n",
       " 3500,\n",
       " 3700,\n",
       " 3800,\n",
       " 4000,\n",
       " 4100,\n",
       " 4500,\n",
       " 4800,\n",
       " 5000,\n",
       " 5300,\n",
       " 5555,\n",
       " 5600,\n",
       " 5900,\n",
       " 5911,\n",
       " 6000,\n",
       " 6500,\n",
       " 7000,\n",
       " 7100,\n",
       " 7500,\n",
       " 7800,\n",
       " 8000,\n",
       " 8200,\n",
       " 8455,\n",
       " 8500,\n",
       " 8888,\n",
       " 9000,\n",
       " 9229,\n",
       " 9450,\n",
       " 9996,\n",
       " 9999]"
      ]
     },
     "execution_count": 20,
     "metadata": {},
     "output_type": "execute_result"
    }
   ],
   "source": [
    "sorted(data['registration_year'].unique())"
   ]
  },
  {
   "cell_type": "markdown",
   "metadata": {},
   "source": [
    "Найдено большое количество выбросов и нереальных данных. Сделаем срезку для года регистрации с 1985 по 2020 год"
   ]
  },
  {
   "cell_type": "code",
   "execution_count": 21,
   "metadata": {},
   "outputs": [],
   "source": [
    "max_year = 2020\n",
    "min_year = 1985\n",
    "\n",
    "data = data.query('registration_year < @max_year and registration_year >= @min_year')"
   ]
  },
  {
   "cell_type": "markdown",
   "metadata": {},
   "source": [
    "Посмотрим что стало с boxplot'ом"
   ]
  },
  {
   "cell_type": "code",
   "execution_count": 22,
   "metadata": {},
   "outputs": [
    {
     "data": {
      "image/png": "[encoded data removed]",
      "text/plain": [
       "<Figure size 432x288 with 1 Axes>"
      ]
     },
     "metadata": {
      "needs_background": "light"
     },
     "output_type": "display_data"
    }
   ],
   "source": [
    "data.boxplot(column='registration_year')\n",
    "plt.title('\"Ящик с усами\" для данных о годe регистрации автомобиля после обработки');"
   ]
  },
  {
   "cell_type": "markdown",
   "metadata": {},
   "source": [
    "Найдем выбросы в столбце power"
   ]
  },
  {
   "cell_type": "code",
   "execution_count": 23,
   "metadata": {
    "scrolled": true
   },
   "outputs": [
    {
     "data": {
      "image/png": "[encoded data removed]",
      "text/plain": [
       "<Figure size 432x288 with 1 Axes>"
      ]
     },
     "metadata": {
      "needs_background": "light"
     },
     "output_type": "display_data"
    }
   ],
   "source": [
    "data.boxplot(column='power')\n",
    "plt.title('\"Ящик с усами\" для данных о мощности');"
   ]
  },
  {
   "cell_type": "markdown",
   "metadata": {},
   "source": [
    "Найдено большое количество выбросов и нереальных данных. Сделаем срезку для мощности с 10 до 300 л.с."
   ]
  },
  {
   "cell_type": "code",
   "execution_count": 24,
   "metadata": {},
   "outputs": [],
   "source": [
    "min_power = 10\n",
    "max_power = 300\n",
    "\n",
    "data = data.query('power > @min_power and power < @max_power')"
   ]
  },
  {
   "cell_type": "markdown",
   "metadata": {},
   "source": [
    "Посмотрим что стало с boxplot'ом"
   ]
  },
  {
   "cell_type": "code",
   "execution_count": 25,
   "metadata": {
    "scrolled": true
   },
   "outputs": [
    {
     "data": {
      "image/png": "[encoded data removed]",
      "text/plain": [
       "<Figure size 432x288 with 1 Axes>"
      ]
     },
     "metadata": {
      "needs_background": "light"
     },
     "output_type": "display_data"
    }
   ],
   "source": [
    "data.boxplot(column='power')\n",
    "plt.title('\"Ящик с усами\" для данных о мощности после обработки');"
   ]
  },
  {
   "cell_type": "markdown",
   "metadata": {},
   "source": [
    "Найдем выбросы в столбце kilometer"
   ]
  },
  {
   "cell_type": "code",
   "execution_count": 26,
   "metadata": {},
   "outputs": [
    {
     "data": {
      "image/png": "[encoded data removed]",
      "text/plain": [
       "<Figure size 432x288 with 1 Axes>"
      ]
     },
     "metadata": {
      "needs_background": "light"
     },
     "output_type": "display_data"
    }
   ],
   "source": [
    "data.boxplot(column='kilometer')\n",
    "plt.title('\"Ящик с усами\" для данных о пробеге');"
   ]
  },
  {
   "cell_type": "markdown",
   "metadata": {},
   "source": [
    "Тут выбросов не обнаружено"
   ]
  },
  {
   "cell_type": "markdown",
   "metadata": {},
   "source": [
    "Найдем выбросы в столбце price"
   ]
  },
  {
   "cell_type": "code",
   "execution_count": 27,
   "metadata": {
    "scrolled": false
   },
   "outputs": [
    {
     "data": {
      "image/png": "[encoded data removed]",
      "text/plain": [
       "<Figure size 432x288 with 1 Axes>"
      ]
     },
     "metadata": {
      "needs_background": "light"
     },
     "output_type": "display_data"
    }
   ],
   "source": [
    "data.boxplot(column='price')\n",
    "plt.title('\"Ящик с усами\" для данных о цене');"
   ]
  },
  {
   "cell_type": "markdown",
   "metadata": {},
   "source": [
    "Выбросы не обнаружены, но есть сомнительные значения. Сделаем срезку для цены выше 500 евро"
   ]
  },
  {
   "cell_type": "code",
   "execution_count": 28,
   "metadata": {},
   "outputs": [],
   "source": [
    "min_price = 500\n",
    "\n",
    "data = data.query('price > @min_price')"
   ]
  },
  {
   "cell_type": "markdown",
   "metadata": {},
   "source": [
    "Посмотрим что стало с boxplot'ом"
   ]
  },
  {
   "cell_type": "code",
   "execution_count": 29,
   "metadata": {
    "scrolled": true
   },
   "outputs": [
    {
     "data": {
      "image/png": "[encoded data removed]",
      "text/plain": [
       "<Figure size 432x288 with 1 Axes>"
      ]
     },
     "metadata": {
      "needs_background": "light"
     },
     "output_type": "display_data"
    }
   ],
   "source": [
    "data.boxplot(column='price')\n",
    "plt.title('\"Ящик с усами\" для данных о цене после обработки');"
   ]
  },
  {
   "cell_type": "markdown",
   "metadata": {},
   "source": [
    "Посмотрим какое количество значений мы потеряли в процессе предобработки"
   ]
  },
  {
   "cell_type": "code",
   "execution_count": 30,
   "metadata": {},
   "outputs": [
    {
     "data": {
      "text/plain": [
       "32.00562125919593"
      ]
     },
     "execution_count": 30,
     "metadata": {},
     "output_type": "execute_result"
    }
   ],
   "source": [
    "(1 - data.shape[0] / data_original_count) * 100"
   ]
  },
  {
   "cell_type": "markdown",
   "metadata": {},
   "source": [
    "Потеряно 32% сторчек от первичного датафрейма. Хоть это и очень много, но все уданные значения составляют дубликаты и выбросы с нереальными данными. Такие данные только помешают обучению модели"
   ]
  },
  {
   "cell_type": "code",
   "execution_count": 31,
   "metadata": {},
   "outputs": [],
   "source": [
    "data = data.reset_index(drop=True)"
   ]
  },
  {
   "cell_type": "markdown",
   "metadata": {},
   "source": [
    "Разделим датафрейм на выбоки с целевыми и таргетными принаками"
   ]
  },
  {
   "cell_type": "code",
   "execution_count": 79,
   "metadata": {},
   "outputs": [],
   "source": [
    "features = data.drop('price', axis=1)\n",
    "target = data['price']"
   ]
  },
  {
   "cell_type": "markdown",
   "metadata": {},
   "source": [
    "Разделим выборки с целевыми и таргетными признаками на обучающую, валидационную и тестовую выборку"
   ]
  },
  {
   "cell_type": "code",
   "execution_count": 80,
   "metadata": {},
   "outputs": [],
   "source": [
    "features_train, features_valid, target_train, target_valid = train_test_split(\n",
    "    features, target, test_size=0.2, random_state=12345)\n",
    "features_train, features_test, target_train, target_test = train_test_split(\n",
    "    features_train, target_train, test_size=0.25, random_state=12345)"
   ]
  },
  {
   "cell_type": "code",
   "execution_count": 81,
   "metadata": {},
   "outputs": [
    {
     "name": "stdout",
     "output_type": "stream",
     "text": [
      "Обучающуя выборка: 144570 144570\n",
      "Валидационнуя выборка: 48191 48191\n",
      "Тестовая выборка: 48190 48190\n"
     ]
    }
   ],
   "source": [
    "print('Обучающуя выборка:', features_train.shape[0], target_train.shape[0])\n",
    "print('Валидационнуя выборка:', features_valid.shape[0], target_valid.shape[0])\n",
    "print('Тестовая выборка:', features_test.shape[0], target_test.shape[0])"
   ]
  },
  {
   "cell_type": "markdown",
   "metadata": {},
   "source": [
    "Закодируем категориальные признаки методом Ordinal Encoding"
   ]
  },
  {
   "cell_type": "code",
   "execution_count": 82,
   "metadata": {
    "scrolled": true
   },
   "outputs": [],
   "source": [
    "pd.options.mode.chained_assignment = None\n",
    "\n",
    "columns_list = ['vehicle_type','gearbox', 'model', 'fuel_type', 'brand', 'repaired']\n",
    "\n",
    "encoder = OrdinalEncoder(handle_unknown='use_encoded_value', unknown_value=-1)\n",
    "encoder.fit(features_train[columns_list])\n",
    "\n",
    "features_train[columns_list] = encoder.transform(features_train[columns_list])\n",
    "features_valid[columns_list] = encoder.transform(features_valid[columns_list])\n",
    "features_test[columns_list] = encoder.transform(features_test[columns_list])"
   ]
  },
  {
   "cell_type": "markdown",
   "metadata": {},
   "source": [
    "Промасштабируем количественные целевые признаки"
   ]
  },
  {
   "cell_type": "code",
   "execution_count": 83,
   "metadata": {},
   "outputs": [],
   "source": [
    "\n",
    "\n",
    "standart_columns = ['registration_year', 'power', 'kilometer']\n",
    "\n",
    "scaler = StandardScaler()\n",
    "scaler.fit(features_train[standart_columns])\n",
    "features_train[standart_columns] = scaler.transform(features_train[standart_columns])\n",
    "features_valid[standart_columns] = scaler.transform(features_valid[standart_columns])\n",
    "features_test[standart_columns] = scaler.transform(features_test[standart_columns])"
   ]
  },
  {
   "cell_type": "markdown",
   "metadata": {},
   "source": [
    "**Вывод:** В данном разделе осуществлена предобработка данных: Переименованы названия столбцов в соответствии со змеином стилем, удалены явные и неявные дубликаты, удалены выбросы и сомнительные данные. Обработаны пропуски: поскольку все пропуски находились в колонках с категориальными данными, пропуски заменены на значение ‘unknow’. Также для категориальных признаков была применена техника кодирования Ordinal Encoding, а для количественных признаков было произведено масштабирование данных.  "
   ]
  },
  {
   "cell_type": "markdown",
   "metadata": {},
   "source": [
    "## Обучение моделей"
   ]
  },
  {
   "cell_type": "markdown",
   "metadata": {},
   "source": [
    "Напишем функцию для определения метрики RMSE"
   ]
  },
  {
   "cell_type": "code",
   "execution_count": 37,
   "metadata": {},
   "outputs": [],
   "source": [
    "def rmse_func(y_true, y_pred):\n",
    "    return mean_squared_error(y_true, y_pred) ** 0.5"
   ]
  },
  {
   "cell_type": "markdown",
   "metadata": {},
   "source": [
    "Обучим модель линейной регрессии"
   ]
  },
  {
   "cell_type": "code",
   "execution_count": 38,
   "metadata": {},
   "outputs": [],
   "source": [
    "linear_model = LinearRegression()"
   ]
  },
  {
   "cell_type": "code",
   "execution_count": 39,
   "metadata": {},
   "outputs": [
    {
     "name": "stdout",
     "output_type": "stream",
     "text": [
      "Время обучения модели:\n",
      "CPU times: user 35.4 ms, sys: 16.5 ms, total: 51.9 ms\n",
      "Wall time: 42.1 ms\n"
     ]
    }
   ],
   "source": [
    "%%time\n",
    "\n",
    "linear_model.fit(features_train, target_train)\n",
    "print('Время обучения модели:')"
   ]
  },
  {
   "cell_type": "code",
   "execution_count": 40,
   "metadata": {},
   "outputs": [
    {
     "name": "stdout",
     "output_type": "stream",
     "text": [
      "Время предсказания модели:\n",
      "CPU times: user 5.61 ms, sys: 7.71 ms, total: 13.3 ms\n",
      "Wall time: 4.95 ms\n"
     ]
    }
   ],
   "source": [
    "%%time\n",
    "\n",
    "linear_predict = linear_model.predict(features_valid)\n",
    "print('Время предсказания модели:')"
   ]
  },
  {
   "cell_type": "code",
   "execution_count": 41,
   "metadata": {},
   "outputs": [
    {
     "name": "stdout",
     "output_type": "stream",
     "text": [
      "RMSE модели линейной регрессии 2834.87\n"
     ]
    }
   ],
   "source": [
    "linear_rmse = rmse_func(target_valid, linear_predict)\n",
    "print(f'RMSE модели линейной регрессии {linear_rmse:.2f}')"
   ]
  },
  {
   "cell_type": "code",
   "execution_count": 59,
   "metadata": {},
   "outputs": [],
   "source": [
    "linear_list = ['Линейная регрессия', 2834.87, 42.1, 4.95]"
   ]
  },
  {
   "cell_type": "markdown",
   "metadata": {},
   "source": [
    "**Итоговые значения для модели линейной регрессии:**\n",
    "\n",
    "- RMSE - 2834.87 EURO\n",
    "- время обучения модели - 42.1 ms\n",
    "- время предсказания модели - 4.95 ms"
   ]
  },
  {
   "cell_type": "markdown",
   "metadata": {},
   "source": [
    "Подберем гиперпараметры для модели дерева решений и обучим наилучшую модель"
   ]
  },
  {
   "cell_type": "code",
   "execution_count": 43,
   "metadata": {},
   "outputs": [
    {
     "name": "stdout",
     "output_type": "stream",
     "text": [
      "RMSE модели дерева решений 1892.89, глубина дерева: 14\n"
     ]
    }
   ],
   "source": [
    "rmse_score = 5000\n",
    "\n",
    "for depth in range(1,15):\n",
    "    tree_model = DecisionTreeRegressor(random_state=12345, max_depth=depth)\n",
    "    tree_model.fit(features_train, target_train)\n",
    "    tree_predict = tree_model.predict(features_valid)\n",
    "    tree_rmse = rmse_func(target_valid, tree_predict)\n",
    "    if tree_rmse < rmse_score:\n",
    "        rmse_score = tree_rmse\n",
    "        best_depth = depth\n",
    "        best_tree_model = tree_model\n",
    "        \n",
    "print(f'RMSE модели дерева решений {rmse_score:.2f}, глубина дерева: {best_depth}')"
   ]
  },
  {
   "cell_type": "code",
   "execution_count": 44,
   "metadata": {},
   "outputs": [
    {
     "name": "stdout",
     "output_type": "stream",
     "text": [
      "CPU times: user 341 ms, sys: 7.23 ms, total: 348 ms\n",
      "Wall time: 353 ms\n"
     ]
    },
    {
     "data": {
      "text/plain": [
       "DecisionTreeRegressor(max_depth=14, random_state=12345)"
      ]
     },
     "execution_count": 44,
     "metadata": {},
     "output_type": "execute_result"
    }
   ],
   "source": [
    "%%time\n",
    "\n",
    "best_tree_model.fit(features_train, target_train)"
   ]
  },
  {
   "cell_type": "code",
   "execution_count": 45,
   "metadata": {
    "scrolled": true
   },
   "outputs": [
    {
     "name": "stdout",
     "output_type": "stream",
     "text": [
      "CPU times: user 16.5 ms, sys: 41 µs, total: 16.5 ms\n",
      "Wall time: 15.2 ms\n"
     ]
    }
   ],
   "source": [
    "%%time\n",
    "\n",
    "tree_predict = best_tree_model.predict(features_valid)"
   ]
  },
  {
   "cell_type": "code",
   "execution_count": 60,
   "metadata": {},
   "outputs": [],
   "source": [
    "tree_list = ['Дерево решений', 1892.89, 353, 15.2]"
   ]
  },
  {
   "cell_type": "markdown",
   "metadata": {},
   "source": [
    "**Итоговые значения для модели дерева решений:**\n",
    "\n",
    "- RMSE - 1892.89 EURO\n",
    "- время обучения модели - 353 ms\n",
    "- время предсказания модели - 15.2 ms"
   ]
  },
  {
   "cell_type": "markdown",
   "metadata": {},
   "source": [
    "Подберем гиперпараметры для модели случайного леса и обучим наилучшую модель"
   ]
  },
  {
   "cell_type": "code",
   "execution_count": 47,
   "metadata": {},
   "outputs": [
    {
     "name": "stdout",
     "output_type": "stream",
     "text": [
      "RMSE модели дерева решений 1662.29, глубина дерева: 14, количество деревьев: 100\n"
     ]
    }
   ],
   "source": [
    "rmse_score = 5000\n",
    "\n",
    "for depth in range(2,15):\n",
    "    for est in range(5, 101, 5):\n",
    "        forest_model = RandomForestRegressor(random_state=12345, max_depth=depth, n_estimators=est)\n",
    "        forest_model.fit(features_train, target_train)\n",
    "        forest_predict = forest_model.predict(features_valid)\n",
    "        forest_rmse = rmse_func(target_valid, forest_predict)\n",
    "        if forest_rmse < rmse_score:\n",
    "            rmse_score = forest_rmse\n",
    "            best_depth = depth\n",
    "            best_est = est\n",
    "            best_forest_model = forest_model\n",
    "        \n",
    "print(f'RMSE модели дерева решений {rmse_score:.2f}, глубина дерева: {best_depth}, количество деревьев: {est}')"
   ]
  },
  {
   "cell_type": "code",
   "execution_count": 48,
   "metadata": {},
   "outputs": [
    {
     "name": "stdout",
     "output_type": "stream",
     "text": [
      "CPU times: user 25 s, sys: 75.4 ms, total: 25.1 s\n",
      "Wall time: 25.1 s\n"
     ]
    },
    {
     "data": {
      "text/plain": [
       "RandomForestRegressor(max_depth=14, random_state=12345)"
      ]
     },
     "execution_count": 48,
     "metadata": {},
     "output_type": "execute_result"
    }
   ],
   "source": [
    "%%time\n",
    "\n",
    "best_forest_model.fit(features_train, target_train)"
   ]
  },
  {
   "cell_type": "code",
   "execution_count": 49,
   "metadata": {},
   "outputs": [
    {
     "name": "stdout",
     "output_type": "stream",
     "text": [
      "CPU times: user 842 ms, sys: 4.04 ms, total: 847 ms\n",
      "Wall time: 853 ms\n"
     ]
    }
   ],
   "source": [
    "%%time\n",
    "\n",
    "forest_predict = best_forest_model.predict(features_valid)"
   ]
  },
  {
   "cell_type": "code",
   "execution_count": 61,
   "metadata": {},
   "outputs": [],
   "source": [
    "forest_list = ['Случайный лес', 1662.29, 25.1*1000, 853]"
   ]
  },
  {
   "cell_type": "markdown",
   "metadata": {},
   "source": [
    "**Итоговые значения для модели дерева решений:**\n",
    "\n",
    "- RMSE - 1662.29 EURO\n",
    "- время обучения модели - 25.2 s\n",
    "- время предсказания модели - 821 ms"
   ]
  },
  {
   "cell_type": "markdown",
   "metadata": {},
   "source": [
    "Подберем гиперпараметры для модели градиентного бустинга и обучим наилучшую модель"
   ]
  },
  {
   "cell_type": "code",
   "execution_count": 53,
   "metadata": {
    "scrolled": true
   },
   "outputs": [
    {
     "name": "stdout",
     "output_type": "stream",
     "text": [
      "RMSE модели градиентного бустинга 1525.74, глубина дерева: 0, количество деревьев: 2000\n"
     ]
    }
   ],
   "source": [
    "for est in range(2000, 2001):\n",
    "    for depth in range(0,1):\n",
    "        LGBM_model = LGBMRegressor(random_state=12345, n_estimators=est, max_depth=depth)\n",
    "        LGBM_model.fit(features_train, target_train)\n",
    "        LGBM_predict = LGBM_model.predict(features_valid)\n",
    "        LGBM_rmse = rmse_func(target_valid, LGBM_predict)\n",
    "        if LGBM_rmse < rmse_score:\n",
    "            rmse_score = LGBM_rmse\n",
    "            LGBM_est = est\n",
    "            LGBM_depth = depth\n",
    "            best_LGBM_model = LGBM_model\n",
    "\n",
    "print(f'RMSE модели градиентного бустинга {rmse_score:.2f}, глубина дерева: {LGBM_depth}, количество деревьев: {LGBM_est}')"
   ]
  },
  {
   "cell_type": "code",
   "execution_count": 54,
   "metadata": {},
   "outputs": [
    {
     "name": "stdout",
     "output_type": "stream",
     "text": [
      "CPU times: user 2h 5min 28s, sys: 1min 7s, total: 2h 6min 35s\n",
      "Wall time: 2h 7min 17s\n"
     ]
    },
    {
     "data": {
      "text/plain": [
       "LGBMRegressor(max_depth=0, n_estimators=2000, random_state=12345)"
      ]
     },
     "execution_count": 54,
     "metadata": {},
     "output_type": "execute_result"
    }
   ],
   "source": [
    "%%time\n",
    "\n",
    "best_LGBM_model.fit(features_train, target_train)"
   ]
  },
  {
   "cell_type": "code",
   "execution_count": 55,
   "metadata": {},
   "outputs": [
    {
     "name": "stdout",
     "output_type": "stream",
     "text": [
      "CPU times: user 10.3 s, sys: 178 µs, total: 10.3 s\n",
      "Wall time: 10.5 s\n"
     ]
    }
   ],
   "source": [
    "%%time\n",
    "\n",
    "LGBM_predict = best_LGBM_model.predict(features_valid)"
   ]
  },
  {
   "cell_type": "code",
   "execution_count": 62,
   "metadata": {},
   "outputs": [],
   "source": [
    "LGBM_list = ['Градиентный бустинг', 1525.74, 51.6*1000*60*60, 11*1000]"
   ]
  },
  {
   "cell_type": "markdown",
   "metadata": {},
   "source": [
    "**Итоговые значения для модели градиентного бустинга:**\n",
    "\n",
    "- RMSE - 1525.92 EURO\n",
    "- время обучения модели - 2h 7min 17s\n",
    "- время предсказания модели - 10.5 s"
   ]
  },
  {
   "cell_type": "markdown",
   "metadata": {},
   "source": [
    "Соберем полученные данные в один датафрейм"
   ]
  },
  {
   "cell_type": "code",
   "execution_count": 64,
   "metadata": {},
   "outputs": [],
   "source": [
    "data_model = pd.DataFrame(\n",
    "    [linear_list, tree_list, forest_list, LGBM_list], columns=['model', 'rmse', 'time_fit', 'time_predict']\n",
    ")"
   ]
  },
  {
   "cell_type": "code",
   "execution_count": 65,
   "metadata": {
    "scrolled": true
   },
   "outputs": [
    {
     "data": {
      "text/html": [
       "<div>\n",
       "<style scoped>\n",
       "    .dataframe tbody tr th:only-of-type {\n",
       "        vertical-align: middle;\n",
       "    }\n",
       "\n",
       "    .dataframe tbody tr th {\n",
       "        vertical-align: top;\n",
       "    }\n",
       "\n",
       "    .dataframe thead th {\n",
       "        text-align: right;\n",
       "    }\n",
       "</style>\n",
       "<table border=\"1\" class=\"dataframe\">\n",
       "  <thead>\n",
       "    <tr style=\"text-align: right;\">\n",
       "      <th></th>\n",
       "      <th>model</th>\n",
       "      <th>rmse</th>\n",
       "      <th>time_fit</th>\n",
       "      <th>time_predict</th>\n",
       "    </tr>\n",
       "  </thead>\n",
       "  <tbody>\n",
       "    <tr>\n",
       "      <th>0</th>\n",
       "      <td>Линейная регрессия</td>\n",
       "      <td>2834.87</td>\n",
       "      <td>42.1</td>\n",
       "      <td>4.95</td>\n",
       "    </tr>\n",
       "    <tr>\n",
       "      <th>1</th>\n",
       "      <td>Дерево решений</td>\n",
       "      <td>1892.89</td>\n",
       "      <td>353.0</td>\n",
       "      <td>15.20</td>\n",
       "    </tr>\n",
       "    <tr>\n",
       "      <th>2</th>\n",
       "      <td>Случайный лес</td>\n",
       "      <td>1662.29</td>\n",
       "      <td>25100.0</td>\n",
       "      <td>853.00</td>\n",
       "    </tr>\n",
       "    <tr>\n",
       "      <th>3</th>\n",
       "      <td>Градиентный бустинг</td>\n",
       "      <td>1525.74</td>\n",
       "      <td>185760000.0</td>\n",
       "      <td>11000.00</td>\n",
       "    </tr>\n",
       "  </tbody>\n",
       "</table>\n",
       "</div>"
      ],
      "text/plain": [
       "                 model     rmse     time_fit  time_predict\n",
       "0   Линейная регрессия  2834.87         42.1          4.95\n",
       "1       Дерево решений  1892.89        353.0         15.20\n",
       "2        Случайный лес  1662.29      25100.0        853.00\n",
       "3  Градиентный бустинг  1525.74  185760000.0      11000.00"
      ]
     },
     "execution_count": 65,
     "metadata": {},
     "output_type": "execute_result"
    }
   ],
   "source": [
    "data_model"
   ]
  },
  {
   "cell_type": "markdown",
   "metadata": {},
   "source": [
    "**Вывод:** В данном разделе были обучены 4 различные модели: Линейная регрессия, дерево решений, случайный лес и градиентный бустинг. Градиентный бустинг показал лучший результат метрики RMSE, хоть по времени и уступает другим моделям. Лучшее время обучения и предсказания показала модель линейной регрессии, но по метрике RMSE регрессия показала худший результат."
   ]
  },
  {
   "cell_type": "markdown",
   "metadata": {},
   "source": [
    "## Анализ моделей"
   ]
  },
  {
   "cell_type": "markdown",
   "metadata": {},
   "source": [
    "Посмотрим еще раз на сводную таблицу с параметрами моделей"
   ]
  },
  {
   "cell_type": "code",
   "execution_count": 66,
   "metadata": {
    "scrolled": true
   },
   "outputs": [
    {
     "data": {
      "text/html": [
       "<div>\n",
       "<style scoped>\n",
       "    .dataframe tbody tr th:only-of-type {\n",
       "        vertical-align: middle;\n",
       "    }\n",
       "\n",
       "    .dataframe tbody tr th {\n",
       "        vertical-align: top;\n",
       "    }\n",
       "\n",
       "    .dataframe thead th {\n",
       "        text-align: right;\n",
       "    }\n",
       "</style>\n",
       "<table border=\"1\" class=\"dataframe\">\n",
       "  <thead>\n",
       "    <tr style=\"text-align: right;\">\n",
       "      <th></th>\n",
       "      <th>model</th>\n",
       "      <th>rmse</th>\n",
       "      <th>time_fit</th>\n",
       "      <th>time_predict</th>\n",
       "    </tr>\n",
       "  </thead>\n",
       "  <tbody>\n",
       "    <tr>\n",
       "      <th>0</th>\n",
       "      <td>Линейная регрессия</td>\n",
       "      <td>2834.87</td>\n",
       "      <td>42.1</td>\n",
       "      <td>4.95</td>\n",
       "    </tr>\n",
       "    <tr>\n",
       "      <th>1</th>\n",
       "      <td>Дерево решений</td>\n",
       "      <td>1892.89</td>\n",
       "      <td>353.0</td>\n",
       "      <td>15.20</td>\n",
       "    </tr>\n",
       "    <tr>\n",
       "      <th>2</th>\n",
       "      <td>Случайный лес</td>\n",
       "      <td>1662.29</td>\n",
       "      <td>25100.0</td>\n",
       "      <td>853.00</td>\n",
       "    </tr>\n",
       "    <tr>\n",
       "      <th>3</th>\n",
       "      <td>Градиентный бустинг</td>\n",
       "      <td>1525.74</td>\n",
       "      <td>185760000.0</td>\n",
       "      <td>11000.00</td>\n",
       "    </tr>\n",
       "  </tbody>\n",
       "</table>\n",
       "</div>"
      ],
      "text/plain": [
       "                 model     rmse     time_fit  time_predict\n",
       "0   Линейная регрессия  2834.87         42.1          4.95\n",
       "1       Дерево решений  1892.89        353.0         15.20\n",
       "2        Случайный лес  1662.29      25100.0        853.00\n",
       "3  Градиентный бустинг  1525.74  185760000.0      11000.00"
      ]
     },
     "execution_count": 66,
     "metadata": {},
     "output_type": "execute_result"
    }
   ],
   "source": [
    "data_model"
   ]
  },
  {
   "cell_type": "markdown",
   "metadata": {},
   "source": [
    "Для заказчика важны такие параметры как: \n",
    "\n",
    "- качество предсказания\n",
    "- время обучения модели\n",
    "- время предсказания модели \n",
    "\n",
    "Лучший результат метрики RMSE показала модель градиентного бустинга, но время на обучение и предсказание затрачивается больше чем у других моделей. Порог RMSE – 2500 EURO. Для финального тестирования возьмем модель, которая проходит этот порог и имеет меньшее время обучения и предсказания. По таблице видно, что такая модель – Дерево решений. "
   ]
  },
  {
   "cell_type": "markdown",
   "metadata": {},
   "source": [
    "Для финального обучения и тестирования объединим обучающую и валидационную выборку "
   ]
  },
  {
   "cell_type": "code",
   "execution_count": 84,
   "metadata": {},
   "outputs": [],
   "source": [
    "features_train = pd.concat([features_train] + [features_valid])\n",
    "target_train = pd.concat([target_train] + [target_valid])"
   ]
  },
  {
   "cell_type": "markdown",
   "metadata": {},
   "source": [
    "Обучим и протестируем лучшую модель дерева решений"
   ]
  },
  {
   "cell_type": "code",
   "execution_count": 85,
   "metadata": {},
   "outputs": [
    {
     "name": "stdout",
     "output_type": "stream",
     "text": [
      "CPU times: user 463 ms, sys: 0 ns, total: 463 ms\n",
      "Wall time: 461 ms\n"
     ]
    },
    {
     "data": {
      "text/plain": [
       "DecisionTreeRegressor(max_depth=14, random_state=12345)"
      ]
     },
     "execution_count": 85,
     "metadata": {},
     "output_type": "execute_result"
    }
   ],
   "source": [
    "%%time\n",
    "\n",
    "best_tree_model.fit(features_train, target_train)"
   ]
  },
  {
   "cell_type": "code",
   "execution_count": 86,
   "metadata": {},
   "outputs": [
    {
     "name": "stdout",
     "output_type": "stream",
     "text": [
      "CPU times: user 14.8 ms, sys: 0 ns, total: 14.8 ms\n",
      "Wall time: 13.3 ms\n"
     ]
    }
   ],
   "source": [
    "%%time\n",
    "\n",
    "test_predict = best_tree_model.predict(features_test)"
   ]
  },
  {
   "cell_type": "code",
   "execution_count": 87,
   "metadata": {},
   "outputs": [
    {
     "data": {
      "text/plain": [
       "1849.7212074639476"
      ]
     },
     "execution_count": 87,
     "metadata": {},
     "output_type": "execute_result"
    }
   ],
   "source": [
    "test_rmse = rmse_func(target_test, test_predict)\n",
    "test_rmse"
   ]
  },
  {
   "cell_type": "markdown",
   "metadata": {},
   "source": [
    "**Итоговые значения для финального тестирования дерева решений:**\n",
    "\n",
    "- RMSE - 1849.72 EURO\n",
    "- время обучения модели - 461 ms\n",
    "- время предсказания модели - 13.3 ms"
   ]
  },
  {
   "cell_type": "markdown",
   "metadata": {},
   "source": [
    "Сравним нашу выбранную модель с дамми-моделью для проверки адекватности предсказаний"
   ]
  },
  {
   "cell_type": "code",
   "execution_count": 88,
   "metadata": {},
   "outputs": [
    {
     "name": "stdout",
     "output_type": "stream",
     "text": [
      "Параметр RMSE dummy-модели: 4516.728544773274\n"
     ]
    }
   ],
   "source": [
    "dummy_regr = DummyRegressor()\n",
    "dummy_regr.fit(features_train, target_train)\n",
    "dummy_regr_predict = dummy_regr.predict(features_test)\n",
    "dummy_regr_rmse= rmse_func(target_test, dummy_regr_predict)\n",
    "print(f'Параметр RMSE dummy-модели: {dummy_regr_rmse}')"
   ]
  },
  {
   "cell_type": "code",
   "execution_count": 89,
   "metadata": {
    "scrolled": true
   },
   "outputs": [
    {
     "name": "stdout",
     "output_type": "stream",
     "text": [
      "Разница предсказаний дерева решений и dummy-модели: 2667.01 EURO. Проверка пройдена\n"
     ]
    }
   ],
   "source": [
    "if dummy_regr_rmse-test_rmse > 0:\n",
    "    print(f'Разница предсказаний дерева решений и dummy-модели: {dummy_regr_rmse - test_rmse:.2f} EURO. Проверка пройдена')\n",
    "else:\n",
    "    print(f'Разница предсказаний дерева решений и dummy-модели: {dummy_regr_rmse - test_rmse:.2f} EURO. Проверка не пройдена')"
   ]
  },
  {
   "cell_type": "markdown",
   "metadata": {},
   "source": [
    "**Вывод:** Благодаря полученным данным из предыдущего пункта на финальное тестирование была отправлена модель дерева решений, так как она удовлетворяет условию метрики RMSE и имеет меньшее время обучения и предсказания. Модель дерева решений была сопоставлена дамми-модели и показала результат лучше, чем дамми-модель, что говорит о том что, модель дерева проходит тестирование на адекватность предсказаний и ее можно использовать для дальнейшего предсказания цены. "
   ]
  },
  {
   "cell_type": "markdown",
   "metadata": {},
   "source": [
    "## Итоговый вывод"
   ]
  },
  {
   "cell_type": "markdown",
   "metadata": {},
   "source": [
    "В разделе ‘Подготовка данных ’ было сделано следующие: \n",
    "\n",
    "- Пропуски в колонках с категориальными признаками были заменены на ‘unknow’\n",
    "- Найдены и исправлены неявные дубликаты \n",
    "- Удалены явные дубликаты\n",
    "- Удалены выбросы и спорные значения\n",
    "- Закодировали категориальные признаки методом Ordinal Encoding\n",
    "- Разбили датасет на обучающую, валидационную и тестовую выборки\n",
    "- Промасштабировали количественные признаки\n",
    "\n",
    "По итогу было потеряно 32% всех данных. Это большое значение, но удаленные значения составляют только дубликаты и выбросы, такие значения только отрицательно повлияли бы на обучение моделей. \n",
    "\n",
    "В разделе ‘Обучение моделей’ мы обучили 4 модели: модель линейной регрессии, модель дерева решений, модель случайного леса и модель градиентного бустинга. По значению метрики RMSE лучше всего себя показала модель градиентного бустинга, но по значениям времени предсказания и обучение данная модель показала худший результат. Лучшее время показала модель линейной регрессии, однако значение RMSE метрики превышает допустимый порог. Все полученные значения RMSE метрики и время обучения и предсказания были занесены в сводную  таблицу, для дальнейшего определения модели, которая отправится на финальное тестирование. \n",
    "\n",
    "В разделе ‘Анализ моделей’ была выбрана лучшая модель для финального тестирования – модель дерева решений. Модель дерева решений удовлетворяет условия прохождения по RMSE метрики и имеет наименьше время обучения и предсказания, что очень важно для заказчика. Для финального тестирования были объединены обучающая и валидационная выборка. На тестирование модель дерева показала результат лучше, чем на валидации. Финальные результаты следущие: \n",
    "\n",
    "- RMSE - 1849.72 EURO\n",
    "- время обучения модели - 461 ms\n",
    "- время предсказания модели - 13.3 ms\n",
    "\n",
    "Финальная модель сравнили с дамми-моделью для тестирования на адекватность полученных предсказаний. Финальная модель лучше предсказывает по RMSE метрики на 2665.39 EURO. Проверка на адекватность была успешно пройдена. \n"
   ]
  }
 ],
 "metadata": {
  "ExecuteTimeLog": [
   {
    "duration": 444,
    "start_time": "2023-03-16T11:02:53.982Z"
   },
   {
    "duration": 1251,
    "start_time": "2023-03-16T11:03:16.910Z"
   },
   {
    "duration": 159,
    "start_time": "2023-03-16T11:03:31.815Z"
   },
   {
    "duration": 21,
    "start_time": "2023-03-16T11:03:32.805Z"
   },
   {
    "duration": 75,
    "start_time": "2023-03-16T11:10:35.902Z"
   },
   {
    "duration": 10,
    "start_time": "2023-03-16T11:12:02.436Z"
   },
   {
    "duration": 133,
    "start_time": "2023-03-16T11:12:25.291Z"
   },
   {
    "duration": 18,
    "start_time": "2023-03-16T11:12:38.926Z"
   },
   {
    "duration": 144,
    "start_time": "2023-03-16T11:13:30.481Z"
   },
   {
    "duration": 17,
    "start_time": "2023-03-16T11:13:30.877Z"
   },
   {
    "duration": 143,
    "start_time": "2023-03-16T11:47:49.006Z"
   },
   {
    "duration": 482,
    "start_time": "2023-03-16T11:48:12.500Z"
   },
   {
    "duration": 14,
    "start_time": "2023-03-16T11:52:17.006Z"
   },
   {
    "duration": 17,
    "start_time": "2023-03-16T11:55:29.686Z"
   },
   {
    "duration": 11,
    "start_time": "2023-03-16T11:55:30.230Z"
   },
   {
    "duration": 89,
    "start_time": "2023-03-16T11:55:34.620Z"
   },
   {
    "duration": 187,
    "start_time": "2023-03-16T11:55:44.893Z"
   },
   {
    "duration": 14,
    "start_time": "2023-03-16T11:56:10.733Z"
   },
   {
    "duration": 94,
    "start_time": "2023-03-16T12:02:56.890Z"
   },
   {
    "duration": 100,
    "start_time": "2023-03-16T12:19:33.006Z"
   },
   {
    "duration": 98,
    "start_time": "2023-03-16T12:19:36.985Z"
   },
   {
    "duration": 93,
    "start_time": "2023-03-16T12:19:44.389Z"
   },
   {
    "duration": 186,
    "start_time": "2023-03-16T12:20:07.811Z"
   },
   {
    "duration": 167,
    "start_time": "2023-03-16T12:21:17.498Z"
   },
   {
    "duration": 24,
    "start_time": "2023-03-16T12:24:22.781Z"
   },
   {
    "duration": 25,
    "start_time": "2023-03-16T12:24:50.936Z"
   },
   {
    "duration": 27,
    "start_time": "2023-03-16T12:25:02.234Z"
   },
   {
    "duration": 24,
    "start_time": "2023-03-16T12:26:23.980Z"
   },
   {
    "duration": 25,
    "start_time": "2023-03-16T12:26:43.624Z"
   },
   {
    "duration": 21,
    "start_time": "2023-03-16T12:27:42.983Z"
   },
   {
    "duration": 22,
    "start_time": "2023-03-16T12:27:47.801Z"
   },
   {
    "duration": 26,
    "start_time": "2023-03-16T12:28:08.321Z"
   },
   {
    "duration": 7,
    "start_time": "2023-03-16T12:29:01.881Z"
   },
   {
    "duration": 24,
    "start_time": "2023-03-16T12:29:10.701Z"
   },
   {
    "duration": 29,
    "start_time": "2023-03-16T12:31:36.929Z"
   },
   {
    "duration": 25,
    "start_time": "2023-03-16T12:35:51.954Z"
   },
   {
    "duration": 13,
    "start_time": "2023-03-16T12:37:40.152Z"
   },
   {
    "duration": 30,
    "start_time": "2023-03-16T12:37:45.132Z"
   },
   {
    "duration": 22,
    "start_time": "2023-03-16T12:37:51.287Z"
   },
   {
    "duration": 163,
    "start_time": "2023-03-16T12:38:05.931Z"
   },
   {
    "duration": 244,
    "start_time": "2023-03-16T12:38:47.953Z"
   },
   {
    "duration": 78,
    "start_time": "2023-03-16T12:39:52.909Z"
   },
   {
    "duration": 20,
    "start_time": "2023-03-16T12:40:44.109Z"
   },
   {
    "duration": 20,
    "start_time": "2023-03-16T12:40:48.174Z"
   },
   {
    "duration": 22,
    "start_time": "2023-03-16T12:40:50.811Z"
   },
   {
    "duration": 383,
    "start_time": "2023-03-16T12:41:02.417Z"
   },
   {
    "duration": 905,
    "start_time": "2023-03-16T12:41:02.802Z"
   },
   {
    "duration": 137,
    "start_time": "2023-03-16T12:41:03.709Z"
   },
   {
    "duration": 34,
    "start_time": "2023-03-16T12:41:03.848Z"
   },
   {
    "duration": 137,
    "start_time": "2023-03-16T12:41:03.884Z"
   },
   {
    "duration": 51,
    "start_time": "2023-03-16T12:41:04.022Z"
   },
   {
    "duration": 16,
    "start_time": "2023-03-16T12:41:04.075Z"
   },
   {
    "duration": 98,
    "start_time": "2023-03-16T12:41:04.093Z"
   },
   {
    "duration": 167,
    "start_time": "2023-03-16T12:41:04.194Z"
   },
   {
    "duration": 106,
    "start_time": "2023-03-16T12:41:04.362Z"
   },
   {
    "duration": 29,
    "start_time": "2023-03-16T12:41:04.469Z"
   },
   {
    "duration": 22,
    "start_time": "2023-03-16T12:41:04.500Z"
   },
   {
    "duration": 50,
    "start_time": "2023-03-16T12:41:04.524Z"
   },
   {
    "duration": 15,
    "start_time": "2023-03-16T12:41:04.578Z"
   },
   {
    "duration": 24,
    "start_time": "2023-03-16T12:41:04.596Z"
   },
   {
    "duration": 29,
    "start_time": "2023-03-16T12:41:04.622Z"
   },
   {
    "duration": 26,
    "start_time": "2023-03-16T12:41:04.673Z"
   },
   {
    "duration": 209,
    "start_time": "2023-03-16T12:41:04.701Z"
   },
   {
    "duration": 177,
    "start_time": "2023-03-16T12:41:04.912Z"
   },
   {
    "duration": 261,
    "start_time": "2023-03-16T12:41:05.091Z"
   },
   {
    "duration": 4,
    "start_time": "2023-03-16T12:42:49.801Z"
   },
   {
    "duration": 3,
    "start_time": "2023-03-16T12:42:57.604Z"
   },
   {
    "duration": 386,
    "start_time": "2023-03-16T12:43:02.011Z"
   },
   {
    "duration": 910,
    "start_time": "2023-03-16T12:43:02.399Z"
   },
   {
    "duration": 154,
    "start_time": "2023-03-16T12:43:03.310Z"
   },
   {
    "duration": 25,
    "start_time": "2023-03-16T12:43:03.466Z"
   },
   {
    "duration": 141,
    "start_time": "2023-03-16T12:43:03.493Z"
   },
   {
    "duration": 46,
    "start_time": "2023-03-16T12:43:03.636Z"
   },
   {
    "duration": 15,
    "start_time": "2023-03-16T12:43:03.684Z"
   },
   {
    "duration": 104,
    "start_time": "2023-03-16T12:43:03.701Z"
   },
   {
    "duration": 129,
    "start_time": "2023-03-16T12:43:03.807Z"
   },
   {
    "duration": 91,
    "start_time": "2023-03-16T12:43:03.937Z"
   },
   {
    "duration": 24,
    "start_time": "2023-03-16T12:43:04.030Z"
   },
   {
    "duration": 47,
    "start_time": "2023-03-16T12:43:04.055Z"
   },
   {
    "duration": 39,
    "start_time": "2023-03-16T12:43:04.104Z"
   },
   {
    "duration": 41,
    "start_time": "2023-03-16T12:43:04.146Z"
   },
   {
    "duration": 29,
    "start_time": "2023-03-16T12:43:04.190Z"
   },
   {
    "duration": 31,
    "start_time": "2023-03-16T12:43:04.222Z"
   },
   {
    "duration": 47,
    "start_time": "2023-03-16T12:43:04.255Z"
   },
   {
    "duration": 202,
    "start_time": "2023-03-16T12:43:04.305Z"
   },
   {
    "duration": 4,
    "start_time": "2023-03-16T12:43:04.509Z"
   },
   {
    "duration": 185,
    "start_time": "2023-03-16T12:43:04.514Z"
   },
   {
    "duration": 253,
    "start_time": "2023-03-16T12:43:04.700Z"
   },
   {
    "duration": 4,
    "start_time": "2023-03-16T12:43:04.954Z"
   },
   {
    "duration": 71,
    "start_time": "2023-03-16T12:43:42.599Z"
   },
   {
    "duration": 7,
    "start_time": "2023-03-16T12:43:55.586Z"
   },
   {
    "duration": 5,
    "start_time": "2023-03-16T12:44:17.682Z"
   },
   {
    "duration": 8,
    "start_time": "2023-03-16T12:44:29.538Z"
   },
   {
    "duration": 8,
    "start_time": "2023-03-16T12:44:32.718Z"
   },
   {
    "duration": 810,
    "start_time": "2023-03-16T12:45:17.041Z"
   },
   {
    "duration": 333,
    "start_time": "2023-03-16T12:46:42.555Z"
   },
   {
    "duration": 441,
    "start_time": "2023-03-16T12:47:22.335Z"
   },
   {
    "duration": 414,
    "start_time": "2023-03-16T12:47:28.612Z"
   },
   {
    "duration": 30,
    "start_time": "2023-03-16T12:53:02.203Z"
   },
   {
    "duration": 182,
    "start_time": "2023-03-16T12:53:52.015Z"
   },
   {
    "duration": 162,
    "start_time": "2023-03-16T12:53:53.053Z"
   },
   {
    "duration": 388,
    "start_time": "2023-03-16T12:54:02.531Z"
   },
   {
    "duration": 963,
    "start_time": "2023-03-16T12:54:02.922Z"
   },
   {
    "duration": 162,
    "start_time": "2023-03-16T12:54:03.886Z"
   },
   {
    "duration": 33,
    "start_time": "2023-03-16T12:54:04.051Z"
   },
   {
    "duration": 149,
    "start_time": "2023-03-16T12:54:04.087Z"
   },
   {
    "duration": 53,
    "start_time": "2023-03-16T12:54:04.239Z"
   },
   {
    "duration": 17,
    "start_time": "2023-03-16T12:54:04.296Z"
   },
   {
    "duration": 110,
    "start_time": "2023-03-16T12:54:04.316Z"
   },
   {
    "duration": 134,
    "start_time": "2023-03-16T12:54:04.428Z"
   },
   {
    "duration": 98,
    "start_time": "2023-03-16T12:54:04.564Z"
   },
   {
    "duration": 26,
    "start_time": "2023-03-16T12:54:04.672Z"
   },
   {
    "duration": 25,
    "start_time": "2023-03-16T12:54:04.700Z"
   },
   {
    "duration": 52,
    "start_time": "2023-03-16T12:54:04.727Z"
   },
   {
    "duration": 15,
    "start_time": "2023-03-16T12:54:04.782Z"
   },
   {
    "duration": 25,
    "start_time": "2023-03-16T12:54:04.798Z"
   },
   {
    "duration": 29,
    "start_time": "2023-03-16T12:54:04.827Z"
   },
   {
    "duration": 27,
    "start_time": "2023-03-16T12:54:04.872Z"
   },
   {
    "duration": 226,
    "start_time": "2023-03-16T12:54:04.900Z"
   },
   {
    "duration": 200,
    "start_time": "2023-03-16T12:54:05.128Z"
   },
   {
    "duration": 4,
    "start_time": "2023-03-16T12:54:05.330Z"
   },
   {
    "duration": 212,
    "start_time": "2023-03-16T12:54:05.336Z"
   },
   {
    "duration": 285,
    "start_time": "2023-03-16T12:54:05.550Z"
   },
   {
    "duration": 4,
    "start_time": "2023-03-16T12:54:05.837Z"
   },
   {
    "duration": 16,
    "start_time": "2023-03-16T12:54:05.842Z"
   },
   {
    "duration": 615,
    "start_time": "2023-03-16T12:54:05.860Z"
   },
   {
    "duration": 452,
    "start_time": "2023-03-16T12:54:06.477Z"
   },
   {
    "duration": 443,
    "start_time": "2023-03-16T12:54:06.931Z"
   },
   {
    "duration": 3,
    "start_time": "2023-03-16T12:55:07.829Z"
   },
   {
    "duration": 406,
    "start_time": "2023-03-16T12:55:35.678Z"
   },
   {
    "duration": 448,
    "start_time": "2023-03-16T12:56:17.885Z"
   },
   {
    "duration": 430,
    "start_time": "2023-03-16T12:56:59.900Z"
   },
   {
    "duration": 456,
    "start_time": "2023-03-16T12:57:17.117Z"
   },
   {
    "duration": 434,
    "start_time": "2023-03-16T12:57:29.485Z"
   },
   {
    "duration": 117,
    "start_time": "2023-03-16T13:04:53.668Z"
   },
   {
    "duration": 29,
    "start_time": "2023-03-16T13:04:59.610Z"
   },
   {
    "duration": 6,
    "start_time": "2023-03-16T13:05:08.680Z"
   },
   {
    "duration": 459,
    "start_time": "2023-03-16T13:05:24.043Z"
   },
   {
    "duration": 461,
    "start_time": "2023-03-16T13:08:51.128Z"
   },
   {
    "duration": 34,
    "start_time": "2023-03-16T13:11:09.215Z"
   },
   {
    "duration": 326,
    "start_time": "2023-03-16T13:11:09.687Z"
   },
   {
    "duration": 35,
    "start_time": "2023-03-16T13:11:20.111Z"
   },
   {
    "duration": 410,
    "start_time": "2023-03-16T13:11:20.590Z"
   },
   {
    "duration": 35,
    "start_time": "2023-03-16T13:11:35.310Z"
   },
   {
    "duration": 321,
    "start_time": "2023-03-16T13:11:35.991Z"
   },
   {
    "duration": 35,
    "start_time": "2023-03-16T13:11:53.703Z"
   },
   {
    "duration": 325,
    "start_time": "2023-03-16T13:11:54.330Z"
   },
   {
    "duration": 36,
    "start_time": "2023-03-16T13:13:25.677Z"
   },
   {
    "duration": 326,
    "start_time": "2023-03-16T13:13:26.319Z"
   },
   {
    "duration": 32,
    "start_time": "2023-03-16T13:14:33.573Z"
   },
   {
    "duration": 31,
    "start_time": "2023-03-16T13:15:19.618Z"
   },
   {
    "duration": 28,
    "start_time": "2023-03-16T13:15:24.767Z"
   },
   {
    "duration": 44,
    "start_time": "2023-03-16T13:15:28.871Z"
   },
   {
    "duration": 30,
    "start_time": "2023-03-16T13:15:42.798Z"
   },
   {
    "duration": 23,
    "start_time": "2023-03-16T13:16:35.325Z"
   },
   {
    "duration": 19,
    "start_time": "2023-03-16T13:27:09.057Z"
   },
   {
    "duration": 19,
    "start_time": "2023-03-16T13:27:27.688Z"
   },
   {
    "duration": 17,
    "start_time": "2023-03-16T13:27:31.896Z"
   },
   {
    "duration": 18,
    "start_time": "2023-03-16T13:27:38.065Z"
   },
   {
    "duration": 22,
    "start_time": "2023-03-16T13:27:42.543Z"
   },
   {
    "duration": 14,
    "start_time": "2023-03-16T13:27:52.713Z"
   },
   {
    "duration": 20,
    "start_time": "2023-03-16T13:28:30.720Z"
   },
   {
    "duration": 17,
    "start_time": "2023-03-16T13:28:39.521Z"
   },
   {
    "duration": 16,
    "start_time": "2023-03-16T13:28:43.528Z"
   },
   {
    "duration": 28,
    "start_time": "2023-03-16T13:29:07.695Z"
   },
   {
    "duration": 38,
    "start_time": "2023-03-16T13:29:45.238Z"
   },
   {
    "duration": 295,
    "start_time": "2023-03-16T13:29:45.817Z"
   },
   {
    "duration": 378,
    "start_time": "2023-03-16T13:29:52.063Z"
   },
   {
    "duration": 684,
    "start_time": "2023-03-16T13:29:56.620Z"
   },
   {
    "duration": 932,
    "start_time": "2023-03-16T13:29:57.306Z"
   },
   {
    "duration": 157,
    "start_time": "2023-03-16T13:29:58.240Z"
   },
   {
    "duration": 18,
    "start_time": "2023-03-16T13:29:58.399Z"
   },
   {
    "duration": 145,
    "start_time": "2023-03-16T13:29:58.419Z"
   },
   {
    "duration": 53,
    "start_time": "2023-03-16T13:29:58.566Z"
   },
   {
    "duration": 13,
    "start_time": "2023-03-16T13:29:58.620Z"
   },
   {
    "duration": 115,
    "start_time": "2023-03-16T13:29:58.635Z"
   },
   {
    "duration": 125,
    "start_time": "2023-03-16T13:29:58.752Z"
   },
   {
    "duration": 111,
    "start_time": "2023-03-16T13:29:58.879Z"
   },
   {
    "duration": 29,
    "start_time": "2023-03-16T13:29:58.992Z"
   },
   {
    "duration": 24,
    "start_time": "2023-03-16T13:29:59.023Z"
   },
   {
    "duration": 43,
    "start_time": "2023-03-16T13:29:59.074Z"
   },
   {
    "duration": 16,
    "start_time": "2023-03-16T13:29:59.121Z"
   },
   {
    "duration": 34,
    "start_time": "2023-03-16T13:29:59.139Z"
   },
   {
    "duration": 27,
    "start_time": "2023-03-16T13:29:59.174Z"
   },
   {
    "duration": 26,
    "start_time": "2023-03-16T13:29:59.202Z"
   },
   {
    "duration": 263,
    "start_time": "2023-03-16T13:29:59.230Z"
   },
   {
    "duration": 199,
    "start_time": "2023-03-16T13:29:59.494Z"
   },
   {
    "duration": 4,
    "start_time": "2023-03-16T13:29:59.696Z"
   },
   {
    "duration": 182,
    "start_time": "2023-03-16T13:29:59.702Z"
   },
   {
    "duration": 284,
    "start_time": "2023-03-16T13:29:59.886Z"
   },
   {
    "duration": 4,
    "start_time": "2023-03-16T13:30:00.173Z"
   },
   {
    "duration": 490,
    "start_time": "2023-03-16T13:30:00.179Z"
   },
   {
    "duration": 8,
    "start_time": "2023-03-16T13:30:00.672Z"
   },
   {
    "duration": 71,
    "start_time": "2023-03-16T13:30:00.682Z"
   },
   {
    "duration": 431,
    "start_time": "2023-03-16T13:30:00.755Z"
   },
   {
    "duration": 349,
    "start_time": "2023-03-16T13:30:01.188Z"
   },
   {
    "duration": 51,
    "start_time": "2023-03-16T13:30:01.539Z"
   },
   {
    "duration": 329,
    "start_time": "2023-03-16T13:30:01.592Z"
   },
   {
    "duration": 11,
    "start_time": "2023-03-16T13:30:01.923Z"
   },
   {
    "duration": 503,
    "start_time": "2023-03-16T13:30:01.936Z"
   },
   {
    "duration": 393,
    "start_time": "2023-03-16T13:30:02.441Z"
   },
   {
    "duration": 32,
    "start_time": "2023-03-16T13:31:01.088Z"
   },
   {
    "duration": 291,
    "start_time": "2023-03-16T13:31:01.567Z"
   },
   {
    "duration": 33,
    "start_time": "2023-03-16T13:31:10.998Z"
   },
   {
    "duration": 285,
    "start_time": "2023-03-16T13:31:11.504Z"
   },
   {
    "duration": 37,
    "start_time": "2023-03-16T13:31:40.143Z"
   },
   {
    "duration": 286,
    "start_time": "2023-03-16T13:31:40.631Z"
   },
   {
    "duration": 30,
    "start_time": "2023-03-16T13:33:09.497Z"
   },
   {
    "duration": 367,
    "start_time": "2023-03-16T13:33:17.102Z"
   },
   {
    "duration": 5,
    "start_time": "2023-03-16T13:35:28.279Z"
   },
   {
    "duration": 4,
    "start_time": "2023-03-16T13:35:47.580Z"
   },
   {
    "duration": 689,
    "start_time": "2023-03-16T13:36:16.638Z"
   },
   {
    "duration": 911,
    "start_time": "2023-03-16T13:36:17.329Z"
   },
   {
    "duration": 157,
    "start_time": "2023-03-16T13:36:18.241Z"
   },
   {
    "duration": 19,
    "start_time": "2023-03-16T13:36:18.399Z"
   },
   {
    "duration": 152,
    "start_time": "2023-03-16T13:36:18.420Z"
   },
   {
    "duration": 43,
    "start_time": "2023-03-16T13:36:18.574Z"
   },
   {
    "duration": 19,
    "start_time": "2023-03-16T13:36:18.619Z"
   },
   {
    "duration": 112,
    "start_time": "2023-03-16T13:36:18.640Z"
   },
   {
    "duration": 136,
    "start_time": "2023-03-16T13:36:18.754Z"
   },
   {
    "duration": 103,
    "start_time": "2023-03-16T13:36:18.892Z"
   },
   {
    "duration": 27,
    "start_time": "2023-03-16T13:36:18.997Z"
   },
   {
    "duration": 22,
    "start_time": "2023-03-16T13:36:19.025Z"
   },
   {
    "duration": 45,
    "start_time": "2023-03-16T13:36:19.048Z"
   },
   {
    "duration": 16,
    "start_time": "2023-03-16T13:36:19.096Z"
   },
   {
    "duration": 25,
    "start_time": "2023-03-16T13:36:19.114Z"
   },
   {
    "duration": 45,
    "start_time": "2023-03-16T13:36:19.141Z"
   },
   {
    "duration": 24,
    "start_time": "2023-03-16T13:36:19.188Z"
   },
   {
    "duration": 227,
    "start_time": "2023-03-16T13:36:19.214Z"
   },
   {
    "duration": 191,
    "start_time": "2023-03-16T13:36:19.443Z"
   },
   {
    "duration": 3,
    "start_time": "2023-03-16T13:36:19.636Z"
   },
   {
    "duration": 179,
    "start_time": "2023-03-16T13:36:19.641Z"
   },
   {
    "duration": 275,
    "start_time": "2023-03-16T13:36:19.822Z"
   },
   {
    "duration": 4,
    "start_time": "2023-03-16T13:36:20.098Z"
   },
   {
    "duration": 453,
    "start_time": "2023-03-16T13:36:20.104Z"
   },
   {
    "duration": 19,
    "start_time": "2023-03-16T13:36:20.559Z"
   },
   {
    "duration": 50,
    "start_time": "2023-03-16T13:36:20.580Z"
   },
   {
    "duration": 414,
    "start_time": "2023-03-16T13:36:20.632Z"
   },
   {
    "duration": 329,
    "start_time": "2023-03-16T13:36:21.048Z"
   },
   {
    "duration": 40,
    "start_time": "2023-03-16T13:36:21.378Z"
   },
   {
    "duration": 297,
    "start_time": "2023-03-16T13:36:21.420Z"
   },
   {
    "duration": 449,
    "start_time": "2023-03-16T13:36:21.719Z"
   },
   {
    "duration": 366,
    "start_time": "2023-03-16T13:36:22.172Z"
   },
   {
    "duration": 36,
    "start_time": "2023-03-16T13:36:22.540Z"
   },
   {
    "duration": 384,
    "start_time": "2023-03-16T13:36:22.578Z"
   },
   {
    "duration": 10,
    "start_time": "2023-03-16T13:36:22.964Z"
   },
   {
    "duration": 34,
    "start_time": "2023-03-16T13:36:22.976Z"
   },
   {
    "duration": 4,
    "start_time": "2023-03-16T13:39:42.026Z"
   },
   {
    "duration": 153,
    "start_time": "2023-03-16T13:40:57.309Z"
   },
   {
    "duration": 4,
    "start_time": "2023-03-16T13:41:54.890Z"
   },
   {
    "duration": 881,
    "start_time": "2023-03-16T13:45:46.034Z"
   },
   {
    "duration": 37,
    "start_time": "2023-03-16T13:47:16.449Z"
   },
   {
    "duration": 401,
    "start_time": "2023-03-16T13:47:16.904Z"
   },
   {
    "duration": 4,
    "start_time": "2023-03-16T13:47:18.208Z"
   },
   {
    "duration": 8,
    "start_time": "2023-03-16T13:48:41.312Z"
   },
   {
    "duration": 34,
    "start_time": "2023-03-16T13:50:14.376Z"
   },
   {
    "duration": 378,
    "start_time": "2023-03-16T13:50:15.175Z"
   },
   {
    "duration": 4,
    "start_time": "2023-03-16T13:50:16.680Z"
   },
   {
    "duration": 32,
    "start_time": "2023-03-16T13:50:25.367Z"
   },
   {
    "duration": 372,
    "start_time": "2023-03-16T13:50:25.735Z"
   },
   {
    "duration": 5,
    "start_time": "2023-03-16T13:50:26.145Z"
   },
   {
    "duration": 31,
    "start_time": "2023-03-16T13:50:58.815Z"
   },
   {
    "duration": 359,
    "start_time": "2023-03-16T13:50:59.311Z"
   },
   {
    "duration": 5,
    "start_time": "2023-03-16T13:51:00.734Z"
   },
   {
    "duration": 1507,
    "start_time": "2023-03-16T13:51:05.850Z"
   },
   {
    "duration": 937,
    "start_time": "2023-03-16T13:51:07.359Z"
   },
   {
    "duration": 154,
    "start_time": "2023-03-16T13:51:08.298Z"
   },
   {
    "duration": 26,
    "start_time": "2023-03-16T13:51:08.454Z"
   },
   {
    "duration": 140,
    "start_time": "2023-03-16T13:51:08.482Z"
   },
   {
    "duration": 52,
    "start_time": "2023-03-16T13:51:08.624Z"
   },
   {
    "duration": 14,
    "start_time": "2023-03-16T13:51:08.678Z"
   },
   {
    "duration": 111,
    "start_time": "2023-03-16T13:51:08.693Z"
   },
   {
    "duration": 132,
    "start_time": "2023-03-16T13:51:08.806Z"
   },
   {
    "duration": 110,
    "start_time": "2023-03-16T13:51:08.941Z"
   },
   {
    "duration": 37,
    "start_time": "2023-03-16T13:51:09.053Z"
   },
   {
    "duration": 23,
    "start_time": "2023-03-16T13:51:09.092Z"
   },
   {
    "duration": 30,
    "start_time": "2023-03-16T13:51:09.117Z"
   },
   {
    "duration": 16,
    "start_time": "2023-03-16T13:51:09.172Z"
   },
   {
    "duration": 27,
    "start_time": "2023-03-16T13:51:09.190Z"
   },
   {
    "duration": 33,
    "start_time": "2023-03-16T13:51:09.219Z"
   },
   {
    "duration": 45,
    "start_time": "2023-03-16T13:51:09.254Z"
   },
   {
    "duration": 225,
    "start_time": "2023-03-16T13:51:09.301Z"
   },
   {
    "duration": 193,
    "start_time": "2023-03-16T13:51:09.528Z"
   },
   {
    "duration": 5,
    "start_time": "2023-03-16T13:51:09.723Z"
   },
   {
    "duration": 290,
    "start_time": "2023-03-16T13:51:09.730Z"
   },
   {
    "duration": 4,
    "start_time": "2023-03-16T13:51:10.021Z"
   },
   {
    "duration": 483,
    "start_time": "2023-03-16T13:51:10.027Z"
   },
   {
    "duration": 10,
    "start_time": "2023-03-16T13:51:10.512Z"
   },
   {
    "duration": 62,
    "start_time": "2023-03-16T13:51:10.525Z"
   },
   {
    "duration": 444,
    "start_time": "2023-03-16T13:51:10.590Z"
   },
   {
    "duration": 352,
    "start_time": "2023-03-16T13:51:11.036Z"
   },
   {
    "duration": 41,
    "start_time": "2023-03-16T13:51:11.393Z"
   },
   {
    "duration": 314,
    "start_time": "2023-03-16T13:51:11.436Z"
   },
   {
    "duration": 376,
    "start_time": "2023-03-16T13:51:11.752Z"
   },
   {
    "duration": 391,
    "start_time": "2023-03-16T13:51:12.130Z"
   },
   {
    "duration": 32,
    "start_time": "2023-03-16T13:51:12.523Z"
   },
   {
    "duration": 461,
    "start_time": "2023-03-16T13:51:12.557Z"
   },
   {
    "duration": 4,
    "start_time": "2023-03-16T13:51:13.020Z"
   },
   {
    "duration": 3,
    "start_time": "2023-03-16T14:40:33.337Z"
   },
   {
    "duration": 4,
    "start_time": "2023-03-16T14:41:59.808Z"
   },
   {
    "duration": 650,
    "start_time": "2023-03-16T14:42:13.736Z"
   },
   {
    "duration": 376,
    "start_time": "2023-03-16T14:43:22.311Z"
   },
   {
    "duration": 1403,
    "start_time": "2023-03-16T14:43:33.010Z"
   },
   {
    "duration": 963,
    "start_time": "2023-03-16T14:43:34.416Z"
   },
   {
    "duration": 159,
    "start_time": "2023-03-16T14:43:35.381Z"
   },
   {
    "duration": 16,
    "start_time": "2023-03-16T14:43:35.542Z"
   },
   {
    "duration": 133,
    "start_time": "2023-03-16T14:43:35.572Z"
   },
   {
    "duration": 41,
    "start_time": "2023-03-16T14:43:35.707Z"
   },
   {
    "duration": 27,
    "start_time": "2023-03-16T14:43:35.750Z"
   },
   {
    "duration": 104,
    "start_time": "2023-03-16T14:43:35.779Z"
   },
   {
    "duration": 132,
    "start_time": "2023-03-16T14:43:35.884Z"
   },
   {
    "duration": 92,
    "start_time": "2023-03-16T14:43:36.018Z"
   },
   {
    "duration": 25,
    "start_time": "2023-03-16T14:43:36.112Z"
   },
   {
    "duration": 38,
    "start_time": "2023-03-16T14:43:36.139Z"
   },
   {
    "duration": 27,
    "start_time": "2023-03-16T14:43:36.179Z"
   },
   {
    "duration": 17,
    "start_time": "2023-03-16T14:43:36.210Z"
   },
   {
    "duration": 26,
    "start_time": "2023-03-16T14:43:36.228Z"
   },
   {
    "duration": 24,
    "start_time": "2023-03-16T14:43:36.273Z"
   },
   {
    "duration": 26,
    "start_time": "2023-03-16T14:43:36.298Z"
   },
   {
    "duration": 225,
    "start_time": "2023-03-16T14:43:36.326Z"
   },
   {
    "duration": 206,
    "start_time": "2023-03-16T14:43:36.553Z"
   },
   {
    "duration": 4,
    "start_time": "2023-03-16T14:43:36.760Z"
   },
   {
    "duration": 289,
    "start_time": "2023-03-16T14:43:36.773Z"
   },
   {
    "duration": 4,
    "start_time": "2023-03-16T14:43:37.064Z"
   },
   {
    "duration": 445,
    "start_time": "2023-03-16T14:43:37.073Z"
   },
   {
    "duration": 8,
    "start_time": "2023-03-16T14:43:37.520Z"
   },
   {
    "duration": 61,
    "start_time": "2023-03-16T14:43:37.530Z"
   },
   {
    "duration": 417,
    "start_time": "2023-03-16T14:43:37.593Z"
   },
   {
    "duration": 342,
    "start_time": "2023-03-16T14:43:38.012Z"
   },
   {
    "duration": 55,
    "start_time": "2023-03-16T14:43:38.356Z"
   },
   {
    "duration": 306,
    "start_time": "2023-03-16T14:43:38.413Z"
   },
   {
    "duration": 389,
    "start_time": "2023-03-16T14:43:38.721Z"
   },
   {
    "duration": 375,
    "start_time": "2023-03-16T14:43:39.111Z"
   },
   {
    "duration": 31,
    "start_time": "2023-03-16T14:43:39.488Z"
   },
   {
    "duration": 429,
    "start_time": "2023-03-16T14:43:39.521Z"
   },
   {
    "duration": 5,
    "start_time": "2023-03-16T14:43:39.951Z"
   },
   {
    "duration": 606,
    "start_time": "2023-03-16T14:43:39.958Z"
   },
   {
    "duration": 18,
    "start_time": "2023-03-16T14:44:06.589Z"
   },
   {
    "duration": 1390,
    "start_time": "2023-03-16T14:44:11.724Z"
   },
   {
    "duration": 914,
    "start_time": "2023-03-16T14:44:13.117Z"
   },
   {
    "duration": 155,
    "start_time": "2023-03-16T14:44:14.032Z"
   },
   {
    "duration": 16,
    "start_time": "2023-03-16T14:44:14.189Z"
   },
   {
    "duration": 149,
    "start_time": "2023-03-16T14:44:14.207Z"
   },
   {
    "duration": 47,
    "start_time": "2023-03-16T14:44:14.358Z"
   },
   {
    "duration": 27,
    "start_time": "2023-03-16T14:44:14.406Z"
   },
   {
    "duration": 109,
    "start_time": "2023-03-16T14:44:14.435Z"
   },
   {
    "duration": 144,
    "start_time": "2023-03-16T14:44:14.546Z"
   },
   {
    "duration": 99,
    "start_time": "2023-03-16T14:44:14.693Z"
   },
   {
    "duration": 25,
    "start_time": "2023-03-16T14:44:14.794Z"
   },
   {
    "duration": 44,
    "start_time": "2023-03-16T14:44:14.821Z"
   },
   {
    "duration": 29,
    "start_time": "2023-03-16T14:44:14.867Z"
   },
   {
    "duration": 22,
    "start_time": "2023-03-16T14:44:14.898Z"
   },
   {
    "duration": 29,
    "start_time": "2023-03-16T14:44:14.922Z"
   },
   {
    "duration": 42,
    "start_time": "2023-03-16T14:44:14.953Z"
   },
   {
    "duration": 50,
    "start_time": "2023-03-16T14:44:14.996Z"
   },
   {
    "duration": 229,
    "start_time": "2023-03-16T14:44:15.048Z"
   },
   {
    "duration": 203,
    "start_time": "2023-03-16T14:44:15.279Z"
   },
   {
    "duration": 4,
    "start_time": "2023-03-16T14:44:15.484Z"
   },
   {
    "duration": 318,
    "start_time": "2023-03-16T14:44:15.489Z"
   },
   {
    "duration": 3,
    "start_time": "2023-03-16T14:44:15.810Z"
   },
   {
    "duration": 437,
    "start_time": "2023-03-16T14:44:15.815Z"
   },
   {
    "duration": 8,
    "start_time": "2023-03-16T14:44:16.253Z"
   },
   {
    "duration": 42,
    "start_time": "2023-03-16T14:44:16.273Z"
   },
   {
    "duration": 435,
    "start_time": "2023-03-16T14:44:16.317Z"
   },
   {
    "duration": 349,
    "start_time": "2023-03-16T14:44:16.754Z"
   },
   {
    "duration": 42,
    "start_time": "2023-03-16T14:44:17.108Z"
   },
   {
    "duration": 307,
    "start_time": "2023-03-16T14:44:17.151Z"
   },
   {
    "duration": 378,
    "start_time": "2023-03-16T14:44:17.460Z"
   },
   {
    "duration": 390,
    "start_time": "2023-03-16T14:44:17.840Z"
   },
   {
    "duration": 42,
    "start_time": "2023-03-16T14:44:18.232Z"
   },
   {
    "duration": 441,
    "start_time": "2023-03-16T14:44:18.276Z"
   },
   {
    "duration": 4,
    "start_time": "2023-03-16T14:44:18.720Z"
   },
   {
    "duration": 19,
    "start_time": "2023-03-16T14:44:18.725Z"
   },
   {
    "duration": 559,
    "start_time": "2023-03-16T14:44:18.746Z"
   },
   {
    "duration": 107,
    "start_time": "2023-03-16T14:49:25.587Z"
   },
   {
    "duration": 426,
    "start_time": "2023-03-16T14:49:36.436Z"
   },
   {
    "duration": 1413,
    "start_time": "2023-03-16T14:49:42.742Z"
   },
   {
    "duration": 928,
    "start_time": "2023-03-16T14:49:44.157Z"
   },
   {
    "duration": 157,
    "start_time": "2023-03-16T14:49:45.087Z"
   },
   {
    "duration": 27,
    "start_time": "2023-03-16T14:49:45.246Z"
   },
   {
    "duration": 145,
    "start_time": "2023-03-16T14:49:45.275Z"
   },
   {
    "duration": 51,
    "start_time": "2023-03-16T14:49:45.422Z"
   },
   {
    "duration": 13,
    "start_time": "2023-03-16T14:49:45.475Z"
   },
   {
    "duration": 101,
    "start_time": "2023-03-16T14:49:45.489Z"
   },
   {
    "duration": 132,
    "start_time": "2023-03-16T14:49:45.592Z"
   },
   {
    "duration": 98,
    "start_time": "2023-03-16T14:49:45.726Z"
   },
   {
    "duration": 26,
    "start_time": "2023-03-16T14:49:45.825Z"
   },
   {
    "duration": 37,
    "start_time": "2023-03-16T14:49:45.852Z"
   },
   {
    "duration": 29,
    "start_time": "2023-03-16T14:49:45.890Z"
   },
   {
    "duration": 14,
    "start_time": "2023-03-16T14:49:45.922Z"
   },
   {
    "duration": 50,
    "start_time": "2023-03-16T14:49:45.938Z"
   },
   {
    "duration": 28,
    "start_time": "2023-03-16T14:49:45.990Z"
   },
   {
    "duration": 30,
    "start_time": "2023-03-16T14:49:46.020Z"
   },
   {
    "duration": 213,
    "start_time": "2023-03-16T14:49:46.052Z"
   },
   {
    "duration": 191,
    "start_time": "2023-03-16T14:49:46.267Z"
   },
   {
    "duration": 14,
    "start_time": "2023-03-16T14:49:46.459Z"
   },
   {
    "duration": 313,
    "start_time": "2023-03-16T14:49:46.475Z"
   },
   {
    "duration": 5,
    "start_time": "2023-03-16T14:49:46.789Z"
   },
   {
    "duration": 440,
    "start_time": "2023-03-16T14:49:46.795Z"
   },
   {
    "duration": 7,
    "start_time": "2023-03-16T14:49:47.237Z"
   },
   {
    "duration": 58,
    "start_time": "2023-03-16T14:49:47.246Z"
   },
   {
    "duration": 457,
    "start_time": "2023-03-16T14:49:47.306Z"
   },
   {
    "duration": 366,
    "start_time": "2023-03-16T14:49:47.765Z"
   },
   {
    "duration": 49,
    "start_time": "2023-03-16T14:49:48.133Z"
   },
   {
    "duration": 306,
    "start_time": "2023-03-16T14:49:48.184Z"
   },
   {
    "duration": 386,
    "start_time": "2023-03-16T14:49:48.492Z"
   },
   {
    "duration": 390,
    "start_time": "2023-03-16T14:49:48.880Z"
   },
   {
    "duration": 32,
    "start_time": "2023-03-16T14:49:49.273Z"
   },
   {
    "duration": 446,
    "start_time": "2023-03-16T14:49:49.307Z"
   },
   {
    "duration": 5,
    "start_time": "2023-03-16T14:49:49.755Z"
   },
   {
    "duration": 27,
    "start_time": "2023-03-16T14:49:49.762Z"
   },
   {
    "duration": 568,
    "start_time": "2023-03-16T14:49:49.791Z"
   },
   {
    "duration": 343,
    "start_time": "2023-03-16T14:52:50.324Z"
   },
   {
    "duration": 249,
    "start_time": "2023-03-16T14:53:04.260Z"
   },
   {
    "duration": 1417,
    "start_time": "2023-03-16T14:53:52.597Z"
   },
   {
    "duration": 943,
    "start_time": "2023-03-16T14:53:54.017Z"
   },
   {
    "duration": 151,
    "start_time": "2023-03-16T14:53:54.962Z"
   },
   {
    "duration": 19,
    "start_time": "2023-03-16T14:53:55.115Z"
   },
   {
    "duration": 151,
    "start_time": "2023-03-16T14:53:55.136Z"
   },
   {
    "duration": 39,
    "start_time": "2023-03-16T14:53:55.289Z"
   },
   {
    "duration": 18,
    "start_time": "2023-03-16T14:53:55.330Z"
   },
   {
    "duration": 109,
    "start_time": "2023-03-16T14:53:55.350Z"
   },
   {
    "duration": 155,
    "start_time": "2023-03-16T14:53:55.461Z"
   },
   {
    "duration": 98,
    "start_time": "2023-03-16T14:53:55.618Z"
   },
   {
    "duration": 24,
    "start_time": "2023-03-16T14:53:55.718Z"
   },
   {
    "duration": 39,
    "start_time": "2023-03-16T14:53:55.743Z"
   },
   {
    "duration": 31,
    "start_time": "2023-03-16T14:53:55.784Z"
   },
   {
    "duration": 13,
    "start_time": "2023-03-16T14:53:55.818Z"
   },
   {
    "duration": 47,
    "start_time": "2023-03-16T14:53:55.832Z"
   },
   {
    "duration": 28,
    "start_time": "2023-03-16T14:53:55.880Z"
   },
   {
    "duration": 27,
    "start_time": "2023-03-16T14:53:55.910Z"
   },
   {
    "duration": 233,
    "start_time": "2023-03-16T14:53:55.939Z"
   },
   {
    "duration": 202,
    "start_time": "2023-03-16T14:53:56.174Z"
   },
   {
    "duration": 4,
    "start_time": "2023-03-16T14:53:56.378Z"
   },
   {
    "duration": 300,
    "start_time": "2023-03-16T14:53:56.384Z"
   },
   {
    "duration": 4,
    "start_time": "2023-03-16T14:53:56.686Z"
   },
   {
    "duration": 447,
    "start_time": "2023-03-16T14:53:56.692Z"
   },
   {
    "duration": 8,
    "start_time": "2023-03-16T14:53:57.141Z"
   },
   {
    "duration": 57,
    "start_time": "2023-03-16T14:53:57.150Z"
   },
   {
    "duration": 436,
    "start_time": "2023-03-16T14:53:57.209Z"
   },
   {
    "duration": 339,
    "start_time": "2023-03-16T14:53:57.647Z"
   },
   {
    "duration": 42,
    "start_time": "2023-03-16T14:53:57.988Z"
   },
   {
    "duration": 305,
    "start_time": "2023-03-16T14:53:58.032Z"
   },
   {
    "duration": 385,
    "start_time": "2023-03-16T14:53:58.339Z"
   },
   {
    "duration": 400,
    "start_time": "2023-03-16T14:53:58.726Z"
   },
   {
    "duration": 32,
    "start_time": "2023-03-16T14:53:59.128Z"
   },
   {
    "duration": 450,
    "start_time": "2023-03-16T14:53:59.161Z"
   },
   {
    "duration": 4,
    "start_time": "2023-03-16T14:53:59.613Z"
   },
   {
    "duration": 15,
    "start_time": "2023-03-16T14:53:59.618Z"
   },
   {
    "duration": 459,
    "start_time": "2023-03-16T14:53:59.634Z"
   },
   {
    "duration": 172,
    "start_time": "2023-03-16T14:54:07.564Z"
   },
   {
    "duration": 33,
    "start_time": "2023-03-16T14:54:24.635Z"
   },
   {
    "duration": 1411,
    "start_time": "2023-03-16T14:54:34.285Z"
   },
   {
    "duration": 902,
    "start_time": "2023-03-16T14:54:35.698Z"
   },
   {
    "duration": 138,
    "start_time": "2023-03-16T14:54:36.601Z"
   },
   {
    "duration": 16,
    "start_time": "2023-03-16T14:54:36.741Z"
   },
   {
    "duration": 128,
    "start_time": "2023-03-16T14:54:36.774Z"
   },
   {
    "duration": 35,
    "start_time": "2023-03-16T14:54:36.904Z"
   },
   {
    "duration": 14,
    "start_time": "2023-03-16T14:54:36.941Z"
   },
   {
    "duration": 86,
    "start_time": "2023-03-16T14:54:36.973Z"
   },
   {
    "duration": 136,
    "start_time": "2023-03-16T14:54:37.061Z"
   },
   {
    "duration": 100,
    "start_time": "2023-03-16T14:54:37.198Z"
   },
   {
    "duration": 25,
    "start_time": "2023-03-16T14:54:37.300Z"
   },
   {
    "duration": 21,
    "start_time": "2023-03-16T14:54:37.327Z"
   },
   {
    "duration": 46,
    "start_time": "2023-03-16T14:54:37.349Z"
   },
   {
    "duration": 13,
    "start_time": "2023-03-16T14:54:37.398Z"
   },
   {
    "duration": 22,
    "start_time": "2023-03-16T14:54:37.413Z"
   },
   {
    "duration": 54,
    "start_time": "2023-03-16T14:54:37.437Z"
   },
   {
    "duration": 25,
    "start_time": "2023-03-16T14:54:37.493Z"
   },
   {
    "duration": 227,
    "start_time": "2023-03-16T14:54:37.519Z"
   },
   {
    "duration": 206,
    "start_time": "2023-03-16T14:54:37.747Z"
   },
   {
    "duration": 5,
    "start_time": "2023-03-16T14:54:37.955Z"
   },
   {
    "duration": 294,
    "start_time": "2023-03-16T14:54:37.961Z"
   },
   {
    "duration": 4,
    "start_time": "2023-03-16T14:54:38.257Z"
   },
   {
    "duration": 438,
    "start_time": "2023-03-16T14:54:38.273Z"
   },
   {
    "duration": 8,
    "start_time": "2023-03-16T14:54:38.712Z"
   },
   {
    "duration": 57,
    "start_time": "2023-03-16T14:54:38.722Z"
   },
   {
    "duration": 453,
    "start_time": "2023-03-16T14:54:38.780Z"
   },
   {
    "duration": 335,
    "start_time": "2023-03-16T14:54:39.234Z"
   },
   {
    "duration": 42,
    "start_time": "2023-03-16T14:54:39.572Z"
   },
   {
    "duration": 290,
    "start_time": "2023-03-16T14:54:39.616Z"
   },
   {
    "duration": 379,
    "start_time": "2023-03-16T14:54:39.908Z"
   },
   {
    "duration": 450,
    "start_time": "2023-03-16T14:54:40.289Z"
   },
   {
    "duration": 36,
    "start_time": "2023-03-16T14:54:40.741Z"
   },
   {
    "duration": 426,
    "start_time": "2023-03-16T14:54:40.779Z"
   },
   {
    "duration": 4,
    "start_time": "2023-03-16T14:54:41.207Z"
   },
   {
    "duration": 13,
    "start_time": "2023-03-16T14:54:41.212Z"
   },
   {
    "duration": 456,
    "start_time": "2023-03-16T14:54:41.227Z"
   },
   {
    "duration": 23,
    "start_time": "2023-03-16T14:54:55.185Z"
   },
   {
    "duration": 163,
    "start_time": "2023-03-16T14:55:41.858Z"
   },
   {
    "duration": 1458,
    "start_time": "2023-03-16T14:55:50.277Z"
   },
   {
    "duration": 942,
    "start_time": "2023-03-16T14:55:51.737Z"
   },
   {
    "duration": 141,
    "start_time": "2023-03-16T14:55:52.681Z"
   },
   {
    "duration": 17,
    "start_time": "2023-03-16T14:55:52.824Z"
   },
   {
    "duration": 147,
    "start_time": "2023-03-16T14:55:52.843Z"
   },
   {
    "duration": 39,
    "start_time": "2023-03-16T14:55:52.992Z"
   },
   {
    "duration": 23,
    "start_time": "2023-03-16T14:55:53.033Z"
   },
   {
    "duration": 97,
    "start_time": "2023-03-16T14:55:53.058Z"
   },
   {
    "duration": 128,
    "start_time": "2023-03-16T14:55:53.157Z"
   },
   {
    "duration": 92,
    "start_time": "2023-03-16T14:55:53.288Z"
   },
   {
    "duration": 25,
    "start_time": "2023-03-16T14:55:53.382Z"
   },
   {
    "duration": 22,
    "start_time": "2023-03-16T14:55:53.409Z"
   },
   {
    "duration": 51,
    "start_time": "2023-03-16T14:55:53.432Z"
   },
   {
    "duration": 12,
    "start_time": "2023-03-16T14:55:53.485Z"
   },
   {
    "duration": 31,
    "start_time": "2023-03-16T14:55:53.499Z"
   },
   {
    "duration": 31,
    "start_time": "2023-03-16T14:55:53.532Z"
   },
   {
    "duration": 26,
    "start_time": "2023-03-16T14:55:53.573Z"
   },
   {
    "duration": 225,
    "start_time": "2023-03-16T14:55:53.601Z"
   },
   {
    "duration": 194,
    "start_time": "2023-03-16T14:55:53.828Z"
   },
   {
    "duration": 4,
    "start_time": "2023-03-16T14:55:54.024Z"
   },
   {
    "duration": 305,
    "start_time": "2023-03-16T14:55:54.030Z"
   },
   {
    "duration": 5,
    "start_time": "2023-03-16T14:55:54.337Z"
   },
   {
    "duration": 474,
    "start_time": "2023-03-16T14:55:54.343Z"
   },
   {
    "duration": 9,
    "start_time": "2023-03-16T14:55:54.819Z"
   },
   {
    "duration": 59,
    "start_time": "2023-03-16T14:55:54.830Z"
   },
   {
    "duration": 468,
    "start_time": "2023-03-16T14:55:54.891Z"
   },
   {
    "duration": 376,
    "start_time": "2023-03-16T14:55:55.362Z"
   },
   {
    "duration": 47,
    "start_time": "2023-03-16T14:55:55.741Z"
   },
   {
    "duration": 312,
    "start_time": "2023-03-16T14:55:55.790Z"
   },
   {
    "duration": 411,
    "start_time": "2023-03-16T14:55:56.103Z"
   },
   {
    "duration": 436,
    "start_time": "2023-03-16T14:55:56.516Z"
   },
   {
    "duration": 39,
    "start_time": "2023-03-16T14:55:56.954Z"
   },
   {
    "duration": 467,
    "start_time": "2023-03-16T14:55:56.995Z"
   },
   {
    "duration": 10,
    "start_time": "2023-03-16T14:55:57.464Z"
   },
   {
    "duration": 15,
    "start_time": "2023-03-16T14:55:57.476Z"
   },
   {
    "duration": 455,
    "start_time": "2023-03-16T14:55:57.493Z"
   },
   {
    "duration": 28,
    "start_time": "2023-03-16T14:55:57.950Z"
   },
   {
    "duration": 1395,
    "start_time": "2023-03-16T14:56:32.901Z"
   },
   {
    "duration": 972,
    "start_time": "2023-03-16T14:56:34.299Z"
   },
   {
    "duration": 156,
    "start_time": "2023-03-16T14:56:35.273Z"
   },
   {
    "duration": 18,
    "start_time": "2023-03-16T14:56:35.430Z"
   },
   {
    "duration": 145,
    "start_time": "2023-03-16T14:56:35.451Z"
   },
   {
    "duration": 41,
    "start_time": "2023-03-16T14:56:35.598Z"
   },
   {
    "duration": 40,
    "start_time": "2023-03-16T14:56:35.640Z"
   },
   {
    "duration": 95,
    "start_time": "2023-03-16T14:56:35.682Z"
   },
   {
    "duration": 134,
    "start_time": "2023-03-16T14:56:35.779Z"
   },
   {
    "duration": 103,
    "start_time": "2023-03-16T14:56:35.915Z"
   },
   {
    "duration": 25,
    "start_time": "2023-03-16T14:56:36.020Z"
   },
   {
    "duration": 34,
    "start_time": "2023-03-16T14:56:36.047Z"
   },
   {
    "duration": 29,
    "start_time": "2023-03-16T14:56:36.083Z"
   },
   {
    "duration": 14,
    "start_time": "2023-03-16T14:56:36.115Z"
   },
   {
    "duration": 50,
    "start_time": "2023-03-16T14:56:36.132Z"
   },
   {
    "duration": 41,
    "start_time": "2023-03-16T14:56:36.184Z"
   },
   {
    "duration": 25,
    "start_time": "2023-03-16T14:56:36.227Z"
   },
   {
    "duration": 229,
    "start_time": "2023-03-16T14:56:36.254Z"
   },
   {
    "duration": 215,
    "start_time": "2023-03-16T14:56:36.485Z"
   },
   {
    "duration": 4,
    "start_time": "2023-03-16T14:56:36.702Z"
   },
   {
    "duration": 294,
    "start_time": "2023-03-16T14:56:36.708Z"
   },
   {
    "duration": 4,
    "start_time": "2023-03-16T14:56:37.004Z"
   },
   {
    "duration": 491,
    "start_time": "2023-03-16T14:56:37.010Z"
   },
   {
    "duration": 9,
    "start_time": "2023-03-16T14:56:37.503Z"
   },
   {
    "duration": 59,
    "start_time": "2023-03-16T14:56:37.514Z"
   },
   {
    "duration": 466,
    "start_time": "2023-03-16T14:56:37.575Z"
   },
   {
    "duration": 346,
    "start_time": "2023-03-16T14:56:38.043Z"
   },
   {
    "duration": 43,
    "start_time": "2023-03-16T14:56:38.391Z"
   },
   {
    "duration": 316,
    "start_time": "2023-03-16T14:56:38.436Z"
   },
   {
    "duration": 412,
    "start_time": "2023-03-16T14:56:38.755Z"
   },
   {
    "duration": 399,
    "start_time": "2023-03-16T14:56:39.169Z"
   },
   {
    "duration": 32,
    "start_time": "2023-03-16T14:56:39.573Z"
   },
   {
    "duration": 461,
    "start_time": "2023-03-16T14:56:39.607Z"
   },
   {
    "duration": 4,
    "start_time": "2023-03-16T14:56:40.070Z"
   },
   {
    "duration": 24,
    "start_time": "2023-03-16T14:56:40.076Z"
   },
   {
    "duration": 451,
    "start_time": "2023-03-16T14:56:40.102Z"
   },
   {
    "duration": 9,
    "start_time": "2023-03-16T14:56:40.555Z"
   },
   {
    "duration": 121,
    "start_time": "2023-03-16T14:58:10.753Z"
   },
   {
    "duration": 14,
    "start_time": "2023-03-16T14:59:07.488Z"
   },
   {
    "duration": 17,
    "start_time": "2023-03-16T15:00:00.393Z"
   },
   {
    "duration": 1554,
    "start_time": "2023-03-16T15:00:05.534Z"
   },
   {
    "duration": 947,
    "start_time": "2023-03-16T15:00:07.090Z"
   },
   {
    "duration": 149,
    "start_time": "2023-03-16T15:00:08.039Z"
   },
   {
    "duration": 17,
    "start_time": "2023-03-16T15:00:08.190Z"
   },
   {
    "duration": 150,
    "start_time": "2023-03-16T15:00:08.209Z"
   },
   {
    "duration": 43,
    "start_time": "2023-03-16T15:00:08.361Z"
   },
   {
    "duration": 14,
    "start_time": "2023-03-16T15:00:08.406Z"
   },
   {
    "duration": 106,
    "start_time": "2023-03-16T15:00:08.422Z"
   },
   {
    "duration": 133,
    "start_time": "2023-03-16T15:00:08.530Z"
   },
   {
    "duration": 91,
    "start_time": "2023-03-16T15:00:08.666Z"
   },
   {
    "duration": 27,
    "start_time": "2023-03-16T15:00:08.772Z"
   },
   {
    "duration": 21,
    "start_time": "2023-03-16T15:00:08.801Z"
   },
   {
    "duration": 52,
    "start_time": "2023-03-16T15:00:08.824Z"
   },
   {
    "duration": 13,
    "start_time": "2023-03-16T15:00:08.879Z"
   },
   {
    "duration": 27,
    "start_time": "2023-03-16T15:00:08.894Z"
   },
   {
    "duration": 29,
    "start_time": "2023-03-16T15:00:08.923Z"
   },
   {
    "duration": 30,
    "start_time": "2023-03-16T15:00:08.972Z"
   },
   {
    "duration": 230,
    "start_time": "2023-03-16T15:00:09.004Z"
   },
   {
    "duration": 204,
    "start_time": "2023-03-16T15:00:09.236Z"
   },
   {
    "duration": 4,
    "start_time": "2023-03-16T15:00:09.442Z"
   },
   {
    "duration": 298,
    "start_time": "2023-03-16T15:00:09.449Z"
   },
   {
    "duration": 5,
    "start_time": "2023-03-16T15:00:09.748Z"
   },
   {
    "duration": 475,
    "start_time": "2023-03-16T15:00:09.755Z"
   },
   {
    "duration": 9,
    "start_time": "2023-03-16T15:00:10.232Z"
   },
   {
    "duration": 59,
    "start_time": "2023-03-16T15:00:10.243Z"
   },
   {
    "duration": 506,
    "start_time": "2023-03-16T15:00:10.304Z"
   },
   {
    "duration": 338,
    "start_time": "2023-03-16T15:00:10.812Z"
   },
   {
    "duration": 49,
    "start_time": "2023-03-16T15:00:11.152Z"
   },
   {
    "duration": 296,
    "start_time": "2023-03-16T15:00:11.203Z"
   },
   {
    "duration": 396,
    "start_time": "2023-03-16T15:00:11.501Z"
   },
   {
    "duration": 410,
    "start_time": "2023-03-16T15:00:11.899Z"
   },
   {
    "duration": 34,
    "start_time": "2023-03-16T15:00:12.311Z"
   },
   {
    "duration": 486,
    "start_time": "2023-03-16T15:00:12.346Z"
   },
   {
    "duration": 4,
    "start_time": "2023-03-16T15:00:12.834Z"
   },
   {
    "duration": 17,
    "start_time": "2023-03-16T15:00:12.840Z"
   },
   {
    "duration": 472,
    "start_time": "2023-03-16T15:00:12.872Z"
   },
   {
    "duration": 32,
    "start_time": "2023-03-16T15:00:13.346Z"
   },
   {
    "duration": 5,
    "start_time": "2023-03-16T15:00:40.657Z"
   },
   {
    "duration": 1445,
    "start_time": "2023-03-16T15:00:47.288Z"
   },
   {
    "duration": 972,
    "start_time": "2023-03-16T15:00:48.735Z"
   },
   {
    "duration": 167,
    "start_time": "2023-03-16T15:00:49.708Z"
   },
   {
    "duration": 24,
    "start_time": "2023-03-16T15:00:49.877Z"
   },
   {
    "duration": 160,
    "start_time": "2023-03-16T15:00:49.904Z"
   },
   {
    "duration": 43,
    "start_time": "2023-03-16T15:00:50.067Z"
   },
   {
    "duration": 16,
    "start_time": "2023-03-16T15:00:50.112Z"
   },
   {
    "duration": 116,
    "start_time": "2023-03-16T15:00:50.130Z"
   },
   {
    "duration": 133,
    "start_time": "2023-03-16T15:00:50.248Z"
   },
   {
    "duration": 132,
    "start_time": "2023-03-16T15:00:50.383Z"
   },
   {
    "duration": 40,
    "start_time": "2023-03-16T15:00:50.517Z"
   },
   {
    "duration": 35,
    "start_time": "2023-03-16T15:00:50.573Z"
   },
   {
    "duration": 57,
    "start_time": "2023-03-16T15:00:50.610Z"
   },
   {
    "duration": 33,
    "start_time": "2023-03-16T15:00:50.672Z"
   },
   {
    "duration": 44,
    "start_time": "2023-03-16T15:00:50.712Z"
   },
   {
    "duration": 150,
    "start_time": "2023-03-16T15:00:50.757Z"
   },
   {
    "duration": 46,
    "start_time": "2023-03-16T15:00:50.909Z"
   },
   {
    "duration": 253,
    "start_time": "2023-03-16T15:00:50.957Z"
   },
   {
    "duration": 203,
    "start_time": "2023-03-16T15:00:51.212Z"
   },
   {
    "duration": 5,
    "start_time": "2023-03-16T15:00:51.417Z"
   },
   {
    "duration": 319,
    "start_time": "2023-03-16T15:00:51.424Z"
   },
   {
    "duration": 4,
    "start_time": "2023-03-16T15:00:51.745Z"
   },
   {
    "duration": 483,
    "start_time": "2023-03-16T15:00:51.751Z"
   },
   {
    "duration": 9,
    "start_time": "2023-03-16T15:00:52.235Z"
   },
   {
    "duration": 66,
    "start_time": "2023-03-16T15:00:52.246Z"
   },
   {
    "duration": 455,
    "start_time": "2023-03-16T15:00:52.314Z"
   },
   {
    "duration": 356,
    "start_time": "2023-03-16T15:00:52.773Z"
   },
   {
    "duration": 52,
    "start_time": "2023-03-16T15:00:53.131Z"
   },
   {
    "duration": 304,
    "start_time": "2023-03-16T15:00:53.186Z"
   },
   {
    "duration": 398,
    "start_time": "2023-03-16T15:00:53.492Z"
   },
   {
    "duration": 510,
    "start_time": "2023-03-16T15:00:53.892Z"
   },
   {
    "duration": 33,
    "start_time": "2023-03-16T15:00:54.404Z"
   },
   {
    "duration": 491,
    "start_time": "2023-03-16T15:00:54.439Z"
   },
   {
    "duration": 4,
    "start_time": "2023-03-16T15:00:54.932Z"
   },
   {
    "duration": 26,
    "start_time": "2023-03-16T15:00:54.938Z"
   },
   {
    "duration": 13,
    "start_time": "2023-03-16T15:00:54.966Z"
   },
   {
    "duration": 473,
    "start_time": "2023-03-16T15:00:54.980Z"
   },
   {
    "duration": 24,
    "start_time": "2023-03-16T15:00:55.455Z"
   },
   {
    "duration": 33,
    "start_time": "2023-03-16T15:01:58.510Z"
   },
   {
    "duration": 1503,
    "start_time": "2023-03-16T15:02:04.395Z"
   },
   {
    "duration": 940,
    "start_time": "2023-03-16T15:02:05.900Z"
   },
   {
    "duration": 153,
    "start_time": "2023-03-16T15:02:06.842Z"
   },
   {
    "duration": 18,
    "start_time": "2023-03-16T15:02:06.997Z"
   },
   {
    "duration": 154,
    "start_time": "2023-03-16T15:02:07.019Z"
   },
   {
    "duration": 41,
    "start_time": "2023-03-16T15:02:07.175Z"
   },
   {
    "duration": 17,
    "start_time": "2023-03-16T15:02:07.218Z"
   },
   {
    "duration": 109,
    "start_time": "2023-03-16T15:02:07.237Z"
   },
   {
    "duration": 135,
    "start_time": "2023-03-16T15:02:07.348Z"
   },
   {
    "duration": 98,
    "start_time": "2023-03-16T15:02:07.485Z"
   },
   {
    "duration": 26,
    "start_time": "2023-03-16T15:02:07.585Z"
   },
   {
    "duration": 24,
    "start_time": "2023-03-16T15:02:07.613Z"
   },
   {
    "duration": 45,
    "start_time": "2023-03-16T15:02:07.639Z"
   },
   {
    "duration": 12,
    "start_time": "2023-03-16T15:02:07.687Z"
   },
   {
    "duration": 23,
    "start_time": "2023-03-16T15:02:07.701Z"
   },
   {
    "duration": 48,
    "start_time": "2023-03-16T15:02:07.725Z"
   },
   {
    "duration": 27,
    "start_time": "2023-03-16T15:02:07.775Z"
   },
   {
    "duration": 252,
    "start_time": "2023-03-16T15:02:07.803Z"
   },
   {
    "duration": 208,
    "start_time": "2023-03-16T15:02:08.057Z"
   },
   {
    "duration": 7,
    "start_time": "2023-03-16T15:02:08.267Z"
   },
   {
    "duration": 291,
    "start_time": "2023-03-16T15:02:08.276Z"
   },
   {
    "duration": 5,
    "start_time": "2023-03-16T15:02:08.569Z"
   },
   {
    "duration": 499,
    "start_time": "2023-03-16T15:02:08.576Z"
   },
   {
    "duration": 8,
    "start_time": "2023-03-16T15:02:09.077Z"
   },
   {
    "duration": 44,
    "start_time": "2023-03-16T15:02:09.087Z"
   },
   {
    "duration": 458,
    "start_time": "2023-03-16T15:02:09.133Z"
   },
   {
    "duration": 351,
    "start_time": "2023-03-16T15:02:09.593Z"
   },
   {
    "duration": 49,
    "start_time": "2023-03-16T15:02:09.945Z"
   },
   {
    "duration": 308,
    "start_time": "2023-03-16T15:02:09.996Z"
   },
   {
    "duration": 425,
    "start_time": "2023-03-16T15:02:10.312Z"
   },
   {
    "duration": 394,
    "start_time": "2023-03-16T15:02:10.739Z"
   },
   {
    "duration": 39,
    "start_time": "2023-03-16T15:02:11.134Z"
   },
   {
    "duration": 453,
    "start_time": "2023-03-16T15:02:11.175Z"
   },
   {
    "duration": 4,
    "start_time": "2023-03-16T15:02:11.630Z"
   },
   {
    "duration": 46,
    "start_time": "2023-03-16T15:02:11.636Z"
   },
   {
    "duration": 11,
    "start_time": "2023-03-16T15:02:11.685Z"
   },
   {
    "duration": 10,
    "start_time": "2023-03-16T15:02:11.698Z"
   },
   {
    "duration": 473,
    "start_time": "2023-03-16T15:02:11.710Z"
   },
   {
    "duration": 22,
    "start_time": "2023-03-16T15:02:12.184Z"
   },
   {
    "duration": 1448,
    "start_time": "2023-03-16T15:02:28.653Z"
   },
   {
    "duration": 1018,
    "start_time": "2023-03-16T15:02:30.103Z"
   },
   {
    "duration": 159,
    "start_time": "2023-03-16T15:02:31.123Z"
   },
   {
    "duration": 17,
    "start_time": "2023-03-16T15:02:31.284Z"
   },
   {
    "duration": 149,
    "start_time": "2023-03-16T15:02:31.303Z"
   },
   {
    "duration": 48,
    "start_time": "2023-03-16T15:02:31.454Z"
   },
   {
    "duration": 57,
    "start_time": "2023-03-16T15:02:31.504Z"
   },
   {
    "duration": 108,
    "start_time": "2023-03-16T15:02:31.562Z"
   },
   {
    "duration": 142,
    "start_time": "2023-03-16T15:02:31.672Z"
   },
   {
    "duration": 95,
    "start_time": "2023-03-16T15:02:31.815Z"
   },
   {
    "duration": 26,
    "start_time": "2023-03-16T15:02:31.911Z"
   },
   {
    "duration": 38,
    "start_time": "2023-03-16T15:02:31.939Z"
   },
   {
    "duration": 33,
    "start_time": "2023-03-16T15:02:31.979Z"
   },
   {
    "duration": 25,
    "start_time": "2023-03-16T15:02:32.015Z"
   },
   {
    "duration": 34,
    "start_time": "2023-03-16T15:02:32.042Z"
   },
   {
    "duration": 30,
    "start_time": "2023-03-16T15:02:32.078Z"
   },
   {
    "duration": 32,
    "start_time": "2023-03-16T15:02:32.110Z"
   },
   {
    "duration": 225,
    "start_time": "2023-03-16T15:02:32.144Z"
   },
   {
    "duration": 206,
    "start_time": "2023-03-16T15:02:32.371Z"
   },
   {
    "duration": 4,
    "start_time": "2023-03-16T15:02:32.579Z"
   },
   {
    "duration": 326,
    "start_time": "2023-03-16T15:02:32.585Z"
   },
   {
    "duration": 4,
    "start_time": "2023-03-16T15:02:32.912Z"
   },
   {
    "duration": 449,
    "start_time": "2023-03-16T15:02:32.918Z"
   },
   {
    "duration": 9,
    "start_time": "2023-03-16T15:02:33.369Z"
   },
   {
    "duration": 48,
    "start_time": "2023-03-16T15:02:33.380Z"
   },
   {
    "duration": 448,
    "start_time": "2023-03-16T15:02:33.429Z"
   },
   {
    "duration": 336,
    "start_time": "2023-03-16T15:02:33.879Z"
   },
   {
    "duration": 64,
    "start_time": "2023-03-16T15:02:34.217Z"
   },
   {
    "duration": 305,
    "start_time": "2023-03-16T15:02:34.283Z"
   },
   {
    "duration": 396,
    "start_time": "2023-03-16T15:02:34.591Z"
   },
   {
    "duration": 425,
    "start_time": "2023-03-16T15:02:34.989Z"
   },
   {
    "duration": 33,
    "start_time": "2023-03-16T15:02:35.416Z"
   },
   {
    "duration": 461,
    "start_time": "2023-03-16T15:02:35.452Z"
   },
   {
    "duration": 5,
    "start_time": "2023-03-16T15:02:35.914Z"
   },
   {
    "duration": 56,
    "start_time": "2023-03-16T15:02:35.920Z"
   },
   {
    "duration": 12,
    "start_time": "2023-03-16T15:02:35.978Z"
   },
   {
    "duration": 11,
    "start_time": "2023-03-16T15:02:35.992Z"
   },
   {
    "duration": 473,
    "start_time": "2023-03-16T15:02:36.005Z"
   },
   {
    "duration": 18,
    "start_time": "2023-03-16T15:02:36.480Z"
   },
   {
    "duration": 1456,
    "start_time": "2023-03-16T15:03:31.694Z"
   },
   {
    "duration": 936,
    "start_time": "2023-03-16T15:03:33.152Z"
   },
   {
    "duration": 169,
    "start_time": "2023-03-16T15:03:34.092Z"
   },
   {
    "duration": 25,
    "start_time": "2023-03-16T15:03:34.262Z"
   },
   {
    "duration": 153,
    "start_time": "2023-03-16T15:03:34.290Z"
   },
   {
    "duration": 47,
    "start_time": "2023-03-16T15:03:34.445Z"
   },
   {
    "duration": 13,
    "start_time": "2023-03-16T15:03:34.494Z"
   },
   {
    "duration": 111,
    "start_time": "2023-03-16T15:03:34.509Z"
   },
   {
    "duration": 132,
    "start_time": "2023-03-16T15:03:34.623Z"
   },
   {
    "duration": 95,
    "start_time": "2023-03-16T15:03:34.757Z"
   },
   {
    "duration": 35,
    "start_time": "2023-03-16T15:03:34.853Z"
   },
   {
    "duration": 27,
    "start_time": "2023-03-16T15:03:34.890Z"
   },
   {
    "duration": 28,
    "start_time": "2023-03-16T15:03:34.918Z"
   },
   {
    "duration": 32,
    "start_time": "2023-03-16T15:03:34.948Z"
   },
   {
    "duration": 23,
    "start_time": "2023-03-16T15:03:34.982Z"
   },
   {
    "duration": 29,
    "start_time": "2023-03-16T15:03:35.006Z"
   },
   {
    "duration": 48,
    "start_time": "2023-03-16T15:03:35.036Z"
   },
   {
    "duration": 243,
    "start_time": "2023-03-16T15:03:35.086Z"
   },
   {
    "duration": 204,
    "start_time": "2023-03-16T15:03:35.331Z"
   },
   {
    "duration": 5,
    "start_time": "2023-03-16T15:03:35.537Z"
   },
   {
    "duration": 300,
    "start_time": "2023-03-16T15:03:35.544Z"
   },
   {
    "duration": 4,
    "start_time": "2023-03-16T15:03:35.846Z"
   },
   {
    "duration": 454,
    "start_time": "2023-03-16T15:03:35.852Z"
   },
   {
    "duration": 8,
    "start_time": "2023-03-16T15:03:36.308Z"
   },
   {
    "duration": 70,
    "start_time": "2023-03-16T15:03:36.317Z"
   },
   {
    "duration": 456,
    "start_time": "2023-03-16T15:03:36.389Z"
   },
   {
    "duration": 346,
    "start_time": "2023-03-16T15:03:36.850Z"
   },
   {
    "duration": 42,
    "start_time": "2023-03-16T15:03:37.198Z"
   },
   {
    "duration": 314,
    "start_time": "2023-03-16T15:03:37.242Z"
   },
   {
    "duration": 386,
    "start_time": "2023-03-16T15:03:37.558Z"
   },
   {
    "duration": 396,
    "start_time": "2023-03-16T15:03:37.945Z"
   },
   {
    "duration": 43,
    "start_time": "2023-03-16T15:03:38.343Z"
   },
   {
    "duration": 473,
    "start_time": "2023-03-16T15:03:38.388Z"
   },
   {
    "duration": 10,
    "start_time": "2023-03-16T15:03:38.863Z"
   },
   {
    "duration": 28,
    "start_time": "2023-03-16T15:03:38.875Z"
   },
   {
    "duration": 14,
    "start_time": "2023-03-16T15:03:38.905Z"
   },
   {
    "duration": 7,
    "start_time": "2023-03-16T15:03:38.921Z"
   },
   {
    "duration": 490,
    "start_time": "2023-03-16T15:03:38.930Z"
   },
   {
    "duration": 1459,
    "start_time": "2023-03-16T15:09:41.739Z"
   },
   {
    "duration": 888,
    "start_time": "2023-03-16T15:09:43.200Z"
   },
   {
    "duration": 162,
    "start_time": "2023-03-16T15:09:44.092Z"
   },
   {
    "duration": 25,
    "start_time": "2023-03-16T15:09:44.256Z"
   },
   {
    "duration": 140,
    "start_time": "2023-03-16T15:09:44.283Z"
   },
   {
    "duration": 49,
    "start_time": "2023-03-16T15:09:44.424Z"
   },
   {
    "duration": 14,
    "start_time": "2023-03-16T15:09:44.474Z"
   },
   {
    "duration": 111,
    "start_time": "2023-03-16T15:09:44.490Z"
   },
   {
    "duration": 130,
    "start_time": "2023-03-16T15:09:44.603Z"
   },
   {
    "duration": 94,
    "start_time": "2023-03-16T15:09:44.735Z"
   },
   {
    "duration": 26,
    "start_time": "2023-03-16T15:09:44.831Z"
   },
   {
    "duration": 24,
    "start_time": "2023-03-16T15:09:44.872Z"
   },
   {
    "duration": 30,
    "start_time": "2023-03-16T15:09:44.900Z"
   },
   {
    "duration": 41,
    "start_time": "2023-03-16T15:09:44.932Z"
   },
   {
    "duration": 22,
    "start_time": "2023-03-16T15:09:44.975Z"
   },
   {
    "duration": 55,
    "start_time": "2023-03-16T15:09:44.999Z"
   },
   {
    "duration": 38,
    "start_time": "2023-03-16T15:09:45.056Z"
   },
   {
    "duration": 214,
    "start_time": "2023-03-16T15:09:45.098Z"
   },
   {
    "duration": 196,
    "start_time": "2023-03-16T15:09:45.314Z"
   },
   {
    "duration": 4,
    "start_time": "2023-03-16T15:09:45.511Z"
   },
   {
    "duration": 289,
    "start_time": "2023-03-16T15:09:45.516Z"
   },
   {
    "duration": 5,
    "start_time": "2023-03-16T15:09:45.807Z"
   },
   {
    "duration": 446,
    "start_time": "2023-03-16T15:09:45.814Z"
   },
   {
    "duration": 13,
    "start_time": "2023-03-16T15:09:46.262Z"
   },
   {
    "duration": 52,
    "start_time": "2023-03-16T15:09:46.276Z"
   },
   {
    "duration": 447,
    "start_time": "2023-03-16T15:09:46.330Z"
   },
   {
    "duration": 367,
    "start_time": "2023-03-16T15:09:46.779Z"
   },
   {
    "duration": 49,
    "start_time": "2023-03-16T15:09:47.148Z"
   },
   {
    "duration": 338,
    "start_time": "2023-03-16T15:09:47.199Z"
   },
   {
    "duration": 405,
    "start_time": "2023-03-16T15:09:47.539Z"
   },
   {
    "duration": 428,
    "start_time": "2023-03-16T15:09:47.947Z"
   },
   {
    "duration": 32,
    "start_time": "2023-03-16T15:09:48.377Z"
   },
   {
    "duration": 478,
    "start_time": "2023-03-16T15:09:48.411Z"
   },
   {
    "duration": 4,
    "start_time": "2023-03-16T15:09:48.891Z"
   },
   {
    "duration": 43,
    "start_time": "2023-03-16T15:09:48.896Z"
   },
   {
    "duration": 19,
    "start_time": "2023-03-16T15:09:48.940Z"
   },
   {
    "duration": 12,
    "start_time": "2023-03-16T15:09:48.961Z"
   },
   {
    "duration": 445,
    "start_time": "2023-03-16T15:09:48.974Z"
   },
   {
    "duration": 14,
    "start_time": "2023-03-16T15:11:37.259Z"
   },
   {
    "duration": 74,
    "start_time": "2023-03-16T15:14:49.754Z"
   },
   {
    "duration": 5,
    "start_time": "2023-03-16T15:14:54.867Z"
   },
   {
    "duration": 6,
    "start_time": "2023-03-16T15:15:18.863Z"
   },
   {
    "duration": 3,
    "start_time": "2023-03-16T15:17:05.474Z"
   },
   {
    "duration": 129,
    "start_time": "2023-03-16T15:18:39.884Z"
   },
   {
    "duration": 136,
    "start_time": "2023-03-16T15:18:52.920Z"
   },
   {
    "duration": 14,
    "start_time": "2023-03-16T15:18:58.519Z"
   },
   {
    "duration": 1591,
    "start_time": "2023-03-16T15:19:13.788Z"
   },
   {
    "duration": 949,
    "start_time": "2023-03-16T15:19:15.381Z"
   },
   {
    "duration": 148,
    "start_time": "2023-03-16T15:19:16.331Z"
   },
   {
    "duration": 18,
    "start_time": "2023-03-16T15:19:16.480Z"
   },
   {
    "duration": 146,
    "start_time": "2023-03-16T15:19:16.500Z"
   },
   {
    "duration": 38,
    "start_time": "2023-03-16T15:19:16.650Z"
   },
   {
    "duration": 16,
    "start_time": "2023-03-16T15:19:16.690Z"
   },
   {
    "duration": 110,
    "start_time": "2023-03-16T15:19:16.707Z"
   },
   {
    "duration": 142,
    "start_time": "2023-03-16T15:19:16.819Z"
   },
   {
    "duration": 96,
    "start_time": "2023-03-16T15:19:16.962Z"
   },
   {
    "duration": 34,
    "start_time": "2023-03-16T15:19:17.059Z"
   },
   {
    "duration": 22,
    "start_time": "2023-03-16T15:19:17.095Z"
   },
   {
    "duration": 31,
    "start_time": "2023-03-16T15:19:17.119Z"
   },
   {
    "duration": 14,
    "start_time": "2023-03-16T15:19:17.172Z"
   },
   {
    "duration": 29,
    "start_time": "2023-03-16T15:19:17.188Z"
   },
   {
    "duration": 33,
    "start_time": "2023-03-16T15:19:17.219Z"
   },
   {
    "duration": 39,
    "start_time": "2023-03-16T15:19:17.254Z"
   },
   {
    "duration": 233,
    "start_time": "2023-03-16T15:19:17.294Z"
   },
   {
    "duration": 199,
    "start_time": "2023-03-16T15:19:17.529Z"
   },
   {
    "duration": 4,
    "start_time": "2023-03-16T15:19:17.730Z"
   },
   {
    "duration": 285,
    "start_time": "2023-03-16T15:19:17.736Z"
   },
   {
    "duration": 5,
    "start_time": "2023-03-16T15:19:18.023Z"
   },
   {
    "duration": 458,
    "start_time": "2023-03-16T15:19:18.030Z"
   },
   {
    "duration": 7,
    "start_time": "2023-03-16T15:19:18.490Z"
   },
   {
    "duration": 44,
    "start_time": "2023-03-16T15:19:18.499Z"
   },
   {
    "duration": 424,
    "start_time": "2023-03-16T15:19:18.545Z"
   },
   {
    "duration": 347,
    "start_time": "2023-03-16T15:19:18.972Z"
   },
   {
    "duration": 53,
    "start_time": "2023-03-16T15:19:19.320Z"
   },
   {
    "duration": 288,
    "start_time": "2023-03-16T15:19:19.374Z"
   },
   {
    "duration": 378,
    "start_time": "2023-03-16T15:19:19.664Z"
   },
   {
    "duration": 446,
    "start_time": "2023-03-16T15:19:20.044Z"
   },
   {
    "duration": 36,
    "start_time": "2023-03-16T15:19:20.492Z"
   },
   {
    "duration": 470,
    "start_time": "2023-03-16T15:19:20.531Z"
   },
   {
    "duration": 3,
    "start_time": "2023-03-16T15:19:21.003Z"
   },
   {
    "duration": 25,
    "start_time": "2023-03-16T15:19:21.008Z"
   },
   {
    "duration": 11,
    "start_time": "2023-03-16T15:19:21.035Z"
   },
   {
    "duration": 450,
    "start_time": "2023-03-16T15:19:21.048Z"
   },
   {
    "duration": 14,
    "start_time": "2023-03-16T15:19:21.500Z"
   },
   {
    "duration": 87,
    "start_time": "2023-03-16T15:19:21.516Z"
   },
   {
    "duration": 4,
    "start_time": "2023-03-16T15:19:21.605Z"
   },
   {
    "duration": 139,
    "start_time": "2023-03-16T15:19:21.613Z"
   },
   {
    "duration": 17,
    "start_time": "2023-03-16T15:19:21.755Z"
   },
   {
    "duration": 15,
    "start_time": "2023-03-16T15:19:27.359Z"
   },
   {
    "duration": 49,
    "start_time": "2023-03-16T15:24:41.741Z"
   },
   {
    "duration": 4,
    "start_time": "2023-03-16T15:26:03.701Z"
   },
   {
    "duration": 4,
    "start_time": "2023-03-16T15:41:34.735Z"
   },
   {
    "duration": 114,
    "start_time": "2023-03-16T15:41:35.594Z"
   },
   {
    "duration": 4,
    "start_time": "2023-03-16T15:41:58.254Z"
   },
   {
    "duration": 10,
    "start_time": "2023-03-16T15:42:03.463Z"
   },
   {
    "duration": 3,
    "start_time": "2023-03-16T15:42:10.621Z"
   },
   {
    "duration": 3,
    "start_time": "2023-03-16T15:42:11.193Z"
   },
   {
    "duration": 63,
    "start_time": "2023-03-16T15:49:21.027Z"
   },
   {
    "duration": 122,
    "start_time": "2023-03-16T15:49:26.051Z"
   },
   {
    "duration": 4,
    "start_time": "2023-03-16T15:50:46.244Z"
   },
   {
    "duration": 4,
    "start_time": "2023-03-16T15:50:54.651Z"
   },
   {
    "duration": 60,
    "start_time": "2023-03-16T15:51:04.315Z"
   },
   {
    "duration": 67,
    "start_time": "2023-03-16T15:51:35.907Z"
   },
   {
    "duration": 4,
    "start_time": "2023-03-16T15:53:03.531Z"
   },
   {
    "duration": 83,
    "start_time": "2023-03-16T15:54:12.090Z"
   },
   {
    "duration": 38,
    "start_time": "2023-03-16T15:55:17.786Z"
   },
   {
    "duration": 9,
    "start_time": "2023-03-16T15:55:18.737Z"
   },
   {
    "duration": 36,
    "start_time": "2023-03-16T15:56:10.183Z"
   },
   {
    "duration": 8,
    "start_time": "2023-03-16T15:56:31.617Z"
   },
   {
    "duration": 5,
    "start_time": "2023-03-16T15:56:32.392Z"
   },
   {
    "duration": 3,
    "start_time": "2023-03-16T15:57:36.877Z"
   },
   {
    "duration": 37,
    "start_time": "2023-03-16T15:57:37.600Z"
   },
   {
    "duration": 8,
    "start_time": "2023-03-16T15:57:38.279Z"
   },
   {
    "duration": 6,
    "start_time": "2023-03-16T15:57:38.760Z"
   },
   {
    "duration": 11,
    "start_time": "2023-03-16T16:10:01.628Z"
   },
   {
    "duration": 14,
    "start_time": "2023-03-16T16:10:09.107Z"
   },
   {
    "duration": 12,
    "start_time": "2023-03-16T16:10:44.300Z"
   },
   {
    "duration": 56015,
    "start_time": "2023-03-16T16:11:01.396Z"
   },
   {
    "duration": 362644,
    "start_time": "2023-03-16T16:12:40.642Z"
   },
   {
    "duration": 3,
    "start_time": "2023-03-16T16:19:01.976Z"
   },
   {
    "duration": 3369,
    "start_time": "2023-03-16T16:25:51.936Z"
   },
   {
    "duration": 1754,
    "start_time": "2023-03-16T16:28:19.396Z"
   },
   {
    "duration": 3164,
    "start_time": "2023-03-16T16:28:26.327Z"
   },
   {
    "duration": 3,
    "start_time": "2023-03-16T16:30:10.637Z"
   },
   {
    "duration": 363,
    "start_time": "2023-03-16T16:30:11.142Z"
   },
   {
    "duration": 15,
    "start_time": "2023-03-16T16:30:11.507Z"
   },
   {
    "duration": 4,
    "start_time": "2023-03-16T16:30:30.378Z"
   },
   {
    "duration": 5,
    "start_time": "2023-03-16T16:30:37.581Z"
   },
   {
    "duration": 368,
    "start_time": "2023-03-16T16:37:41.928Z"
   },
   {
    "duration": 17,
    "start_time": "2023-03-16T16:37:43.191Z"
   },
   {
    "duration": 2239239,
    "start_time": "2023-03-16T16:39:01.929Z"
   },
   {
    "duration": 2224456,
    "start_time": "2023-03-16T17:26:07.859Z"
   },
   {
    "duration": 2193744,
    "start_time": "2023-03-16T18:05:22.266Z"
   },
   {
    "duration": 25221,
    "start_time": "2023-03-16T18:43:27.080Z"
   },
   {
    "duration": 825,
    "start_time": "2023-03-16T18:43:52.303Z"
   },
   {
    "duration": 26,
    "start_time": "2023-03-16T18:46:12.440Z"
   },
   {
    "duration": 6215,
    "start_time": "2023-03-16T18:49:50.468Z"
   },
   {
    "duration": 17968,
    "start_time": "2023-03-16T18:51:30.606Z"
   },
   {
    "duration": 348,
    "start_time": "2023-03-16T18:51:55.973Z"
   },
   {
    "duration": 4875,
    "start_time": "2023-03-16T18:53:41.109Z"
   },
   {
    "duration": 2948,
    "start_time": "2023-03-16T18:54:08.228Z"
   },
   {
    "duration": 26216,
    "start_time": "2023-03-16T18:54:16.685Z"
   },
   {
    "duration": 52988,
    "start_time": "2023-03-16T18:56:42.732Z"
   },
   {
    "duration": 6661,
    "start_time": "2023-03-16T19:01:34.032Z"
   },
   {
    "duration": 17870,
    "start_time": "2023-03-16T19:01:46.327Z"
   },
   {
    "duration": 18806,
    "start_time": "2023-03-16T19:02:12.681Z"
   },
   {
    "duration": 18400,
    "start_time": "2023-03-16T19:02:41.079Z"
   },
   {
    "duration": 21701,
    "start_time": "2023-03-16T19:03:11.697Z"
   },
   {
    "duration": 4,
    "start_time": "2023-03-16T19:03:35.041Z"
   },
   {
    "duration": 19017,
    "start_time": "2023-03-16T19:03:44.481Z"
   },
   {
    "duration": 17750,
    "start_time": "2023-03-16T19:06:34.543Z"
   },
   {
    "duration": 14997,
    "start_time": "2023-03-16T19:07:10.981Z"
   },
   {
    "duration": 19704,
    "start_time": "2023-03-16T19:07:33.879Z"
   },
   {
    "duration": 101,
    "start_time": "2023-03-16T19:08:10.720Z"
   },
   {
    "duration": 14239,
    "start_time": "2023-03-16T19:08:19.645Z"
   },
   {
    "duration": 40441,
    "start_time": "2023-03-16T19:08:40.957Z"
   },
   {
    "duration": 40331,
    "start_time": "2023-03-16T19:10:05.663Z"
   },
   {
    "duration": 245281,
    "start_time": "2023-03-16T19:11:26.205Z"
   },
   {
    "duration": 147820,
    "start_time": "2023-03-16T19:15:49.929Z"
   },
   {
    "duration": 20266,
    "start_time": "2023-03-16T19:26:15.302Z"
   },
   {
    "duration": 10663792,
    "start_time": "2023-03-16T19:26:37.389Z"
   },
   {
    "duration": 51611,
    "start_time": "2023-03-16T22:24:21.183Z"
   },
   {
    "duration": 11043,
    "start_time": "2023-03-16T22:25:12.796Z"
   },
   {
    "duration": 2,
    "start_time": "2023-03-16T23:39:19.283Z"
   },
   {
    "duration": 2,
    "start_time": "2023-03-16T23:41:00.139Z"
   },
   {
    "duration": 3,
    "start_time": "2023-03-16T23:41:53.872Z"
   },
   {
    "duration": 4,
    "start_time": "2023-03-16T23:43:24.473Z"
   },
   {
    "duration": 11,
    "start_time": "2023-03-16T23:46:00.319Z"
   },
   {
    "duration": 3,
    "start_time": "2023-03-16T23:46:06.368Z"
   },
   {
    "duration": 5,
    "start_time": "2023-03-16T23:46:09.438Z"
   },
   {
    "duration": 10,
    "start_time": "2023-03-16T23:46:17.873Z"
   },
   {
    "duration": 11,
    "start_time": "2023-03-16T23:49:07.389Z"
   },
   {
    "duration": 4,
    "start_time": "2023-03-16T23:49:42.989Z"
   },
   {
    "duration": 10,
    "start_time": "2023-03-16T23:49:45.005Z"
   },
   {
    "duration": 11,
    "start_time": "2023-03-16T23:59:38.043Z"
   },
   {
    "duration": 6,
    "start_time": "2023-03-16T23:59:53.674Z"
   },
   {
    "duration": 6,
    "start_time": "2023-03-17T00:01:52.340Z"
   },
   {
    "duration": 4,
    "start_time": "2023-03-17T00:03:17.977Z"
   },
   {
    "duration": 10,
    "start_time": "2023-03-17T00:06:41.763Z"
   },
   {
    "duration": 107,
    "start_time": "2023-03-17T00:08:23.331Z"
   },
   {
    "duration": 530,
    "start_time": "2023-03-17T00:08:34.276Z"
   },
   {
    "duration": 4,
    "start_time": "2023-03-17T00:10:01.348Z"
   },
   {
    "duration": 16,
    "start_time": "2023-03-17T00:10:17.688Z"
   },
   {
    "duration": 4,
    "start_time": "2023-03-17T00:11:07.795Z"
   },
   {
    "duration": 6,
    "start_time": "2023-03-17T00:11:12.602Z"
   },
   {
    "duration": 1451,
    "start_time": "2023-03-17T00:13:05.809Z"
   },
   {
    "duration": 899,
    "start_time": "2023-03-17T00:13:07.263Z"
   },
   {
    "duration": 155,
    "start_time": "2023-03-17T00:13:08.163Z"
   },
   {
    "duration": 17,
    "start_time": "2023-03-17T00:13:08.320Z"
   },
   {
    "duration": 151,
    "start_time": "2023-03-17T00:13:08.339Z"
   },
   {
    "duration": 134,
    "start_time": "2023-03-17T00:13:08.492Z"
   },
   {
    "duration": 0,
    "start_time": "2023-03-17T00:13:08.630Z"
   },
   {
    "duration": 0,
    "start_time": "2023-03-17T00:13:08.631Z"
   },
   {
    "duration": 0,
    "start_time": "2023-03-17T00:13:08.632Z"
   },
   {
    "duration": 0,
    "start_time": "2023-03-17T00:13:08.633Z"
   },
   {
    "duration": 0,
    "start_time": "2023-03-17T00:13:08.634Z"
   },
   {
    "duration": 0,
    "start_time": "2023-03-17T00:13:08.635Z"
   },
   {
    "duration": 0,
    "start_time": "2023-03-17T00:13:08.636Z"
   },
   {
    "duration": 0,
    "start_time": "2023-03-17T00:13:08.637Z"
   },
   {
    "duration": 0,
    "start_time": "2023-03-17T00:13:08.638Z"
   },
   {
    "duration": 0,
    "start_time": "2023-03-17T00:13:08.638Z"
   },
   {
    "duration": 0,
    "start_time": "2023-03-17T00:13:08.639Z"
   },
   {
    "duration": 0,
    "start_time": "2023-03-17T00:13:08.640Z"
   },
   {
    "duration": 0,
    "start_time": "2023-03-17T00:13:08.641Z"
   },
   {
    "duration": 0,
    "start_time": "2023-03-17T00:13:08.642Z"
   },
   {
    "duration": 0,
    "start_time": "2023-03-17T00:13:08.643Z"
   },
   {
    "duration": 0,
    "start_time": "2023-03-17T00:13:08.644Z"
   },
   {
    "duration": 0,
    "start_time": "2023-03-17T00:13:08.645Z"
   },
   {
    "duration": 0,
    "start_time": "2023-03-17T00:13:08.673Z"
   },
   {
    "duration": 0,
    "start_time": "2023-03-17T00:13:08.674Z"
   },
   {
    "duration": 0,
    "start_time": "2023-03-17T00:13:08.675Z"
   },
   {
    "duration": 0,
    "start_time": "2023-03-17T00:13:08.676Z"
   },
   {
    "duration": 0,
    "start_time": "2023-03-17T00:13:08.677Z"
   },
   {
    "duration": 0,
    "start_time": "2023-03-17T00:13:08.678Z"
   },
   {
    "duration": 0,
    "start_time": "2023-03-17T00:13:08.679Z"
   },
   {
    "duration": 0,
    "start_time": "2023-03-17T00:13:08.681Z"
   },
   {
    "duration": 0,
    "start_time": "2023-03-17T00:13:08.682Z"
   },
   {
    "duration": 0,
    "start_time": "2023-03-17T00:13:08.683Z"
   },
   {
    "duration": 0,
    "start_time": "2023-03-17T00:13:08.684Z"
   },
   {
    "duration": 0,
    "start_time": "2023-03-17T00:13:08.685Z"
   },
   {
    "duration": 0,
    "start_time": "2023-03-17T00:13:08.686Z"
   },
   {
    "duration": 0,
    "start_time": "2023-03-17T00:13:08.687Z"
   },
   {
    "duration": 0,
    "start_time": "2023-03-17T00:13:08.688Z"
   },
   {
    "duration": 0,
    "start_time": "2023-03-17T00:13:08.690Z"
   },
   {
    "duration": 0,
    "start_time": "2023-03-17T00:13:08.691Z"
   },
   {
    "duration": 0,
    "start_time": "2023-03-17T00:13:08.691Z"
   },
   {
    "duration": 0,
    "start_time": "2023-03-17T00:13:08.692Z"
   },
   {
    "duration": 0,
    "start_time": "2023-03-17T00:13:08.693Z"
   },
   {
    "duration": 0,
    "start_time": "2023-03-17T00:13:08.694Z"
   },
   {
    "duration": 0,
    "start_time": "2023-03-17T00:13:08.695Z"
   },
   {
    "duration": 0,
    "start_time": "2023-03-17T00:13:08.696Z"
   },
   {
    "duration": 0,
    "start_time": "2023-03-17T00:13:08.697Z"
   },
   {
    "duration": 0,
    "start_time": "2023-03-17T00:13:08.698Z"
   },
   {
    "duration": 0,
    "start_time": "2023-03-17T00:13:08.699Z"
   },
   {
    "duration": 0,
    "start_time": "2023-03-17T00:13:08.700Z"
   },
   {
    "duration": 0,
    "start_time": "2023-03-17T00:13:08.700Z"
   },
   {
    "duration": 0,
    "start_time": "2023-03-17T00:13:08.701Z"
   },
   {
    "duration": 0,
    "start_time": "2023-03-17T00:13:08.702Z"
   },
   {
    "duration": 0,
    "start_time": "2023-03-17T00:13:08.703Z"
   },
   {
    "duration": 0,
    "start_time": "2023-03-17T00:13:08.704Z"
   },
   {
    "duration": 0,
    "start_time": "2023-03-17T00:13:08.705Z"
   },
   {
    "duration": 0,
    "start_time": "2023-03-17T00:13:08.706Z"
   },
   {
    "duration": 0,
    "start_time": "2023-03-17T00:13:08.707Z"
   },
   {
    "duration": 0,
    "start_time": "2023-03-17T00:13:08.708Z"
   },
   {
    "duration": 0,
    "start_time": "2023-03-17T00:13:08.773Z"
   },
   {
    "duration": 3,
    "start_time": "2023-03-17T08:55:39.971Z"
   },
   {
    "duration": 1493,
    "start_time": "2023-03-17T08:55:44.497Z"
   },
   {
    "duration": 982,
    "start_time": "2023-03-17T08:55:45.992Z"
   },
   {
    "duration": 162,
    "start_time": "2023-03-17T08:55:46.976Z"
   },
   {
    "duration": 18,
    "start_time": "2023-03-17T08:55:47.142Z"
   },
   {
    "duration": 141,
    "start_time": "2023-03-17T08:55:47.172Z"
   },
   {
    "duration": 152,
    "start_time": "2023-03-17T08:55:47.315Z"
   },
   {
    "duration": 0,
    "start_time": "2023-03-17T08:55:47.473Z"
   },
   {
    "duration": 0,
    "start_time": "2023-03-17T08:55:47.474Z"
   },
   {
    "duration": 0,
    "start_time": "2023-03-17T08:55:47.476Z"
   },
   {
    "duration": 0,
    "start_time": "2023-03-17T08:55:47.477Z"
   },
   {
    "duration": 0,
    "start_time": "2023-03-17T08:55:47.478Z"
   },
   {
    "duration": 0,
    "start_time": "2023-03-17T08:55:47.480Z"
   },
   {
    "duration": 0,
    "start_time": "2023-03-17T08:55:47.481Z"
   },
   {
    "duration": 0,
    "start_time": "2023-03-17T08:55:47.482Z"
   },
   {
    "duration": 0,
    "start_time": "2023-03-17T08:55:47.484Z"
   },
   {
    "duration": 0,
    "start_time": "2023-03-17T08:55:47.485Z"
   },
   {
    "duration": 0,
    "start_time": "2023-03-17T08:55:47.486Z"
   },
   {
    "duration": 0,
    "start_time": "2023-03-17T08:55:47.487Z"
   },
   {
    "duration": 0,
    "start_time": "2023-03-17T08:55:47.488Z"
   },
   {
    "duration": 0,
    "start_time": "2023-03-17T08:55:47.489Z"
   },
   {
    "duration": 0,
    "start_time": "2023-03-17T08:55:47.490Z"
   },
   {
    "duration": 0,
    "start_time": "2023-03-17T08:55:47.492Z"
   },
   {
    "duration": 0,
    "start_time": "2023-03-17T08:55:47.493Z"
   },
   {
    "duration": 0,
    "start_time": "2023-03-17T08:55:47.494Z"
   },
   {
    "duration": 0,
    "start_time": "2023-03-17T08:55:47.495Z"
   },
   {
    "duration": 0,
    "start_time": "2023-03-17T08:55:47.497Z"
   },
   {
    "duration": 0,
    "start_time": "2023-03-17T08:55:47.498Z"
   },
   {
    "duration": 0,
    "start_time": "2023-03-17T08:55:47.499Z"
   },
   {
    "duration": 0,
    "start_time": "2023-03-17T08:55:47.500Z"
   },
   {
    "duration": 0,
    "start_time": "2023-03-17T08:55:47.501Z"
   },
   {
    "duration": 0,
    "start_time": "2023-03-17T08:55:47.502Z"
   },
   {
    "duration": 0,
    "start_time": "2023-03-17T08:55:47.503Z"
   },
   {
    "duration": 0,
    "start_time": "2023-03-17T08:55:47.504Z"
   },
   {
    "duration": 0,
    "start_time": "2023-03-17T08:55:47.506Z"
   },
   {
    "duration": 0,
    "start_time": "2023-03-17T08:55:47.507Z"
   },
   {
    "duration": 0,
    "start_time": "2023-03-17T08:55:47.508Z"
   },
   {
    "duration": 0,
    "start_time": "2023-03-17T08:55:47.509Z"
   },
   {
    "duration": 0,
    "start_time": "2023-03-17T08:55:47.510Z"
   },
   {
    "duration": 0,
    "start_time": "2023-03-17T08:55:47.511Z"
   },
   {
    "duration": 0,
    "start_time": "2023-03-17T08:55:47.512Z"
   },
   {
    "duration": 0,
    "start_time": "2023-03-17T08:55:47.512Z"
   },
   {
    "duration": 0,
    "start_time": "2023-03-17T08:55:47.513Z"
   },
   {
    "duration": 0,
    "start_time": "2023-03-17T08:55:47.513Z"
   },
   {
    "duration": 0,
    "start_time": "2023-03-17T08:55:47.514Z"
   },
   {
    "duration": 0,
    "start_time": "2023-03-17T08:55:47.572Z"
   },
   {
    "duration": 0,
    "start_time": "2023-03-17T08:55:47.574Z"
   },
   {
    "duration": 0,
    "start_time": "2023-03-17T08:55:47.575Z"
   },
   {
    "duration": 0,
    "start_time": "2023-03-17T08:55:47.576Z"
   },
   {
    "duration": 0,
    "start_time": "2023-03-17T08:55:47.577Z"
   },
   {
    "duration": 0,
    "start_time": "2023-03-17T08:55:47.579Z"
   },
   {
    "duration": 0,
    "start_time": "2023-03-17T08:55:47.581Z"
   },
   {
    "duration": 0,
    "start_time": "2023-03-17T08:55:47.582Z"
   },
   {
    "duration": 0,
    "start_time": "2023-03-17T08:55:47.583Z"
   },
   {
    "duration": 0,
    "start_time": "2023-03-17T08:55:47.584Z"
   },
   {
    "duration": 0,
    "start_time": "2023-03-17T08:55:47.586Z"
   },
   {
    "duration": 0,
    "start_time": "2023-03-17T08:55:47.588Z"
   },
   {
    "duration": 0,
    "start_time": "2023-03-17T08:55:47.590Z"
   },
   {
    "duration": 0,
    "start_time": "2023-03-17T08:55:47.591Z"
   },
   {
    "duration": 0,
    "start_time": "2023-03-17T08:55:47.593Z"
   },
   {
    "duration": 0,
    "start_time": "2023-03-17T08:55:47.594Z"
   },
   {
    "duration": 1504,
    "start_time": "2023-03-17T08:56:44.860Z"
   },
   {
    "duration": 941,
    "start_time": "2023-03-17T08:56:46.366Z"
   },
   {
    "duration": 227,
    "start_time": "2023-03-17T08:56:47.312Z"
   },
   {
    "duration": 32,
    "start_time": "2023-03-17T08:56:47.541Z"
   },
   {
    "duration": 151,
    "start_time": "2023-03-17T08:56:47.575Z"
   },
   {
    "duration": 58,
    "start_time": "2023-03-17T08:56:47.728Z"
   },
   {
    "duration": 111,
    "start_time": "2023-03-17T08:56:47.788Z"
   },
   {
    "duration": 140,
    "start_time": "2023-03-17T08:56:47.900Z"
   },
   {
    "duration": 33,
    "start_time": "2023-03-17T08:56:48.043Z"
   },
   {
    "duration": 22,
    "start_time": "2023-03-17T08:56:48.078Z"
   },
   {
    "duration": 79,
    "start_time": "2023-03-17T08:56:48.102Z"
   },
   {
    "duration": 0,
    "start_time": "2023-03-17T08:56:48.183Z"
   },
   {
    "duration": 0,
    "start_time": "2023-03-17T08:56:48.185Z"
   },
   {
    "duration": 0,
    "start_time": "2023-03-17T08:56:48.186Z"
   },
   {
    "duration": 0,
    "start_time": "2023-03-17T08:56:48.187Z"
   },
   {
    "duration": 0,
    "start_time": "2023-03-17T08:56:48.188Z"
   },
   {
    "duration": 0,
    "start_time": "2023-03-17T08:56:48.189Z"
   },
   {
    "duration": 0,
    "start_time": "2023-03-17T08:56:48.190Z"
   },
   {
    "duration": 0,
    "start_time": "2023-03-17T08:56:48.191Z"
   },
   {
    "duration": 0,
    "start_time": "2023-03-17T08:56:48.192Z"
   },
   {
    "duration": 0,
    "start_time": "2023-03-17T08:56:48.194Z"
   },
   {
    "duration": 0,
    "start_time": "2023-03-17T08:56:48.195Z"
   },
   {
    "duration": 0,
    "start_time": "2023-03-17T08:56:48.196Z"
   },
   {
    "duration": 0,
    "start_time": "2023-03-17T08:56:48.197Z"
   },
   {
    "duration": 0,
    "start_time": "2023-03-17T08:56:48.198Z"
   },
   {
    "duration": 1,
    "start_time": "2023-03-17T08:56:48.199Z"
   },
   {
    "duration": 0,
    "start_time": "2023-03-17T08:56:48.201Z"
   },
   {
    "duration": 0,
    "start_time": "2023-03-17T08:56:48.201Z"
   },
   {
    "duration": 0,
    "start_time": "2023-03-17T08:56:48.203Z"
   },
   {
    "duration": 0,
    "start_time": "2023-03-17T08:56:48.204Z"
   },
   {
    "duration": 0,
    "start_time": "2023-03-17T08:56:48.205Z"
   },
   {
    "duration": 0,
    "start_time": "2023-03-17T08:56:48.206Z"
   },
   {
    "duration": 0,
    "start_time": "2023-03-17T08:56:48.207Z"
   },
   {
    "duration": 0,
    "start_time": "2023-03-17T08:56:48.209Z"
   },
   {
    "duration": 0,
    "start_time": "2023-03-17T08:56:48.209Z"
   },
   {
    "duration": 0,
    "start_time": "2023-03-17T08:56:48.210Z"
   },
   {
    "duration": 0,
    "start_time": "2023-03-17T08:56:48.211Z"
   },
   {
    "duration": 0,
    "start_time": "2023-03-17T08:56:48.213Z"
   },
   {
    "duration": 0,
    "start_time": "2023-03-17T08:56:48.214Z"
   },
   {
    "duration": 0,
    "start_time": "2023-03-17T08:56:48.215Z"
   },
   {
    "duration": 0,
    "start_time": "2023-03-17T08:56:48.216Z"
   },
   {
    "duration": 0,
    "start_time": "2023-03-17T08:56:48.217Z"
   },
   {
    "duration": 0,
    "start_time": "2023-03-17T08:56:48.219Z"
   },
   {
    "duration": 0,
    "start_time": "2023-03-17T08:56:48.273Z"
   },
   {
    "duration": 0,
    "start_time": "2023-03-17T08:56:48.274Z"
   },
   {
    "duration": 0,
    "start_time": "2023-03-17T08:56:48.275Z"
   },
   {
    "duration": 0,
    "start_time": "2023-03-17T08:56:48.276Z"
   },
   {
    "duration": 0,
    "start_time": "2023-03-17T08:56:48.277Z"
   },
   {
    "duration": 0,
    "start_time": "2023-03-17T08:56:48.278Z"
   },
   {
    "duration": 0,
    "start_time": "2023-03-17T08:56:48.279Z"
   },
   {
    "duration": 0,
    "start_time": "2023-03-17T08:56:48.281Z"
   },
   {
    "duration": 0,
    "start_time": "2023-03-17T08:56:48.282Z"
   },
   {
    "duration": 0,
    "start_time": "2023-03-17T08:56:48.283Z"
   },
   {
    "duration": 0,
    "start_time": "2023-03-17T08:56:48.284Z"
   },
   {
    "duration": 0,
    "start_time": "2023-03-17T08:56:48.285Z"
   },
   {
    "duration": 0,
    "start_time": "2023-03-17T08:56:48.286Z"
   },
   {
    "duration": 0,
    "start_time": "2023-03-17T08:56:48.287Z"
   },
   {
    "duration": 0,
    "start_time": "2023-03-17T08:56:48.288Z"
   },
   {
    "duration": 0,
    "start_time": "2023-03-17T08:56:48.289Z"
   },
   {
    "duration": 0,
    "start_time": "2023-03-17T08:56:48.290Z"
   },
   {
    "duration": 27,
    "start_time": "2023-03-17T08:58:15.575Z"
   },
   {
    "duration": 1449,
    "start_time": "2023-03-17T08:58:20.928Z"
   },
   {
    "duration": 926,
    "start_time": "2023-03-17T08:58:22.379Z"
   },
   {
    "duration": 155,
    "start_time": "2023-03-17T08:58:23.309Z"
   },
   {
    "duration": 18,
    "start_time": "2023-03-17T08:58:23.472Z"
   },
   {
    "duration": 150,
    "start_time": "2023-03-17T08:58:23.493Z"
   },
   {
    "duration": 48,
    "start_time": "2023-03-17T08:58:23.644Z"
   },
   {
    "duration": 104,
    "start_time": "2023-03-17T08:58:23.694Z"
   },
   {
    "duration": 134,
    "start_time": "2023-03-17T08:58:23.802Z"
   },
   {
    "duration": 34,
    "start_time": "2023-03-17T08:58:23.940Z"
   },
   {
    "duration": 22,
    "start_time": "2023-03-17T08:58:23.976Z"
   },
   {
    "duration": 32,
    "start_time": "2023-03-17T08:58:24.000Z"
   },
   {
    "duration": 14,
    "start_time": "2023-03-17T08:58:24.033Z"
   },
   {
    "duration": 45,
    "start_time": "2023-03-17T08:58:24.049Z"
   },
   {
    "duration": 25,
    "start_time": "2023-03-17T08:58:24.096Z"
   },
   {
    "duration": 242,
    "start_time": "2023-03-17T08:58:24.123Z"
   },
   {
    "duration": 184,
    "start_time": "2023-03-17T08:58:24.367Z"
   },
   {
    "duration": 4,
    "start_time": "2023-03-17T08:58:24.553Z"
   },
   {
    "duration": 292,
    "start_time": "2023-03-17T08:58:24.572Z"
   },
   {
    "duration": 485,
    "start_time": "2023-03-17T08:58:24.865Z"
   },
   {
    "duration": 8,
    "start_time": "2023-03-17T08:58:25.352Z"
   },
   {
    "duration": 53,
    "start_time": "2023-03-17T08:58:25.361Z"
   },
   {
    "duration": 439,
    "start_time": "2023-03-17T08:58:25.416Z"
   },
   {
    "duration": 367,
    "start_time": "2023-03-17T08:58:25.857Z"
   },
   {
    "duration": 55,
    "start_time": "2023-03-17T08:58:26.227Z"
   },
   {
    "duration": 306,
    "start_time": "2023-03-17T08:58:26.284Z"
   },
   {
    "duration": 485,
    "start_time": "2023-03-17T08:58:26.593Z"
   },
   {
    "duration": 385,
    "start_time": "2023-03-17T08:58:27.082Z"
   },
   {
    "duration": 32,
    "start_time": "2023-03-17T08:58:27.473Z"
   },
   {
    "duration": 380,
    "start_time": "2023-03-17T08:58:27.507Z"
   },
   {
    "duration": 4,
    "start_time": "2023-03-17T08:58:27.889Z"
   },
   {
    "duration": 26,
    "start_time": "2023-03-17T08:58:27.895Z"
   },
   {
    "duration": 466,
    "start_time": "2023-03-17T08:58:27.922Z"
   },
   {
    "duration": 8,
    "start_time": "2023-03-17T08:58:28.390Z"
   },
   {
    "duration": 90,
    "start_time": "2023-03-17T08:58:28.400Z"
   },
   {
    "duration": 4,
    "start_time": "2023-03-17T08:58:28.492Z"
   },
   {
    "duration": 140,
    "start_time": "2023-03-17T08:58:28.498Z"
   },
   {
    "duration": 3,
    "start_time": "2023-03-17T08:58:28.641Z"
   },
   {
    "duration": 7,
    "start_time": "2023-03-17T08:58:28.646Z"
   },
   {
    "duration": 82,
    "start_time": "2023-03-17T08:58:28.654Z"
   },
   {
    "duration": 42,
    "start_time": "2023-03-17T08:58:28.738Z"
   },
   {
    "duration": 16,
    "start_time": "2023-03-17T08:58:28.873Z"
   },
   {
    "duration": 21,
    "start_time": "2023-03-17T08:58:28.891Z"
   },
   {
    "duration": 3231,
    "start_time": "2023-03-17T08:58:28.914Z"
   },
   {
    "duration": 408,
    "start_time": "2023-03-17T08:58:32.147Z"
   },
   {
    "duration": 22,
    "start_time": "2023-03-17T08:58:32.556Z"
   },
   {
    "duration": 114,
    "start_time": "2023-03-17T08:58:32.581Z"
   },
   {
    "duration": 2226035,
    "start_time": "2023-03-17T08:58:32.697Z"
   },
   {
    "duration": 24922,
    "start_time": "2023-03-17T09:35:38.734Z"
   },
   {
    "duration": 842,
    "start_time": "2023-03-17T09:36:03.657Z"
   },
   {
    "duration": 3,
    "start_time": "2023-03-17T09:36:04.501Z"
   },
   {
    "duration": 15373770,
    "start_time": "2023-03-17T09:36:04.505Z"
   },
   {
    "duration": 62518,
    "start_time": "2023-03-17T13:52:18.276Z"
   },
   {
    "duration": 11310,
    "start_time": "2023-03-17T13:53:20.795Z"
   },
   {
    "duration": 3,
    "start_time": "2023-03-17T13:53:32.107Z"
   },
   {
    "duration": 9,
    "start_time": "2023-03-17T13:53:32.111Z"
   },
   {
    "duration": 20,
    "start_time": "2023-03-17T13:53:32.122Z"
   },
   {
    "duration": 35,
    "start_time": "2023-03-17T13:53:32.144Z"
   },
   {
    "duration": 530,
    "start_time": "2023-03-17T13:53:32.181Z"
   },
   {
    "duration": 18,
    "start_time": "2023-03-17T13:53:32.713Z"
   },
   {
    "duration": 4,
    "start_time": "2023-03-17T13:53:32.733Z"
   },
   {
    "duration": 33,
    "start_time": "2023-03-17T13:53:32.741Z"
   },
   {
    "duration": 4,
    "start_time": "2023-03-17T14:29:40.729Z"
   },
   {
    "duration": 128,
    "start_time": "2023-03-17T14:30:58.803Z"
   },
   {
    "duration": 7,
    "start_time": "2023-03-17T14:31:12.255Z"
   },
   {
    "duration": 6,
    "start_time": "2023-03-17T14:31:18.817Z"
   },
   {
    "duration": 4,
    "start_time": "2023-03-17T14:33:20.664Z"
   },
   {
    "duration": 4,
    "start_time": "2023-03-17T14:33:32.208Z"
   },
   {
    "duration": 4,
    "start_time": "2023-03-17T14:33:37.728Z"
   },
   {
    "duration": 4,
    "start_time": "2023-03-17T14:38:22.341Z"
   },
   {
    "duration": 1955,
    "start_time": "2023-03-18T10:12:24.910Z"
   },
   {
    "duration": 1512,
    "start_time": "2023-03-18T10:12:26.867Z"
   },
   {
    "duration": 200,
    "start_time": "2023-03-18T10:12:29.914Z"
   },
   {
    "duration": 16,
    "start_time": "2023-03-18T10:12:30.179Z"
   },
   {
    "duration": 142,
    "start_time": "2023-03-18T10:12:31.367Z"
   },
   {
    "duration": 38,
    "start_time": "2023-03-18T10:12:32.180Z"
   },
   {
    "duration": 126,
    "start_time": "2023-03-18T10:12:33.071Z"
   },
   {
    "duration": 176,
    "start_time": "2023-03-18T10:12:33.506Z"
   },
   {
    "duration": 52,
    "start_time": "2023-03-18T10:12:34.128Z"
   },
   {
    "duration": 33,
    "start_time": "2023-03-18T10:12:34.566Z"
   },
   {
    "duration": 35,
    "start_time": "2023-03-18T10:12:35.076Z"
   },
   {
    "duration": 12,
    "start_time": "2023-03-18T10:12:35.566Z"
   },
   {
    "duration": 39,
    "start_time": "2023-03-18T10:12:35.869Z"
   },
   {
    "duration": 25,
    "start_time": "2023-03-18T10:12:36.380Z"
   },
   {
    "duration": 239,
    "start_time": "2023-03-18T10:12:37.256Z"
   },
   {
    "duration": 212,
    "start_time": "2023-03-18T10:12:37.576Z"
   },
   {
    "duration": 4,
    "start_time": "2023-03-18T10:12:38.713Z"
   },
   {
    "duration": 287,
    "start_time": "2023-03-18T10:12:39.080Z"
   },
   {
    "duration": 503,
    "start_time": "2023-03-18T10:12:42.523Z"
   },
   {
    "duration": 13,
    "start_time": "2023-03-18T10:12:43.064Z"
   },
   {
    "duration": 35,
    "start_time": "2023-03-18T10:12:45.276Z"
   },
   {
    "duration": 513,
    "start_time": "2023-03-18T10:12:45.968Z"
   },
   {
    "duration": 426,
    "start_time": "2023-03-18T10:12:47.690Z"
   },
   {
    "duration": 35,
    "start_time": "2023-03-18T10:12:50.162Z"
   },
   {
    "duration": 351,
    "start_time": "2023-03-18T10:12:51.275Z"
   },
   {
    "duration": 493,
    "start_time": "2023-03-18T10:12:56.468Z"
   },
   {
    "duration": 568,
    "start_time": "2023-03-18T10:12:58.001Z"
   },
   {
    "duration": 46,
    "start_time": "2023-03-18T10:13:02.201Z"
   },
   {
    "duration": 409,
    "start_time": "2023-03-18T10:13:02.878Z"
   },
   {
    "duration": 4,
    "start_time": "2023-03-18T10:13:04.184Z"
   },
   {
    "duration": 48,
    "start_time": "2023-03-18T10:13:06.801Z"
   },
   {
    "duration": 20,
    "start_time": "2023-03-18T10:13:07.617Z"
   },
   {
    "duration": 185,
    "start_time": "2023-03-18T10:13:08.399Z"
   },
   {
    "duration": 5,
    "start_time": "2023-03-18T10:13:10.276Z"
   },
   {
    "duration": 1219,
    "start_time": "2023-03-18T10:15:03.698Z"
   },
   {
    "duration": 1734,
    "start_time": "2023-03-18T10:17:15.298Z"
   },
   {
    "duration": 1176,
    "start_time": "2023-03-18T10:17:17.034Z"
   },
   {
    "duration": 249,
    "start_time": "2023-03-18T10:17:18.214Z"
   },
   {
    "duration": 57,
    "start_time": "2023-03-18T10:17:18.468Z"
   },
   {
    "duration": 164,
    "start_time": "2023-03-18T10:17:18.527Z"
   },
   {
    "duration": 59,
    "start_time": "2023-03-18T10:17:18.694Z"
   },
   {
    "duration": 127,
    "start_time": "2023-03-18T10:17:18.763Z"
   },
   {
    "duration": 178,
    "start_time": "2023-03-18T10:17:18.892Z"
   },
   {
    "duration": 36,
    "start_time": "2023-03-18T10:17:19.071Z"
   },
   {
    "duration": 55,
    "start_time": "2023-03-18T10:17:19.111Z"
   },
   {
    "duration": 82,
    "start_time": "2023-03-18T10:17:19.169Z"
   },
   {
    "duration": 58,
    "start_time": "2023-03-18T10:17:19.254Z"
   },
   {
    "duration": 55,
    "start_time": "2023-03-18T10:17:19.314Z"
   },
   {
    "duration": 47,
    "start_time": "2023-03-18T10:17:19.371Z"
   },
   {
    "duration": 328,
    "start_time": "2023-03-18T10:17:19.420Z"
   },
   {
    "duration": 241,
    "start_time": "2023-03-18T10:17:19.750Z"
   },
   {
    "duration": 5,
    "start_time": "2023-03-18T10:17:19.994Z"
   },
   {
    "duration": 364,
    "start_time": "2023-03-18T10:17:20.001Z"
   },
   {
    "duration": 521,
    "start_time": "2023-03-18T10:17:20.372Z"
   },
   {
    "duration": 8,
    "start_time": "2023-03-18T10:17:20.895Z"
   },
   {
    "duration": 57,
    "start_time": "2023-03-18T10:17:20.905Z"
   },
   {
    "duration": 589,
    "start_time": "2023-03-18T10:17:20.964Z"
   },
   {
    "duration": 452,
    "start_time": "2023-03-18T10:17:21.556Z"
   },
   {
    "duration": 72,
    "start_time": "2023-03-18T10:17:22.009Z"
   },
   {
    "duration": 487,
    "start_time": "2023-03-18T10:17:22.083Z"
   },
   {
    "duration": 490,
    "start_time": "2023-03-18T10:17:22.578Z"
   },
   {
    "duration": 565,
    "start_time": "2023-03-18T10:17:23.070Z"
   },
   {
    "duration": 34,
    "start_time": "2023-03-18T10:17:23.640Z"
   },
   {
    "duration": 463,
    "start_time": "2023-03-18T10:17:23.676Z"
   },
   {
    "duration": 5,
    "start_time": "2023-03-18T10:17:24.141Z"
   },
   {
    "duration": 75,
    "start_time": "2023-03-18T10:17:24.148Z"
   },
   {
    "duration": 37,
    "start_time": "2023-03-18T10:17:24.225Z"
   },
   {
    "duration": 199,
    "start_time": "2023-03-18T10:17:24.270Z"
   },
   {
    "duration": 6,
    "start_time": "2023-03-18T10:17:24.476Z"
   },
   {
    "duration": 1122,
    "start_time": "2023-03-18T10:17:24.484Z"
   },
   {
    "duration": 0,
    "start_time": "2023-03-18T10:17:25.610Z"
   },
   {
    "duration": 0,
    "start_time": "2023-03-18T10:17:25.611Z"
   },
   {
    "duration": 0,
    "start_time": "2023-03-18T10:17:25.612Z"
   },
   {
    "duration": 0,
    "start_time": "2023-03-18T10:17:25.613Z"
   },
   {
    "duration": 0,
    "start_time": "2023-03-18T10:17:25.615Z"
   },
   {
    "duration": 0,
    "start_time": "2023-03-18T10:17:25.617Z"
   },
   {
    "duration": 0,
    "start_time": "2023-03-18T10:17:25.619Z"
   },
   {
    "duration": 0,
    "start_time": "2023-03-18T10:17:25.632Z"
   },
   {
    "duration": 0,
    "start_time": "2023-03-18T10:17:25.635Z"
   },
   {
    "duration": 0,
    "start_time": "2023-03-18T10:17:25.636Z"
   },
   {
    "duration": 0,
    "start_time": "2023-03-18T10:17:25.637Z"
   },
   {
    "duration": 0,
    "start_time": "2023-03-18T10:17:25.638Z"
   },
   {
    "duration": 0,
    "start_time": "2023-03-18T10:17:25.638Z"
   },
   {
    "duration": 0,
    "start_time": "2023-03-18T10:17:25.639Z"
   },
   {
    "duration": 0,
    "start_time": "2023-03-18T10:17:25.640Z"
   },
   {
    "duration": 0,
    "start_time": "2023-03-18T10:17:25.641Z"
   },
   {
    "duration": 0,
    "start_time": "2023-03-18T10:17:25.644Z"
   },
   {
    "duration": 0,
    "start_time": "2023-03-18T10:17:25.645Z"
   },
   {
    "duration": 0,
    "start_time": "2023-03-18T10:17:25.652Z"
   },
   {
    "duration": 0,
    "start_time": "2023-03-18T10:17:25.656Z"
   },
   {
    "duration": 0,
    "start_time": "2023-03-18T10:17:25.657Z"
   },
   {
    "duration": 0,
    "start_time": "2023-03-18T10:17:25.658Z"
   },
   {
    "duration": 0,
    "start_time": "2023-03-18T10:17:25.659Z"
   },
   {
    "duration": 0,
    "start_time": "2023-03-18T10:17:25.660Z"
   },
   {
    "duration": 0,
    "start_time": "2023-03-18T10:17:25.662Z"
   },
   {
    "duration": 0,
    "start_time": "2023-03-18T10:17:25.663Z"
   },
   {
    "duration": 0,
    "start_time": "2023-03-18T10:17:25.664Z"
   },
   {
    "duration": 0,
    "start_time": "2023-03-18T10:17:25.671Z"
   },
   {
    "duration": 608,
    "start_time": "2023-03-18T10:18:56.807Z"
   },
   {
    "duration": 1880,
    "start_time": "2023-03-18T10:19:15.405Z"
   },
   {
    "duration": 1102,
    "start_time": "2023-03-18T10:19:17.293Z"
   },
   {
    "duration": 201,
    "start_time": "2023-03-18T10:19:18.398Z"
   },
   {
    "duration": 17,
    "start_time": "2023-03-18T10:19:18.602Z"
   },
   {
    "duration": 199,
    "start_time": "2023-03-18T10:19:18.620Z"
   },
   {
    "duration": 47,
    "start_time": "2023-03-18T10:19:18.822Z"
   },
   {
    "duration": 173,
    "start_time": "2023-03-18T10:19:18.871Z"
   },
   {
    "duration": 214,
    "start_time": "2023-03-18T10:19:19.050Z"
   },
   {
    "duration": 42,
    "start_time": "2023-03-18T10:19:19.267Z"
   },
   {
    "duration": 69,
    "start_time": "2023-03-18T10:19:19.313Z"
   },
   {
    "duration": 60,
    "start_time": "2023-03-18T10:19:19.384Z"
   },
   {
    "duration": 28,
    "start_time": "2023-03-18T10:19:19.445Z"
   },
   {
    "duration": 33,
    "start_time": "2023-03-18T10:19:19.477Z"
   },
   {
    "duration": 40,
    "start_time": "2023-03-18T10:19:19.512Z"
   },
   {
    "duration": 326,
    "start_time": "2023-03-18T10:19:19.554Z"
   },
   {
    "duration": 231,
    "start_time": "2023-03-18T10:19:19.882Z"
   },
   {
    "duration": 5,
    "start_time": "2023-03-18T10:19:20.115Z"
   },
   {
    "duration": 350,
    "start_time": "2023-03-18T10:19:20.121Z"
   },
   {
    "duration": 569,
    "start_time": "2023-03-18T10:19:20.475Z"
   },
   {
    "duration": 11,
    "start_time": "2023-03-18T10:19:21.047Z"
   },
   {
    "duration": 69,
    "start_time": "2023-03-18T10:19:21.060Z"
   },
   {
    "duration": 599,
    "start_time": "2023-03-18T10:19:21.138Z"
   },
   {
    "duration": 509,
    "start_time": "2023-03-18T10:19:21.739Z"
   },
   {
    "duration": 49,
    "start_time": "2023-03-18T10:19:22.256Z"
   },
   {
    "duration": 409,
    "start_time": "2023-03-18T10:19:22.307Z"
   },
   {
    "duration": 553,
    "start_time": "2023-03-18T10:19:22.719Z"
   },
   {
    "duration": 578,
    "start_time": "2023-03-18T10:19:23.278Z"
   },
   {
    "duration": 50,
    "start_time": "2023-03-18T10:19:23.861Z"
   },
   {
    "duration": 555,
    "start_time": "2023-03-18T10:19:23.913Z"
   },
   {
    "duration": 5,
    "start_time": "2023-03-18T10:19:24.470Z"
   },
   {
    "duration": 46,
    "start_time": "2023-03-18T10:19:24.477Z"
   },
   {
    "duration": 21,
    "start_time": "2023-03-18T10:19:24.525Z"
   },
   {
    "duration": 262,
    "start_time": "2023-03-18T10:19:24.548Z"
   },
   {
    "duration": 6,
    "start_time": "2023-03-18T10:19:24.812Z"
   },
   {
    "duration": 1362,
    "start_time": "2023-03-18T10:19:24.820Z"
   },
   {
    "duration": 0,
    "start_time": "2023-03-18T10:19:26.190Z"
   },
   {
    "duration": 0,
    "start_time": "2023-03-18T10:19:26.191Z"
   },
   {
    "duration": 0,
    "start_time": "2023-03-18T10:19:26.192Z"
   },
   {
    "duration": 0,
    "start_time": "2023-03-18T10:19:26.193Z"
   },
   {
    "duration": 0,
    "start_time": "2023-03-18T10:19:26.196Z"
   },
   {
    "duration": 0,
    "start_time": "2023-03-18T10:19:26.197Z"
   },
   {
    "duration": 0,
    "start_time": "2023-03-18T10:19:26.198Z"
   },
   {
    "duration": 0,
    "start_time": "2023-03-18T10:19:26.199Z"
   },
   {
    "duration": 0,
    "start_time": "2023-03-18T10:19:26.201Z"
   },
   {
    "duration": 0,
    "start_time": "2023-03-18T10:19:26.202Z"
   },
   {
    "duration": 0,
    "start_time": "2023-03-18T10:19:26.203Z"
   },
   {
    "duration": 0,
    "start_time": "2023-03-18T10:19:26.204Z"
   },
   {
    "duration": 1,
    "start_time": "2023-03-18T10:19:26.207Z"
   },
   {
    "duration": 0,
    "start_time": "2023-03-18T10:19:26.208Z"
   },
   {
    "duration": 0,
    "start_time": "2023-03-18T10:19:26.212Z"
   },
   {
    "duration": 0,
    "start_time": "2023-03-18T10:19:26.213Z"
   },
   {
    "duration": 0,
    "start_time": "2023-03-18T10:19:26.214Z"
   },
   {
    "duration": 0,
    "start_time": "2023-03-18T10:19:26.216Z"
   },
   {
    "duration": 0,
    "start_time": "2023-03-18T10:19:26.217Z"
   },
   {
    "duration": 0,
    "start_time": "2023-03-18T10:19:26.218Z"
   },
   {
    "duration": 0,
    "start_time": "2023-03-18T10:19:26.236Z"
   },
   {
    "duration": 0,
    "start_time": "2023-03-18T10:19:26.237Z"
   },
   {
    "duration": 0,
    "start_time": "2023-03-18T10:19:26.238Z"
   },
   {
    "duration": 0,
    "start_time": "2023-03-18T10:19:26.238Z"
   },
   {
    "duration": 0,
    "start_time": "2023-03-18T10:19:26.239Z"
   },
   {
    "duration": 0,
    "start_time": "2023-03-18T10:19:26.242Z"
   },
   {
    "duration": 0,
    "start_time": "2023-03-18T10:19:26.243Z"
   },
   {
    "duration": 0,
    "start_time": "2023-03-18T10:19:26.243Z"
   },
   {
    "duration": 616,
    "start_time": "2023-03-18T10:22:23.695Z"
   },
   {
    "duration": 1966,
    "start_time": "2023-03-18T10:22:29.903Z"
   },
   {
    "duration": 1293,
    "start_time": "2023-03-18T10:22:31.874Z"
   },
   {
    "duration": 224,
    "start_time": "2023-03-18T10:22:33.169Z"
   },
   {
    "duration": 32,
    "start_time": "2023-03-18T10:22:33.399Z"
   },
   {
    "duration": 220,
    "start_time": "2023-03-18T10:22:33.436Z"
   },
   {
    "duration": 46,
    "start_time": "2023-03-18T10:22:33.658Z"
   },
   {
    "duration": 190,
    "start_time": "2023-03-18T10:22:33.706Z"
   },
   {
    "duration": 225,
    "start_time": "2023-03-18T10:22:33.898Z"
   },
   {
    "duration": 52,
    "start_time": "2023-03-18T10:22:34.134Z"
   },
   {
    "duration": 46,
    "start_time": "2023-03-18T10:22:34.193Z"
   },
   {
    "duration": 103,
    "start_time": "2023-03-18T10:22:34.241Z"
   },
   {
    "duration": 58,
    "start_time": "2023-03-18T10:22:34.346Z"
   },
   {
    "duration": 41,
    "start_time": "2023-03-18T10:22:34.406Z"
   },
   {
    "duration": 84,
    "start_time": "2023-03-18T10:22:34.455Z"
   },
   {
    "duration": 292,
    "start_time": "2023-03-18T10:22:34.541Z"
   },
   {
    "duration": 266,
    "start_time": "2023-03-18T10:22:34.838Z"
   },
   {
    "duration": 6,
    "start_time": "2023-03-18T10:22:35.109Z"
   },
   {
    "duration": 366,
    "start_time": "2023-03-18T10:22:35.118Z"
   },
   {
    "duration": 678,
    "start_time": "2023-03-18T10:22:35.486Z"
   },
   {
    "duration": 11,
    "start_time": "2023-03-18T10:22:36.176Z"
   },
   {
    "duration": 102,
    "start_time": "2023-03-18T10:22:36.189Z"
   },
   {
    "duration": 796,
    "start_time": "2023-03-18T10:22:36.299Z"
   },
   {
    "duration": 570,
    "start_time": "2023-03-18T10:22:37.106Z"
   },
   {
    "duration": 48,
    "start_time": "2023-03-18T10:22:37.678Z"
   },
   {
    "duration": 506,
    "start_time": "2023-03-18T10:22:37.728Z"
   },
   {
    "duration": 725,
    "start_time": "2023-03-18T10:22:38.239Z"
   },
   {
    "duration": 581,
    "start_time": "2023-03-18T10:22:38.971Z"
   },
   {
    "duration": 42,
    "start_time": "2023-03-18T10:22:39.553Z"
   },
   {
    "duration": 523,
    "start_time": "2023-03-18T10:22:39.599Z"
   },
   {
    "duration": 5,
    "start_time": "2023-03-18T10:22:40.124Z"
   },
   {
    "duration": 80,
    "start_time": "2023-03-18T10:22:40.133Z"
   },
   {
    "duration": 27,
    "start_time": "2023-03-18T10:22:40.214Z"
   },
   {
    "duration": 210,
    "start_time": "2023-03-18T10:22:40.249Z"
   },
   {
    "duration": 5,
    "start_time": "2023-03-18T10:22:40.461Z"
   },
   {
    "duration": 1359,
    "start_time": "2023-03-18T10:22:40.468Z"
   },
   {
    "duration": 0,
    "start_time": "2023-03-18T10:22:41.831Z"
   },
   {
    "duration": 0,
    "start_time": "2023-03-18T10:22:41.832Z"
   },
   {
    "duration": 0,
    "start_time": "2023-03-18T10:22:41.834Z"
   },
   {
    "duration": 0,
    "start_time": "2023-03-18T10:22:41.835Z"
   },
   {
    "duration": 0,
    "start_time": "2023-03-18T10:22:41.836Z"
   },
   {
    "duration": 0,
    "start_time": "2023-03-18T10:22:41.837Z"
   },
   {
    "duration": 0,
    "start_time": "2023-03-18T10:22:41.838Z"
   },
   {
    "duration": 0,
    "start_time": "2023-03-18T10:22:41.839Z"
   },
   {
    "duration": 0,
    "start_time": "2023-03-18T10:22:41.840Z"
   },
   {
    "duration": 0,
    "start_time": "2023-03-18T10:22:41.841Z"
   },
   {
    "duration": 0,
    "start_time": "2023-03-18T10:22:41.842Z"
   },
   {
    "duration": 0,
    "start_time": "2023-03-18T10:22:41.844Z"
   },
   {
    "duration": 0,
    "start_time": "2023-03-18T10:22:41.846Z"
   },
   {
    "duration": 0,
    "start_time": "2023-03-18T10:22:41.847Z"
   },
   {
    "duration": 0,
    "start_time": "2023-03-18T10:22:41.848Z"
   },
   {
    "duration": 0,
    "start_time": "2023-03-18T10:22:41.849Z"
   },
   {
    "duration": 0,
    "start_time": "2023-03-18T10:22:41.850Z"
   },
   {
    "duration": 0,
    "start_time": "2023-03-18T10:22:41.851Z"
   },
   {
    "duration": 0,
    "start_time": "2023-03-18T10:22:41.852Z"
   },
   {
    "duration": 0,
    "start_time": "2023-03-18T10:22:41.854Z"
   },
   {
    "duration": 0,
    "start_time": "2023-03-18T10:22:41.855Z"
   },
   {
    "duration": 0,
    "start_time": "2023-03-18T10:22:41.856Z"
   },
   {
    "duration": 0,
    "start_time": "2023-03-18T10:22:41.857Z"
   },
   {
    "duration": 0,
    "start_time": "2023-03-18T10:22:41.859Z"
   },
   {
    "duration": 0,
    "start_time": "2023-03-18T10:22:41.860Z"
   },
   {
    "duration": 0,
    "start_time": "2023-03-18T10:22:41.861Z"
   },
   {
    "duration": 0,
    "start_time": "2023-03-18T10:22:41.863Z"
   },
   {
    "duration": 0,
    "start_time": "2023-03-18T10:22:41.864Z"
   },
   {
    "duration": 685,
    "start_time": "2023-03-18T10:23:51.993Z"
   },
   {
    "duration": 1978,
    "start_time": "2023-03-18T10:24:00.048Z"
   },
   {
    "duration": 1194,
    "start_time": "2023-03-18T10:24:02.030Z"
   },
   {
    "duration": 241,
    "start_time": "2023-03-18T10:24:03.230Z"
   },
   {
    "duration": 30,
    "start_time": "2023-03-18T10:24:03.477Z"
   },
   {
    "duration": 139,
    "start_time": "2023-03-18T10:24:03.510Z"
   },
   {
    "duration": 44,
    "start_time": "2023-03-18T10:24:03.651Z"
   },
   {
    "duration": 160,
    "start_time": "2023-03-18T10:24:03.697Z"
   },
   {
    "duration": 219,
    "start_time": "2023-03-18T10:24:03.859Z"
   },
   {
    "duration": 45,
    "start_time": "2023-03-18T10:24:04.082Z"
   },
   {
    "duration": 44,
    "start_time": "2023-03-18T10:24:04.129Z"
   },
   {
    "duration": 65,
    "start_time": "2023-03-18T10:24:04.178Z"
   },
   {
    "duration": 62,
    "start_time": "2023-03-18T10:24:04.245Z"
   },
   {
    "duration": 43,
    "start_time": "2023-03-18T10:24:04.310Z"
   },
   {
    "duration": 80,
    "start_time": "2023-03-18T10:24:04.358Z"
   },
   {
    "duration": 351,
    "start_time": "2023-03-18T10:24:04.439Z"
   },
   {
    "duration": 283,
    "start_time": "2023-03-18T10:24:04.796Z"
   },
   {
    "duration": 4,
    "start_time": "2023-03-18T10:24:05.081Z"
   },
   {
    "duration": 455,
    "start_time": "2023-03-18T10:24:05.088Z"
   },
   {
    "duration": 640,
    "start_time": "2023-03-18T10:24:05.546Z"
   },
   {
    "duration": 11,
    "start_time": "2023-03-18T10:24:06.188Z"
   },
   {
    "duration": 60,
    "start_time": "2023-03-18T10:24:06.201Z"
   },
   {
    "duration": 618,
    "start_time": "2023-03-18T10:24:06.263Z"
   },
   {
    "duration": 540,
    "start_time": "2023-03-18T10:24:06.883Z"
   },
   {
    "duration": 66,
    "start_time": "2023-03-18T10:24:07.428Z"
   },
   {
    "duration": 571,
    "start_time": "2023-03-18T10:24:07.498Z"
   },
   {
    "duration": 687,
    "start_time": "2023-03-18T10:24:08.075Z"
   },
   {
    "duration": 614,
    "start_time": "2023-03-18T10:24:08.768Z"
   },
   {
    "duration": 37,
    "start_time": "2023-03-18T10:24:09.389Z"
   },
   {
    "duration": 547,
    "start_time": "2023-03-18T10:24:09.430Z"
   },
   {
    "duration": 8,
    "start_time": "2023-03-18T10:24:09.983Z"
   },
   {
    "duration": 36,
    "start_time": "2023-03-18T10:24:09.993Z"
   },
   {
    "duration": 724,
    "start_time": "2023-03-18T10:24:10.031Z"
   },
   {
    "duration": 12,
    "start_time": "2023-03-18T10:24:10.761Z"
   },
   {
    "duration": 167,
    "start_time": "2023-03-18T10:24:10.783Z"
   },
   {
    "duration": 6,
    "start_time": "2023-03-18T10:24:10.952Z"
   },
   {
    "duration": 276,
    "start_time": "2023-03-18T10:24:10.960Z"
   },
   {
    "duration": 4,
    "start_time": "2023-03-18T10:24:11.239Z"
   },
   {
    "duration": 67,
    "start_time": "2023-03-18T10:24:11.246Z"
   },
   {
    "duration": 213,
    "start_time": "2023-03-18T10:24:11.317Z"
   },
   {
    "duration": 107,
    "start_time": "2023-03-18T10:24:11.532Z"
   },
   {
    "duration": 22,
    "start_time": "2023-03-18T10:24:11.660Z"
   },
   {
    "duration": 72,
    "start_time": "2023-03-18T10:24:11.738Z"
   },
   {
    "duration": 4283,
    "start_time": "2023-03-18T10:24:11.812Z"
   },
   {
    "duration": 639,
    "start_time": "2023-03-18T10:24:16.097Z"
   },
   {
    "duration": 23,
    "start_time": "2023-03-18T10:24:16.738Z"
   },
   {
    "duration": 40,
    "start_time": "2023-03-18T10:24:16.764Z"
   },
   {
    "duration": 1296316,
    "start_time": "2023-03-18T10:24:16.806Z"
   },
   {
    "duration": 0,
    "start_time": "2023-03-18T10:45:53.131Z"
   },
   {
    "duration": 0,
    "start_time": "2023-03-18T10:45:53.132Z"
   },
   {
    "duration": 0,
    "start_time": "2023-03-18T10:45:53.134Z"
   },
   {
    "duration": 0,
    "start_time": "2023-03-18T10:45:53.135Z"
   },
   {
    "duration": 0,
    "start_time": "2023-03-18T10:45:53.136Z"
   },
   {
    "duration": 0,
    "start_time": "2023-03-18T10:45:53.137Z"
   },
   {
    "duration": 0,
    "start_time": "2023-03-18T10:45:53.139Z"
   },
   {
    "duration": 0,
    "start_time": "2023-03-18T10:45:53.140Z"
   },
   {
    "duration": 0,
    "start_time": "2023-03-18T10:45:53.141Z"
   },
   {
    "duration": 0,
    "start_time": "2023-03-18T10:45:53.142Z"
   },
   {
    "duration": 0,
    "start_time": "2023-03-18T10:45:53.144Z"
   },
   {
    "duration": 0,
    "start_time": "2023-03-18T10:45:53.145Z"
   },
   {
    "duration": 0,
    "start_time": "2023-03-18T10:45:53.146Z"
   },
   {
    "duration": 0,
    "start_time": "2023-03-18T10:45:53.148Z"
   },
   {
    "duration": 0,
    "start_time": "2023-03-18T10:45:53.149Z"
   },
   {
    "duration": 0,
    "start_time": "2023-03-18T10:45:53.150Z"
   },
   {
    "duration": 1757,
    "start_time": "2023-03-18T10:48:40.729Z"
   },
   {
    "duration": 1087,
    "start_time": "2023-03-18T10:48:42.489Z"
   },
   {
    "duration": 208,
    "start_time": "2023-03-18T10:48:43.586Z"
   },
   {
    "duration": 24,
    "start_time": "2023-03-18T10:48:43.796Z"
   },
   {
    "duration": 181,
    "start_time": "2023-03-18T10:48:43.823Z"
   },
   {
    "duration": 43,
    "start_time": "2023-03-18T10:48:44.006Z"
   },
   {
    "duration": 161,
    "start_time": "2023-03-18T10:48:44.051Z"
   },
   {
    "duration": 180,
    "start_time": "2023-03-18T10:48:44.214Z"
   },
   {
    "duration": 21,
    "start_time": "2023-03-18T10:48:44.396Z"
   },
   {
    "duration": 36,
    "start_time": "2023-03-18T10:48:44.419Z"
   },
   {
    "duration": 64,
    "start_time": "2023-03-18T10:48:44.457Z"
   },
   {
    "duration": 25,
    "start_time": "2023-03-18T10:48:44.522Z"
   },
   {
    "duration": 69,
    "start_time": "2023-03-18T10:48:44.549Z"
   },
   {
    "duration": 85,
    "start_time": "2023-03-18T10:48:44.623Z"
   },
   {
    "duration": 265,
    "start_time": "2023-03-18T10:48:44.710Z"
   },
   {
    "duration": 208,
    "start_time": "2023-03-18T10:48:44.979Z"
   },
   {
    "duration": 4,
    "start_time": "2023-03-18T10:48:45.190Z"
   },
   {
    "duration": 340,
    "start_time": "2023-03-18T10:48:45.196Z"
   },
   {
    "duration": 580,
    "start_time": "2023-03-18T10:48:45.542Z"
   },
   {
    "duration": 13,
    "start_time": "2023-03-18T10:48:46.124Z"
   },
   {
    "duration": 86,
    "start_time": "2023-03-18T10:48:46.140Z"
   },
   {
    "duration": 586,
    "start_time": "2023-03-18T10:48:46.228Z"
   },
   {
    "duration": 517,
    "start_time": "2023-03-18T10:48:46.817Z"
   },
   {
    "duration": 48,
    "start_time": "2023-03-18T10:48:47.339Z"
   },
   {
    "duration": 422,
    "start_time": "2023-03-18T10:48:47.389Z"
   },
   {
    "duration": 603,
    "start_time": "2023-03-18T10:48:47.813Z"
   },
   {
    "duration": 472,
    "start_time": "2023-03-18T10:48:48.418Z"
   },
   {
    "duration": 30,
    "start_time": "2023-03-18T10:48:48.892Z"
   },
   {
    "duration": 431,
    "start_time": "2023-03-18T10:48:48.923Z"
   },
   {
    "duration": 6,
    "start_time": "2023-03-18T10:48:49.358Z"
   },
   {
    "duration": 47,
    "start_time": "2023-03-18T10:48:49.365Z"
   },
   {
    "duration": 20,
    "start_time": "2023-03-18T10:48:49.414Z"
   },
   {
    "duration": 212,
    "start_time": "2023-03-18T10:48:49.435Z"
   },
   {
    "duration": 10,
    "start_time": "2023-03-18T10:48:49.649Z"
   },
   {
    "duration": 1127,
    "start_time": "2023-03-18T10:48:49.661Z"
   },
   {
    "duration": 0,
    "start_time": "2023-03-18T10:48:50.791Z"
   },
   {
    "duration": 0,
    "start_time": "2023-03-18T10:48:50.793Z"
   },
   {
    "duration": 0,
    "start_time": "2023-03-18T10:48:50.794Z"
   },
   {
    "duration": 0,
    "start_time": "2023-03-18T10:48:50.795Z"
   },
   {
    "duration": 0,
    "start_time": "2023-03-18T10:48:50.796Z"
   },
   {
    "duration": 1,
    "start_time": "2023-03-18T10:48:50.797Z"
   },
   {
    "duration": 0,
    "start_time": "2023-03-18T10:48:50.799Z"
   },
   {
    "duration": 0,
    "start_time": "2023-03-18T10:48:50.801Z"
   },
   {
    "duration": 0,
    "start_time": "2023-03-18T10:48:50.802Z"
   },
   {
    "duration": 0,
    "start_time": "2023-03-18T10:48:50.803Z"
   },
   {
    "duration": 0,
    "start_time": "2023-03-18T10:48:50.804Z"
   },
   {
    "duration": 0,
    "start_time": "2023-03-18T10:48:50.804Z"
   },
   {
    "duration": 0,
    "start_time": "2023-03-18T10:48:50.805Z"
   },
   {
    "duration": 0,
    "start_time": "2023-03-18T10:48:50.807Z"
   },
   {
    "duration": 0,
    "start_time": "2023-03-18T10:48:50.807Z"
   },
   {
    "duration": 0,
    "start_time": "2023-03-18T10:48:50.809Z"
   },
   {
    "duration": 0,
    "start_time": "2023-03-18T10:48:50.836Z"
   },
   {
    "duration": 0,
    "start_time": "2023-03-18T10:48:50.836Z"
   },
   {
    "duration": 0,
    "start_time": "2023-03-18T10:48:50.841Z"
   },
   {
    "duration": 0,
    "start_time": "2023-03-18T10:48:50.842Z"
   },
   {
    "duration": 0,
    "start_time": "2023-03-18T10:48:50.843Z"
   },
   {
    "duration": 0,
    "start_time": "2023-03-18T10:48:50.846Z"
   },
   {
    "duration": 0,
    "start_time": "2023-03-18T10:48:50.847Z"
   },
   {
    "duration": 0,
    "start_time": "2023-03-18T10:48:50.850Z"
   },
   {
    "duration": 0,
    "start_time": "2023-03-18T10:48:50.854Z"
   },
   {
    "duration": 0,
    "start_time": "2023-03-18T10:48:50.861Z"
   },
   {
    "duration": 0,
    "start_time": "2023-03-18T10:48:50.864Z"
   },
   {
    "duration": 0,
    "start_time": "2023-03-18T10:48:50.870Z"
   },
   {
    "duration": 613,
    "start_time": "2023-03-18T14:45:15.151Z"
   },
   {
    "duration": 1742,
    "start_time": "2023-03-18T14:45:38.013Z"
   },
   {
    "duration": 1670,
    "start_time": "2023-03-18T14:45:39.759Z"
   },
   {
    "duration": 208,
    "start_time": "2023-03-18T14:45:41.438Z"
   },
   {
    "duration": 39,
    "start_time": "2023-03-18T14:45:41.657Z"
   },
   {
    "duration": 128,
    "start_time": "2023-03-18T14:45:41.698Z"
   },
   {
    "duration": 44,
    "start_time": "2023-03-18T14:45:41.828Z"
   },
   {
    "duration": 141,
    "start_time": "2023-03-18T14:45:41.877Z"
   },
   {
    "duration": 224,
    "start_time": "2023-03-18T14:45:42.021Z"
   },
   {
    "duration": 44,
    "start_time": "2023-03-18T14:45:42.255Z"
   },
   {
    "duration": 50,
    "start_time": "2023-03-18T14:45:42.303Z"
   },
   {
    "duration": 45,
    "start_time": "2023-03-18T14:45:42.368Z"
   },
   {
    "duration": 12,
    "start_time": "2023-03-18T14:45:42.415Z"
   },
   {
    "duration": 57,
    "start_time": "2023-03-18T14:45:42.429Z"
   },
   {
    "duration": 30,
    "start_time": "2023-03-18T14:45:42.491Z"
   },
   {
    "duration": 288,
    "start_time": "2023-03-18T14:45:42.523Z"
   },
   {
    "duration": 256,
    "start_time": "2023-03-18T14:45:42.813Z"
   },
   {
    "duration": 5,
    "start_time": "2023-03-18T14:45:43.070Z"
   },
   {
    "duration": 348,
    "start_time": "2023-03-18T14:45:43.077Z"
   },
   {
    "duration": 569,
    "start_time": "2023-03-18T14:45:43.427Z"
   },
   {
    "duration": 9,
    "start_time": "2023-03-18T14:45:43.998Z"
   },
   {
    "duration": 68,
    "start_time": "2023-03-18T14:45:44.009Z"
   },
   {
    "duration": 542,
    "start_time": "2023-03-18T14:45:44.086Z"
   },
   {
    "duration": 461,
    "start_time": "2023-03-18T14:45:44.630Z"
   },
   {
    "duration": 48,
    "start_time": "2023-03-18T14:45:45.094Z"
   },
   {
    "duration": 363,
    "start_time": "2023-03-18T14:45:45.150Z"
   },
   {
    "duration": 473,
    "start_time": "2023-03-18T14:45:45.515Z"
   },
   {
    "duration": 568,
    "start_time": "2023-03-18T14:45:45.990Z"
   },
   {
    "duration": 35,
    "start_time": "2023-03-18T14:45:46.563Z"
   },
   {
    "duration": 610,
    "start_time": "2023-03-18T14:45:46.600Z"
   },
   {
    "duration": 21,
    "start_time": "2023-03-18T14:45:47.212Z"
   },
   {
    "duration": 36,
    "start_time": "2023-03-18T14:45:47.246Z"
   },
   {
    "duration": 684,
    "start_time": "2023-03-18T14:45:47.287Z"
   },
   {
    "duration": 9,
    "start_time": "2023-03-18T14:45:47.972Z"
   },
   {
    "duration": 126,
    "start_time": "2023-03-18T14:45:47.983Z"
   },
   {
    "duration": 8,
    "start_time": "2023-03-18T14:45:48.111Z"
   },
   {
    "duration": 248,
    "start_time": "2023-03-18T14:45:48.122Z"
   },
   {
    "duration": 2,
    "start_time": "2023-03-18T14:45:48.372Z"
   },
   {
    "duration": 7,
    "start_time": "2023-03-18T14:45:48.376Z"
   },
   {
    "duration": 73,
    "start_time": "2023-03-18T14:45:48.385Z"
   },
   {
    "duration": 80,
    "start_time": "2023-03-18T14:45:48.464Z"
   },
   {
    "duration": 125,
    "start_time": "2023-03-18T14:45:48.564Z"
   },
   {
    "duration": 12,
    "start_time": "2023-03-18T14:45:48.691Z"
   },
   {
    "duration": 3741,
    "start_time": "2023-03-18T14:45:48.705Z"
   },
   {
    "duration": 423,
    "start_time": "2023-03-18T14:45:52.447Z"
   },
   {
    "duration": 17,
    "start_time": "2023-03-18T14:45:52.872Z"
   },
   {
    "duration": 4,
    "start_time": "2023-03-18T14:45:52.891Z"
   },
   {
    "duration": 2667770,
    "start_time": "2023-03-18T14:45:52.897Z"
   },
   {
    "duration": 32043,
    "start_time": "2023-03-18T15:30:20.669Z"
   },
   {
    "duration": 834,
    "start_time": "2023-03-18T15:30:52.713Z"
   },
   {
    "duration": 20,
    "start_time": "2023-03-18T15:30:53.555Z"
   },
   {
    "duration": 4792920,
    "start_time": "2023-03-18T15:30:53.586Z"
   },
   {
    "duration": 0,
    "start_time": "2023-03-18T16:50:46.508Z"
   },
   {
    "duration": 0,
    "start_time": "2023-03-18T16:50:46.511Z"
   },
   {
    "duration": 0,
    "start_time": "2023-03-18T16:50:46.512Z"
   },
   {
    "duration": 0,
    "start_time": "2023-03-18T16:50:46.514Z"
   },
   {
    "duration": 0,
    "start_time": "2023-03-18T16:50:46.516Z"
   },
   {
    "duration": 0,
    "start_time": "2023-03-18T16:50:46.518Z"
   },
   {
    "duration": 0,
    "start_time": "2023-03-18T16:50:46.519Z"
   },
   {
    "duration": 0,
    "start_time": "2023-03-18T16:50:46.521Z"
   },
   {
    "duration": 0,
    "start_time": "2023-03-18T16:50:46.523Z"
   },
   {
    "duration": 0,
    "start_time": "2023-03-18T16:50:46.525Z"
   },
   {
    "duration": 0,
    "start_time": "2023-03-18T16:50:46.527Z"
   },
   {
    "duration": 0,
    "start_time": "2023-03-18T16:50:46.528Z"
   },
   {
    "duration": 31,
    "start_time": "2023-03-18T16:53:36.226Z"
   },
   {
    "duration": 1800,
    "start_time": "2023-03-18T16:54:13.316Z"
   },
   {
    "duration": 1266,
    "start_time": "2023-03-18T16:54:15.119Z"
   },
   {
    "duration": 218,
    "start_time": "2023-03-18T16:54:16.386Z"
   },
   {
    "duration": 17,
    "start_time": "2023-03-18T16:54:16.606Z"
   },
   {
    "duration": 149,
    "start_time": "2023-03-18T16:54:16.630Z"
   },
   {
    "duration": 35,
    "start_time": "2023-03-18T16:54:16.781Z"
   },
   {
    "duration": 195,
    "start_time": "2023-03-18T16:54:16.818Z"
   },
   {
    "duration": 210,
    "start_time": "2023-03-18T16:54:17.015Z"
   },
   {
    "duration": 60,
    "start_time": "2023-03-18T16:54:17.227Z"
   },
   {
    "duration": 70,
    "start_time": "2023-03-18T16:54:17.289Z"
   },
   {
    "duration": 63,
    "start_time": "2023-03-18T16:54:17.361Z"
   },
   {
    "duration": 24,
    "start_time": "2023-03-18T16:54:17.426Z"
   },
   {
    "duration": 96,
    "start_time": "2023-03-18T16:54:17.455Z"
   },
   {
    "duration": 80,
    "start_time": "2023-03-18T16:54:17.558Z"
   },
   {
    "duration": 281,
    "start_time": "2023-03-18T16:54:17.640Z"
   },
   {
    "duration": 250,
    "start_time": "2023-03-18T16:54:17.923Z"
   },
   {
    "duration": 9,
    "start_time": "2023-03-18T16:54:18.178Z"
   },
   {
    "duration": 368,
    "start_time": "2023-03-18T16:54:18.194Z"
   },
   {
    "duration": 572,
    "start_time": "2023-03-18T16:54:18.563Z"
   },
   {
    "duration": 15,
    "start_time": "2023-03-18T16:54:19.137Z"
   },
   {
    "duration": 97,
    "start_time": "2023-03-18T16:54:19.154Z"
   },
   {
    "duration": 547,
    "start_time": "2023-03-18T16:54:19.253Z"
   },
   {
    "duration": 444,
    "start_time": "2023-03-18T16:54:19.802Z"
   },
   {
    "duration": 48,
    "start_time": "2023-03-18T16:54:20.251Z"
   },
   {
    "duration": 375,
    "start_time": "2023-03-18T16:54:20.301Z"
   },
   {
    "duration": 596,
    "start_time": "2023-03-18T16:54:20.678Z"
   },
   {
    "duration": 469,
    "start_time": "2023-03-18T16:54:21.276Z"
   },
   {
    "duration": 52,
    "start_time": "2023-03-18T16:54:21.747Z"
   },
   {
    "duration": 552,
    "start_time": "2023-03-18T16:54:21.802Z"
   },
   {
    "duration": 7,
    "start_time": "2023-03-18T16:54:22.358Z"
   },
   {
    "duration": 39,
    "start_time": "2023-03-18T16:54:22.367Z"
   },
   {
    "duration": 19,
    "start_time": "2023-03-18T16:54:22.407Z"
   },
   {
    "duration": 226,
    "start_time": "2023-03-18T16:54:22.428Z"
   },
   {
    "duration": 7,
    "start_time": "2023-03-18T16:54:22.660Z"
   },
   {
    "duration": 233,
    "start_time": "2023-03-18T16:54:22.671Z"
   },
   {
    "duration": 0,
    "start_time": "2023-03-18T16:54:22.907Z"
   },
   {
    "duration": 0,
    "start_time": "2023-03-18T16:54:22.908Z"
   },
   {
    "duration": 0,
    "start_time": "2023-03-18T16:54:22.909Z"
   },
   {
    "duration": 0,
    "start_time": "2023-03-18T16:54:22.910Z"
   },
   {
    "duration": 0,
    "start_time": "2023-03-18T16:54:22.912Z"
   },
   {
    "duration": 0,
    "start_time": "2023-03-18T16:54:22.914Z"
   },
   {
    "duration": 0,
    "start_time": "2023-03-18T16:54:22.915Z"
   },
   {
    "duration": 0,
    "start_time": "2023-03-18T16:54:22.917Z"
   },
   {
    "duration": 0,
    "start_time": "2023-03-18T16:54:22.943Z"
   },
   {
    "duration": 0,
    "start_time": "2023-03-18T16:54:22.944Z"
   },
   {
    "duration": 0,
    "start_time": "2023-03-18T16:54:22.944Z"
   },
   {
    "duration": 0,
    "start_time": "2023-03-18T16:54:22.945Z"
   },
   {
    "duration": 0,
    "start_time": "2023-03-18T16:54:22.946Z"
   },
   {
    "duration": 0,
    "start_time": "2023-03-18T16:54:22.946Z"
   },
   {
    "duration": 0,
    "start_time": "2023-03-18T16:54:22.947Z"
   },
   {
    "duration": 0,
    "start_time": "2023-03-18T16:54:22.948Z"
   },
   {
    "duration": 0,
    "start_time": "2023-03-18T16:54:22.948Z"
   },
   {
    "duration": 0,
    "start_time": "2023-03-18T16:54:22.949Z"
   },
   {
    "duration": 0,
    "start_time": "2023-03-18T16:54:22.950Z"
   },
   {
    "duration": 0,
    "start_time": "2023-03-18T16:54:22.950Z"
   },
   {
    "duration": 0,
    "start_time": "2023-03-18T16:54:22.953Z"
   },
   {
    "duration": 0,
    "start_time": "2023-03-18T16:54:22.958Z"
   },
   {
    "duration": 0,
    "start_time": "2023-03-18T16:54:22.959Z"
   },
   {
    "duration": 0,
    "start_time": "2023-03-18T16:54:22.960Z"
   },
   {
    "duration": 0,
    "start_time": "2023-03-18T16:54:22.974Z"
   },
   {
    "duration": 0,
    "start_time": "2023-03-18T16:54:22.975Z"
   },
   {
    "duration": 0,
    "start_time": "2023-03-18T16:54:22.976Z"
   },
   {
    "duration": 0,
    "start_time": "2023-03-18T16:54:22.977Z"
   },
   {
    "duration": 15,
    "start_time": "2023-03-18T17:04:20.566Z"
   },
   {
    "duration": 11,
    "start_time": "2023-03-18T17:04:25.574Z"
   },
   {
    "duration": 108,
    "start_time": "2023-03-18T17:04:55.914Z"
   },
   {
    "duration": 84,
    "start_time": "2023-03-18T17:05:04.929Z"
   },
   {
    "duration": 1642,
    "start_time": "2023-03-18T17:05:12.718Z"
   },
   {
    "duration": 1020,
    "start_time": "2023-03-18T17:05:14.368Z"
   },
   {
    "duration": 189,
    "start_time": "2023-03-18T17:05:15.390Z"
   },
   {
    "duration": 24,
    "start_time": "2023-03-18T17:05:15.582Z"
   },
   {
    "duration": 142,
    "start_time": "2023-03-18T17:05:15.609Z"
   },
   {
    "duration": 46,
    "start_time": "2023-03-18T17:05:15.753Z"
   },
   {
    "duration": 123,
    "start_time": "2023-03-18T17:05:15.801Z"
   },
   {
    "duration": 223,
    "start_time": "2023-03-18T17:05:15.926Z"
   },
   {
    "duration": 36,
    "start_time": "2023-03-18T17:05:16.156Z"
   },
   {
    "duration": 25,
    "start_time": "2023-03-18T17:05:16.193Z"
   },
   {
    "duration": 44,
    "start_time": "2023-03-18T17:05:16.219Z"
   },
   {
    "duration": 28,
    "start_time": "2023-03-18T17:05:16.267Z"
   },
   {
    "duration": 31,
    "start_time": "2023-03-18T17:05:16.297Z"
   },
   {
    "duration": 50,
    "start_time": "2023-03-18T17:05:16.332Z"
   },
   {
    "duration": 294,
    "start_time": "2023-03-18T17:05:16.384Z"
   },
   {
    "duration": 266,
    "start_time": "2023-03-18T17:05:16.681Z"
   },
   {
    "duration": 14,
    "start_time": "2023-03-18T17:05:16.949Z"
   },
   {
    "duration": 384,
    "start_time": "2023-03-18T17:05:16.974Z"
   },
   {
    "duration": 545,
    "start_time": "2023-03-18T17:05:17.360Z"
   },
   {
    "duration": 10,
    "start_time": "2023-03-18T17:05:17.907Z"
   },
   {
    "duration": 52,
    "start_time": "2023-03-18T17:05:17.931Z"
   },
   {
    "duration": 481,
    "start_time": "2023-03-18T17:05:17.984Z"
   },
   {
    "duration": 426,
    "start_time": "2023-03-18T17:05:18.466Z"
   },
   {
    "duration": 52,
    "start_time": "2023-03-18T17:05:18.894Z"
   },
   {
    "duration": 446,
    "start_time": "2023-03-18T17:05:18.948Z"
   },
   {
    "duration": 564,
    "start_time": "2023-03-18T17:05:19.396Z"
   },
   {
    "duration": 490,
    "start_time": "2023-03-18T17:05:19.962Z"
   },
   {
    "duration": 50,
    "start_time": "2023-03-18T17:05:20.454Z"
   },
   {
    "duration": 446,
    "start_time": "2023-03-18T17:05:20.507Z"
   },
   {
    "duration": 5,
    "start_time": "2023-03-18T17:05:20.955Z"
   },
   {
    "duration": 23,
    "start_time": "2023-03-18T17:05:20.962Z"
   },
   {
    "duration": 22,
    "start_time": "2023-03-18T17:05:20.986Z"
   },
   {
    "duration": 222,
    "start_time": "2023-03-18T17:05:21.010Z"
   },
   {
    "duration": 9,
    "start_time": "2023-03-18T17:05:21.238Z"
   },
   {
    "duration": 225,
    "start_time": "2023-03-18T17:05:21.252Z"
   },
   {
    "duration": 0,
    "start_time": "2023-03-18T17:05:21.482Z"
   },
   {
    "duration": 1,
    "start_time": "2023-03-18T17:05:21.483Z"
   },
   {
    "duration": 0,
    "start_time": "2023-03-18T17:05:21.485Z"
   },
   {
    "duration": 0,
    "start_time": "2023-03-18T17:05:21.486Z"
   },
   {
    "duration": 0,
    "start_time": "2023-03-18T17:05:21.487Z"
   },
   {
    "duration": 0,
    "start_time": "2023-03-18T17:05:21.488Z"
   },
   {
    "duration": 0,
    "start_time": "2023-03-18T17:05:21.489Z"
   },
   {
    "duration": 0,
    "start_time": "2023-03-18T17:05:21.490Z"
   },
   {
    "duration": 0,
    "start_time": "2023-03-18T17:05:21.491Z"
   },
   {
    "duration": 0,
    "start_time": "2023-03-18T17:05:21.492Z"
   },
   {
    "duration": 0,
    "start_time": "2023-03-18T17:05:21.493Z"
   },
   {
    "duration": 0,
    "start_time": "2023-03-18T17:05:21.494Z"
   },
   {
    "duration": 0,
    "start_time": "2023-03-18T17:05:21.495Z"
   },
   {
    "duration": 0,
    "start_time": "2023-03-18T17:05:21.496Z"
   },
   {
    "duration": 0,
    "start_time": "2023-03-18T17:05:21.497Z"
   },
   {
    "duration": 0,
    "start_time": "2023-03-18T17:05:21.498Z"
   },
   {
    "duration": 0,
    "start_time": "2023-03-18T17:05:21.500Z"
   },
   {
    "duration": 0,
    "start_time": "2023-03-18T17:05:21.501Z"
   },
   {
    "duration": 0,
    "start_time": "2023-03-18T17:05:21.540Z"
   },
   {
    "duration": 0,
    "start_time": "2023-03-18T17:05:21.541Z"
   },
   {
    "duration": 0,
    "start_time": "2023-03-18T17:05:21.542Z"
   },
   {
    "duration": 0,
    "start_time": "2023-03-18T17:05:21.544Z"
   },
   {
    "duration": 0,
    "start_time": "2023-03-18T17:05:21.545Z"
   },
   {
    "duration": 0,
    "start_time": "2023-03-18T17:05:21.546Z"
   },
   {
    "duration": 0,
    "start_time": "2023-03-18T17:05:21.546Z"
   },
   {
    "duration": 0,
    "start_time": "2023-03-18T17:05:21.547Z"
   },
   {
    "duration": 0,
    "start_time": "2023-03-18T17:05:21.550Z"
   },
   {
    "duration": 0,
    "start_time": "2023-03-18T17:05:21.552Z"
   },
   {
    "duration": 79,
    "start_time": "2023-03-18T17:12:28.203Z"
   },
   {
    "duration": 127,
    "start_time": "2023-03-18T17:19:10.873Z"
   },
   {
    "duration": 119,
    "start_time": "2023-03-18T17:21:42.874Z"
   },
   {
    "duration": 1551,
    "start_time": "2023-03-18T17:21:48.864Z"
   },
   {
    "duration": 1057,
    "start_time": "2023-03-18T17:21:50.417Z"
   },
   {
    "duration": 191,
    "start_time": "2023-03-18T17:21:51.476Z"
   },
   {
    "duration": 20,
    "start_time": "2023-03-18T17:21:51.669Z"
   },
   {
    "duration": 150,
    "start_time": "2023-03-18T17:21:51.692Z"
   },
   {
    "duration": 49,
    "start_time": "2023-03-18T17:21:51.844Z"
   },
   {
    "duration": 120,
    "start_time": "2023-03-18T17:21:51.896Z"
   },
   {
    "duration": 179,
    "start_time": "2023-03-18T17:21:52.018Z"
   },
   {
    "duration": 56,
    "start_time": "2023-03-18T17:21:52.199Z"
   },
   {
    "duration": 35,
    "start_time": "2023-03-18T17:21:52.262Z"
   },
   {
    "duration": 49,
    "start_time": "2023-03-18T17:21:52.299Z"
   },
   {
    "duration": 37,
    "start_time": "2023-03-18T17:21:52.351Z"
   },
   {
    "duration": 24,
    "start_time": "2023-03-18T17:21:52.390Z"
   },
   {
    "duration": 49,
    "start_time": "2023-03-18T17:21:52.417Z"
   },
   {
    "duration": 261,
    "start_time": "2023-03-18T17:21:52.468Z"
   },
   {
    "duration": 221,
    "start_time": "2023-03-18T17:21:52.732Z"
   },
   {
    "duration": 5,
    "start_time": "2023-03-18T17:21:52.955Z"
   },
   {
    "duration": 318,
    "start_time": "2023-03-18T17:21:52.962Z"
   },
   {
    "duration": 529,
    "start_time": "2023-03-18T17:21:53.283Z"
   },
   {
    "duration": 23,
    "start_time": "2023-03-18T17:21:53.814Z"
   },
   {
    "duration": 61,
    "start_time": "2023-03-18T17:21:53.838Z"
   },
   {
    "duration": 749,
    "start_time": "2023-03-18T17:21:53.901Z"
   },
   {
    "duration": 492,
    "start_time": "2023-03-18T17:21:54.653Z"
   },
   {
    "duration": 56,
    "start_time": "2023-03-18T17:21:55.147Z"
   },
   {
    "duration": 376,
    "start_time": "2023-03-18T17:21:55.206Z"
   },
   {
    "duration": 584,
    "start_time": "2023-03-18T17:21:55.584Z"
   },
   {
    "duration": 480,
    "start_time": "2023-03-18T17:21:56.177Z"
   },
   {
    "duration": 37,
    "start_time": "2023-03-18T17:21:56.659Z"
   },
   {
    "duration": 503,
    "start_time": "2023-03-18T17:21:56.699Z"
   },
   {
    "duration": 5,
    "start_time": "2023-03-18T17:21:57.203Z"
   },
   {
    "duration": 50,
    "start_time": "2023-03-18T17:21:57.209Z"
   },
   {
    "duration": 19,
    "start_time": "2023-03-18T17:21:57.261Z"
   },
   {
    "duration": 180,
    "start_time": "2023-03-18T17:21:57.282Z"
   },
   {
    "duration": 7,
    "start_time": "2023-03-18T17:21:57.470Z"
   },
   {
    "duration": 201,
    "start_time": "2023-03-18T17:21:57.480Z"
   },
   {
    "duration": 0,
    "start_time": "2023-03-18T17:21:57.684Z"
   },
   {
    "duration": 0,
    "start_time": "2023-03-18T17:21:57.685Z"
   },
   {
    "duration": 0,
    "start_time": "2023-03-18T17:21:57.686Z"
   },
   {
    "duration": 0,
    "start_time": "2023-03-18T17:21:57.687Z"
   },
   {
    "duration": 0,
    "start_time": "2023-03-18T17:21:57.688Z"
   },
   {
    "duration": 0,
    "start_time": "2023-03-18T17:21:57.689Z"
   },
   {
    "duration": 0,
    "start_time": "2023-03-18T17:21:57.690Z"
   },
   {
    "duration": 0,
    "start_time": "2023-03-18T17:21:57.691Z"
   },
   {
    "duration": 0,
    "start_time": "2023-03-18T17:21:57.692Z"
   },
   {
    "duration": 0,
    "start_time": "2023-03-18T17:21:57.693Z"
   },
   {
    "duration": 0,
    "start_time": "2023-03-18T17:21:57.694Z"
   },
   {
    "duration": 0,
    "start_time": "2023-03-18T17:21:57.695Z"
   },
   {
    "duration": 0,
    "start_time": "2023-03-18T17:21:57.696Z"
   },
   {
    "duration": 0,
    "start_time": "2023-03-18T17:21:57.697Z"
   },
   {
    "duration": 0,
    "start_time": "2023-03-18T17:21:57.699Z"
   },
   {
    "duration": 0,
    "start_time": "2023-03-18T17:21:57.700Z"
   },
   {
    "duration": 0,
    "start_time": "2023-03-18T17:21:57.701Z"
   },
   {
    "duration": 0,
    "start_time": "2023-03-18T17:21:57.702Z"
   },
   {
    "duration": 0,
    "start_time": "2023-03-18T17:21:57.702Z"
   },
   {
    "duration": 0,
    "start_time": "2023-03-18T17:21:57.703Z"
   },
   {
    "duration": 0,
    "start_time": "2023-03-18T17:21:57.734Z"
   },
   {
    "duration": 0,
    "start_time": "2023-03-18T17:21:57.735Z"
   },
   {
    "duration": 0,
    "start_time": "2023-03-18T17:21:57.736Z"
   },
   {
    "duration": 0,
    "start_time": "2023-03-18T17:21:57.736Z"
   },
   {
    "duration": 0,
    "start_time": "2023-03-18T17:21:57.737Z"
   },
   {
    "duration": 0,
    "start_time": "2023-03-18T17:21:57.745Z"
   },
   {
    "duration": 0,
    "start_time": "2023-03-18T17:21:57.746Z"
   },
   {
    "duration": 0,
    "start_time": "2023-03-18T17:21:57.747Z"
   },
   {
    "duration": 89,
    "start_time": "2023-03-18T17:22:49.606Z"
   },
   {
    "duration": 72,
    "start_time": "2023-03-18T17:23:29.453Z"
   },
   {
    "duration": 170,
    "start_time": "2023-03-18T17:24:52.623Z"
   },
   {
    "duration": 42,
    "start_time": "2023-03-18T17:25:43.127Z"
   },
   {
    "duration": 1783,
    "start_time": "2023-03-18T17:26:18.537Z"
   },
   {
    "duration": 750,
    "start_time": "2023-03-18T17:26:35.695Z"
   },
   {
    "duration": 812,
    "start_time": "2023-03-18T17:27:39.362Z"
   },
   {
    "duration": 733,
    "start_time": "2023-03-18T17:27:46.146Z"
   },
   {
    "duration": 690,
    "start_time": "2023-03-18T17:28:23.107Z"
   },
   {
    "duration": 825,
    "start_time": "2023-03-18T17:28:37.662Z"
   },
   {
    "duration": 621,
    "start_time": "2023-03-18T17:28:50.099Z"
   },
   {
    "duration": 721,
    "start_time": "2023-03-18T17:28:56.302Z"
   },
   {
    "duration": 695,
    "start_time": "2023-03-18T17:29:23.001Z"
   },
   {
    "duration": 739,
    "start_time": "2023-03-18T17:30:08.709Z"
   },
   {
    "duration": 268,
    "start_time": "2023-03-18T17:30:14.225Z"
   },
   {
    "duration": 1874,
    "start_time": "2023-03-18T17:30:26.263Z"
   },
   {
    "duration": 1193,
    "start_time": "2023-03-18T17:30:28.139Z"
   },
   {
    "duration": 236,
    "start_time": "2023-03-18T17:30:29.334Z"
   },
   {
    "duration": 58,
    "start_time": "2023-03-18T17:30:29.572Z"
   },
   {
    "duration": 186,
    "start_time": "2023-03-18T17:30:29.641Z"
   },
   {
    "duration": 46,
    "start_time": "2023-03-18T17:30:29.829Z"
   },
   {
    "duration": 180,
    "start_time": "2023-03-18T17:30:29.877Z"
   },
   {
    "duration": 304,
    "start_time": "2023-03-18T17:30:30.061Z"
   },
   {
    "duration": 41,
    "start_time": "2023-03-18T17:30:30.371Z"
   },
   {
    "duration": 81,
    "start_time": "2023-03-18T17:30:30.414Z"
   },
   {
    "duration": 94,
    "start_time": "2023-03-18T17:30:30.502Z"
   },
   {
    "duration": 46,
    "start_time": "2023-03-18T17:30:30.605Z"
   },
   {
    "duration": 151,
    "start_time": "2023-03-18T17:30:30.656Z"
   },
   {
    "duration": 72,
    "start_time": "2023-03-18T17:30:30.811Z"
   },
   {
    "duration": 381,
    "start_time": "2023-03-18T17:30:30.885Z"
   },
   {
    "duration": 287,
    "start_time": "2023-03-18T17:30:31.267Z"
   },
   {
    "duration": 5,
    "start_time": "2023-03-18T17:30:31.556Z"
   },
   {
    "duration": 500,
    "start_time": "2023-03-18T17:30:31.563Z"
   },
   {
    "duration": 654,
    "start_time": "2023-03-18T17:30:32.069Z"
   },
   {
    "duration": 17,
    "start_time": "2023-03-18T17:30:32.725Z"
   },
   {
    "duration": 112,
    "start_time": "2023-03-18T17:30:32.748Z"
   },
   {
    "duration": 659,
    "start_time": "2023-03-18T17:30:32.866Z"
   },
   {
    "duration": 590,
    "start_time": "2023-03-18T17:30:33.527Z"
   },
   {
    "duration": 85,
    "start_time": "2023-03-18T17:30:34.127Z"
   },
   {
    "duration": 532,
    "start_time": "2023-03-18T17:30:34.218Z"
   },
   {
    "duration": 726,
    "start_time": "2023-03-18T17:30:34.762Z"
   },
   {
    "duration": 621,
    "start_time": "2023-03-18T17:30:35.493Z"
   },
   {
    "duration": 54,
    "start_time": "2023-03-18T17:30:36.117Z"
   },
   {
    "duration": 650,
    "start_time": "2023-03-18T17:30:36.173Z"
   },
   {
    "duration": 4,
    "start_time": "2023-03-18T17:30:36.830Z"
   },
   {
    "duration": 28,
    "start_time": "2023-03-18T17:30:36.836Z"
   },
   {
    "duration": 60,
    "start_time": "2023-03-18T17:30:36.867Z"
   },
   {
    "duration": 255,
    "start_time": "2023-03-18T17:30:36.930Z"
   },
   {
    "duration": 8,
    "start_time": "2023-03-18T17:30:37.191Z"
   },
   {
    "duration": 1726,
    "start_time": "2023-03-18T17:30:37.202Z"
   },
   {
    "duration": 204,
    "start_time": "2023-03-18T17:30:38.932Z"
   },
   {
    "duration": 6,
    "start_time": "2023-03-18T17:30:39.141Z"
   },
   {
    "duration": 62,
    "start_time": "2023-03-18T17:30:39.149Z"
   },
   {
    "duration": 96,
    "start_time": "2023-03-18T17:30:39.213Z"
   },
   {
    "duration": 48,
    "start_time": "2023-03-18T17:30:39.311Z"
   },
   {
    "duration": 118,
    "start_time": "2023-03-18T17:30:39.384Z"
   },
   {
    "duration": 6,
    "start_time": "2023-03-18T17:30:39.504Z"
   },
   {
    "duration": 4211,
    "start_time": "2023-03-18T17:30:39.512Z"
   },
   {
    "duration": 514,
    "start_time": "2023-03-18T17:30:43.725Z"
   },
   {
    "duration": 43,
    "start_time": "2023-03-18T17:30:44.249Z"
   },
   {
    "duration": 6,
    "start_time": "2023-03-18T17:30:44.300Z"
   },
   {
    "duration": 2755070,
    "start_time": "2023-03-18T17:30:44.310Z"
   },
   {
    "duration": 27012,
    "start_time": "2023-03-18T18:16:39.382Z"
   },
   {
    "duration": 861,
    "start_time": "2023-03-18T18:17:06.395Z"
   },
   {
    "duration": 4,
    "start_time": "2023-03-18T18:17:07.264Z"
   },
   {
    "duration": 1573,
    "start_time": "2023-03-18T23:11:04.395Z"
   },
   {
    "duration": 1398,
    "start_time": "2023-03-18T23:11:05.972Z"
   },
   {
    "duration": 173,
    "start_time": "2023-03-18T23:11:07.374Z"
   },
   {
    "duration": 25,
    "start_time": "2023-03-18T23:11:07.549Z"
   },
   {
    "duration": 144,
    "start_time": "2023-03-18T23:11:07.575Z"
   },
   {
    "duration": 50,
    "start_time": "2023-03-18T23:11:07.720Z"
   },
   {
    "duration": 119,
    "start_time": "2023-03-18T23:11:07.772Z"
   },
   {
    "duration": 158,
    "start_time": "2023-03-18T23:11:07.892Z"
   },
   {
    "duration": 40,
    "start_time": "2023-03-18T23:11:08.052Z"
   },
   {
    "duration": 21,
    "start_time": "2023-03-18T23:11:08.095Z"
   },
   {
    "duration": 41,
    "start_time": "2023-03-18T23:11:08.133Z"
   },
   {
    "duration": 14,
    "start_time": "2023-03-18T23:11:08.180Z"
   },
   {
    "duration": 23,
    "start_time": "2023-03-18T23:11:08.196Z"
   },
   {
    "duration": 50,
    "start_time": "2023-03-18T23:11:08.233Z"
   },
   {
    "duration": 264,
    "start_time": "2023-03-18T23:11:08.284Z"
   },
   {
    "duration": 196,
    "start_time": "2023-03-18T23:11:08.556Z"
   },
   {
    "duration": 17,
    "start_time": "2023-03-18T23:11:08.754Z"
   },
   {
    "duration": 352,
    "start_time": "2023-03-18T23:11:08.776Z"
   },
   {
    "duration": 474,
    "start_time": "2023-03-18T23:11:09.130Z"
   },
   {
    "duration": 8,
    "start_time": "2023-03-18T23:11:09.606Z"
   },
   {
    "duration": 65,
    "start_time": "2023-03-18T23:11:09.615Z"
   },
   {
    "duration": 491,
    "start_time": "2023-03-18T23:11:09.682Z"
   },
   {
    "duration": 394,
    "start_time": "2023-03-18T23:11:10.177Z"
   },
   {
    "duration": 41,
    "start_time": "2023-03-18T23:11:10.574Z"
   },
   {
    "duration": 358,
    "start_time": "2023-03-18T23:11:10.616Z"
   },
   {
    "duration": 488,
    "start_time": "2023-03-18T23:11:10.978Z"
   },
   {
    "duration": 537,
    "start_time": "2023-03-18T23:11:11.468Z"
   },
   {
    "duration": 48,
    "start_time": "2023-03-18T23:11:12.008Z"
   },
   {
    "duration": 421,
    "start_time": "2023-03-18T23:11:12.058Z"
   },
   {
    "duration": 4,
    "start_time": "2023-03-18T23:11:12.481Z"
   },
   {
    "duration": 28,
    "start_time": "2023-03-18T23:11:12.486Z"
   },
   {
    "duration": 29,
    "start_time": "2023-03-18T23:11:12.516Z"
   },
   {
    "duration": 185,
    "start_time": "2023-03-18T23:11:12.550Z"
   },
   {
    "duration": 12,
    "start_time": "2023-03-18T23:11:12.737Z"
   },
   {
    "duration": 1359,
    "start_time": "2023-03-18T23:11:12.751Z"
   },
   {
    "duration": 163,
    "start_time": "2023-03-18T23:11:14.112Z"
   },
   {
    "duration": 3,
    "start_time": "2023-03-18T23:11:14.277Z"
   },
   {
    "duration": 7,
    "start_time": "2023-03-18T23:11:14.282Z"
   },
   {
    "duration": 63,
    "start_time": "2023-03-18T23:11:14.290Z"
   },
   {
    "duration": 116,
    "start_time": "2023-03-18T23:11:14.355Z"
   },
   {
    "duration": 8,
    "start_time": "2023-03-18T23:11:14.532Z"
   },
   {
    "duration": 40,
    "start_time": "2023-03-18T23:11:14.542Z"
   },
   {
    "duration": 3582,
    "start_time": "2023-03-18T23:11:14.584Z"
   },
   {
    "duration": 434,
    "start_time": "2023-03-18T23:11:18.173Z"
   },
   {
    "duration": 37,
    "start_time": "2023-03-18T23:11:18.608Z"
   },
   {
    "duration": 18,
    "start_time": "2023-03-18T23:11:18.659Z"
   },
   {
    "duration": 2411565,
    "start_time": "2023-03-18T23:11:18.679Z"
   },
   {
    "duration": 27540,
    "start_time": "2023-03-18T23:51:30.257Z"
   },
   {
    "duration": 812,
    "start_time": "2023-03-18T23:51:57.798Z"
   },
   {
    "duration": 3,
    "start_time": "2023-03-18T23:51:58.611Z"
   },
   {
    "duration": 0,
    "start_time": "2023-03-19T15:58:05.971Z"
   },
   {
    "duration": 0,
    "start_time": "2023-03-19T15:58:05.973Z"
   },
   {
    "duration": 0,
    "start_time": "2023-03-19T15:58:05.974Z"
   },
   {
    "duration": 0,
    "start_time": "2023-03-19T15:58:05.978Z"
   },
   {
    "duration": 0,
    "start_time": "2023-03-19T15:58:05.980Z"
   },
   {
    "duration": 0,
    "start_time": "2023-03-19T15:58:05.981Z"
   },
   {
    "duration": 0,
    "start_time": "2023-03-19T15:58:05.982Z"
   },
   {
    "duration": 0,
    "start_time": "2023-03-19T15:58:05.983Z"
   },
   {
    "duration": 0,
    "start_time": "2023-03-19T15:58:05.985Z"
   },
   {
    "duration": 0,
    "start_time": "2023-03-19T15:58:05.987Z"
   },
   {
    "duration": 0,
    "start_time": "2023-03-19T15:58:05.989Z"
   },
   {
    "duration": 0,
    "start_time": "2023-03-19T15:58:05.990Z"
   },
   {
    "duration": 0,
    "start_time": "2023-03-19T15:58:05.993Z"
   },
   {
    "duration": 14582,
    "start_time": "2023-03-19T15:58:16.179Z"
   },
   {
    "duration": 7,
    "start_time": "2023-03-19T15:58:38.708Z"
   },
   {
    "duration": 257739,
    "start_time": "2023-03-19T15:59:01.842Z"
   },
   {
    "duration": 2087,
    "start_time": "2023-03-19T16:03:19.583Z"
   },
   {
    "duration": 2,
    "start_time": "2023-03-19T16:03:21.672Z"
   },
   {
    "duration": 6,
    "start_time": "2023-03-19T16:03:21.731Z"
   },
   {
    "duration": 22,
    "start_time": "2023-03-19T16:03:21.739Z"
   },
   {
    "duration": 13,
    "start_time": "2023-03-19T16:03:21.763Z"
   },
   {
    "duration": 11,
    "start_time": "2023-03-19T16:03:21.777Z"
   },
   {
    "duration": 116,
    "start_time": "2023-03-19T16:03:21.790Z"
   },
   {
    "duration": 17,
    "start_time": "2023-03-19T16:03:21.907Z"
   },
   {
    "duration": 5,
    "start_time": "2023-03-19T16:03:21.927Z"
   },
   {
    "duration": 31,
    "start_time": "2023-03-19T16:03:21.934Z"
   },
   {
    "duration": 0,
    "start_time": "2023-03-19T16:03:21.966Z"
   },
   {
    "duration": 394,
    "start_time": "2023-03-19T16:03:37.649Z"
   },
   {
    "duration": 314,
    "start_time": "2023-03-19T16:03:47.049Z"
   },
   {
    "duration": 337,
    "start_time": "2023-03-19T16:04:19.427Z"
   },
   {
    "duration": 4,
    "start_time": "2023-03-19T16:04:38.280Z"
   },
   {
    "duration": 1387,
    "start_time": "2023-03-19T16:06:27.300Z"
   },
   {
    "duration": 1084,
    "start_time": "2023-03-19T16:06:28.689Z"
   },
   {
    "duration": 138,
    "start_time": "2023-03-19T16:06:29.776Z"
   },
   {
    "duration": 20,
    "start_time": "2023-03-19T16:06:29.915Z"
   },
   {
    "duration": 135,
    "start_time": "2023-03-19T16:06:29.938Z"
   },
   {
    "duration": 43,
    "start_time": "2023-03-19T16:06:30.075Z"
   },
   {
    "duration": 92,
    "start_time": "2023-03-19T16:06:30.120Z"
   },
   {
    "duration": 162,
    "start_time": "2023-03-19T16:06:30.214Z"
   },
   {
    "duration": 21,
    "start_time": "2023-03-19T16:06:30.378Z"
   },
   {
    "duration": 42,
    "start_time": "2023-03-19T16:06:30.400Z"
   },
   {
    "duration": 43,
    "start_time": "2023-03-19T16:06:30.443Z"
   },
   {
    "duration": 28,
    "start_time": "2023-03-19T16:06:30.487Z"
   },
   {
    "duration": 42,
    "start_time": "2023-03-19T16:06:30.517Z"
   },
   {
    "duration": 40,
    "start_time": "2023-03-19T16:06:30.562Z"
   },
   {
    "duration": 216,
    "start_time": "2023-03-19T16:06:30.603Z"
   },
   {
    "duration": 172,
    "start_time": "2023-03-19T16:06:30.821Z"
   },
   {
    "duration": 4,
    "start_time": "2023-03-19T16:06:30.994Z"
   },
   {
    "duration": 320,
    "start_time": "2023-03-19T16:06:30.999Z"
   },
   {
    "duration": 396,
    "start_time": "2023-03-19T16:06:31.321Z"
   },
   {
    "duration": 13,
    "start_time": "2023-03-19T16:06:31.718Z"
   },
   {
    "duration": 53,
    "start_time": "2023-03-19T16:06:31.733Z"
   },
   {
    "duration": 430,
    "start_time": "2023-03-19T16:06:31.788Z"
   },
   {
    "duration": 327,
    "start_time": "2023-03-19T16:06:32.219Z"
   },
   {
    "duration": 39,
    "start_time": "2023-03-19T16:06:32.548Z"
   },
   {
    "duration": 291,
    "start_time": "2023-03-19T16:06:32.588Z"
   },
   {
    "duration": 476,
    "start_time": "2023-03-19T16:06:32.881Z"
   },
   {
    "duration": 374,
    "start_time": "2023-03-19T16:06:33.359Z"
   },
   {
    "duration": 31,
    "start_time": "2023-03-19T16:06:33.735Z"
   },
   {
    "duration": 370,
    "start_time": "2023-03-19T16:06:33.768Z"
   },
   {
    "duration": 4,
    "start_time": "2023-03-19T16:06:34.139Z"
   },
   {
    "duration": 27,
    "start_time": "2023-03-19T16:06:34.145Z"
   },
   {
    "duration": 17,
    "start_time": "2023-03-19T16:06:34.174Z"
   },
   {
    "duration": 174,
    "start_time": "2023-03-19T16:06:34.192Z"
   },
   {
    "duration": 5,
    "start_time": "2023-03-19T16:06:34.367Z"
   },
   {
    "duration": 1104,
    "start_time": "2023-03-19T16:06:34.373Z"
   },
   {
    "duration": 122,
    "start_time": "2023-03-19T16:06:35.478Z"
   },
   {
    "duration": 3,
    "start_time": "2023-03-19T16:06:35.602Z"
   },
   {
    "duration": 5,
    "start_time": "2023-03-19T16:06:35.607Z"
   },
   {
    "duration": 61,
    "start_time": "2023-03-19T16:06:35.613Z"
   },
   {
    "duration": 56,
    "start_time": "2023-03-19T16:06:35.677Z"
   },
   {
    "duration": 101,
    "start_time": "2023-03-19T16:06:35.739Z"
   },
   {
    "duration": 7,
    "start_time": "2023-03-19T16:06:35.842Z"
   },
   {
    "duration": 3059,
    "start_time": "2023-03-19T16:06:35.850Z"
   },
   {
    "duration": 360,
    "start_time": "2023-03-19T16:06:38.911Z"
   },
   {
    "duration": 20,
    "start_time": "2023-03-19T16:06:39.273Z"
   },
   {
    "duration": 4,
    "start_time": "2023-03-19T16:06:39.295Z"
   },
   {
    "duration": 25013,
    "start_time": "2023-03-19T16:06:39.300Z"
   },
   {
    "duration": 25115,
    "start_time": "2023-03-19T16:07:04.315Z"
   },
   {
    "duration": 857,
    "start_time": "2023-03-19T16:07:29.432Z"
   },
   {
    "duration": 3,
    "start_time": "2023-03-19T16:07:30.291Z"
   },
   {
    "duration": 1280623,
    "start_time": "2023-03-19T16:07:30.295Z"
   },
   {
    "duration": 0,
    "start_time": "2023-03-19T16:28:50.919Z"
   },
   {
    "duration": 0,
    "start_time": "2023-03-19T16:28:50.921Z"
   },
   {
    "duration": 0,
    "start_time": "2023-03-19T16:28:50.931Z"
   },
   {
    "duration": 0,
    "start_time": "2023-03-19T16:28:50.932Z"
   },
   {
    "duration": 0,
    "start_time": "2023-03-19T16:28:50.933Z"
   },
   {
    "duration": 0,
    "start_time": "2023-03-19T16:28:50.934Z"
   },
   {
    "duration": 0,
    "start_time": "2023-03-19T16:28:50.936Z"
   },
   {
    "duration": 0,
    "start_time": "2023-03-19T16:28:50.937Z"
   },
   {
    "duration": 0,
    "start_time": "2023-03-19T16:28:50.938Z"
   },
   {
    "duration": 0,
    "start_time": "2023-03-19T16:28:50.939Z"
   },
   {
    "duration": 0,
    "start_time": "2023-03-19T16:28:50.940Z"
   },
   {
    "duration": 0,
    "start_time": "2023-03-19T16:28:50.941Z"
   },
   {
    "duration": 1681350,
    "start_time": "2023-03-19T16:29:06.503Z"
   },
   {
    "duration": 6777700,
    "start_time": "2023-03-19T16:57:37.089Z"
   },
   {
    "duration": 7637434,
    "start_time": "2023-03-19T20:26:44.921Z"
   },
   {
    "duration": 10519,
    "start_time": "2023-03-19T22:34:02.357Z"
   },
   {
    "duration": 3,
    "start_time": "2023-03-19T22:34:12.878Z"
   },
   {
    "duration": 5,
    "start_time": "2023-03-19T23:01:06.245Z"
   },
   {
    "duration": 12,
    "start_time": "2023-03-19T23:01:07.142Z"
   },
   {
    "duration": 3,
    "start_time": "2023-03-19T23:02:02.014Z"
   },
   {
    "duration": 3,
    "start_time": "2023-03-19T23:02:32.966Z"
   },
   {
    "duration": 3,
    "start_time": "2023-03-19T23:03:06.852Z"
   },
   {
    "duration": 3,
    "start_time": "2023-03-19T23:04:59.651Z"
   },
   {
    "duration": 9,
    "start_time": "2023-03-19T23:05:07.743Z"
   },
   {
    "duration": 4,
    "start_time": "2023-03-19T23:05:28.899Z"
   },
   {
    "duration": 9,
    "start_time": "2023-03-19T23:05:29.347Z"
   },
   {
    "duration": 9,
    "start_time": "2023-03-19T23:06:05.314Z"
   },
   {
    "duration": 10,
    "start_time": "2023-03-19T23:06:11.906Z"
   },
   {
    "duration": 86,
    "start_time": "2023-03-19T23:06:13.370Z"
   },
   {
    "duration": 95,
    "start_time": "2023-03-19T23:06:46.946Z"
   },
   {
    "duration": 9,
    "start_time": "2023-03-19T23:07:10.699Z"
   },
   {
    "duration": 102,
    "start_time": "2023-03-19T23:07:11.610Z"
   },
   {
    "duration": 7,
    "start_time": "2023-03-19T23:07:53.170Z"
   },
   {
    "duration": 92,
    "start_time": "2023-03-19T23:08:03.306Z"
   },
   {
    "duration": 5,
    "start_time": "2023-03-19T23:08:41.059Z"
   },
   {
    "duration": 15,
    "start_time": "2023-03-19T23:09:52.697Z"
   },
   {
    "duration": 105,
    "start_time": "2023-03-19T23:09:53.777Z"
   },
   {
    "duration": 14,
    "start_time": "2023-03-19T23:11:12.705Z"
   },
   {
    "duration": 14,
    "start_time": "2023-03-19T23:11:17.985Z"
   },
   {
    "duration": 30,
    "start_time": "2023-03-19T23:11:52.793Z"
   },
   {
    "duration": 144,
    "start_time": "2023-03-19T23:11:53.673Z"
   },
   {
    "duration": 4,
    "start_time": "2023-03-19T23:11:54.264Z"
   },
   {
    "duration": 1047,
    "start_time": "2023-03-19T23:11:56.904Z"
   },
   {
    "duration": 132,
    "start_time": "2023-03-19T23:12:01.104Z"
   },
   {
    "duration": 15,
    "start_time": "2023-03-19T23:12:13.705Z"
   },
   {
    "duration": 466,
    "start_time": "2023-03-19T23:12:15.408Z"
   },
   {
    "duration": 16,
    "start_time": "2023-03-19T23:12:19.321Z"
   },
   {
    "duration": 5,
    "start_time": "2023-03-19T23:12:20.336Z"
   },
   {
    "duration": 5,
    "start_time": "2023-03-19T23:12:58.072Z"
   },
   {
    "duration": 4,
    "start_time": "2023-03-19T23:12:58.696Z"
   }
  ],
  "kernelspec": {
   "display_name": "Python 3 (ipykernel)",
   "language": "python",
   "name": "python3"
  },
  "language_info": {
   "codemirror_mode": {
    "name": "ipython",
    "version": 3
   },
   "file_extension": ".py",
   "mimetype": "text/x-python",
   "name": "python",
   "nbconvert_exporter": "python",
   "pygments_lexer": "ipython3",
   "version": "3.9.12"
  },
  "toc": {
   "base_numbering": 1,
   "nav_menu": {},
   "number_sections": true,
   "sideBar": true,
   "skip_h1_title": true,
   "title_cell": "Table of Contents",
   "title_sidebar": "Contents",
   "toc_cell": false,
   "toc_position": {},
   "toc_section_display": true,
   "toc_window_display": false
  }
 },
 "nbformat": 4,
 "nbformat_minor": 2
}
